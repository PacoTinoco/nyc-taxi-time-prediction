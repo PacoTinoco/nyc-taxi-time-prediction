{
 "cells": [
  {
   "cell_type": "code",
   "outputs": [],
   "source": [
    "import pandas as pd         \n",
    "import numpy as np           \n",
    "from sklearn.model_selection import train_test_split  \n",
    "from sklearn.metrics import mean_squared_error  "
   ],
   "metadata": {
    "collapsed": false,
    "ExecuteTime": {
     "end_time": "2024-09-20T21:56:16.544063200Z",
     "start_time": "2024-09-20T21:56:15.512525500Z"
    }
   },
   "id": "5bc6c1e44981146e",
   "execution_count": 3
  },
  {
   "cell_type": "code",
   "outputs": [],
   "source": [
    "import mlflow\n",
    "mlflow.set_tracking_uri(\"sqlite:///mlflow.db\")  "
   ],
   "metadata": {
    "collapsed": true,
    "ExecuteTime": {
     "end_time": "2024-09-20T19:55:39.249328400Z",
     "start_time": "2024-09-20T19:55:35.273106700Z"
    }
   },
   "id": "initial_id",
   "execution_count": 1
  },
  {
   "cell_type": "code",
   "outputs": [
    {
     "name": "stderr",
     "output_type": "stream",
     "text": [
      "  % Total    % Received % Xferd  Average Speed   Time    Time     Time  Current\n",
      "                                 Dload  Upload   Total   Spent    Left  Speed\n",
      "\n",
      "  0     0    0     0    0     0      0      0 --:--:-- --:--:-- --:--:--     0\n",
      " 16 1330k   16  222k    0     0   555k      0  0:00:02 --:--:--  0:00:02  558k\n",
      "100 1330k  100 1330k    0     0  1035k      0  0:00:01  0:00:01 --:--:-- 1038k\n",
      "  % Total    % Received % Xferd  Average Speed   Time    Time     Time  Current\n",
      "                                 Dload  Upload   Total   Spent    Left  Speed\n",
      "\n",
      "  0     0    0     0    0     0      0      0 --:--:-- --:--:-- --:--:--     0\n",
      "  0     0    0     0    0     0      0      0 --:--:-- --:--:-- --:--:--     0\n",
      " 87 1253k   87 1101k    0     0  1034k      0  0:00:01  0:00:01 --:--:-- 1037k\n",
      "100 1253k  100 1253k    0     0  1053k      0  0:00:01  0:00:01 --:--:-- 1055k\n"
     ]
    }
   ],
   "source": [
    "# Download files using curl\n",
    "!curl -o ../data/green_tripdata_2024-01.parquet https://d37ci6vzurychx.cloudfront.net/trip-data/green_tripdata_2024-01.parquet\n",
    "!curl -o ../data/green_tripdata_2024-02.parquet https://d37ci6vzurychx.cloudfront.net/trip-data/green_tripdata_2024-02.parquet"
   ],
   "metadata": {
    "collapsed": false,
    "ExecuteTime": {
     "end_time": "2024-09-20T21:56:27.246671Z",
     "start_time": "2024-09-20T21:56:24.648042800Z"
    }
   },
   "id": "747dbec6bb87dcbe",
   "execution_count": 4
  },
  {
   "cell_type": "code",
   "outputs": [],
   "source": [
    "import pandas as pd\n",
    "import numpy as np\n",
    "from sklearn.model_selection import train_test_split\n",
    "from sklearn.metrics import mean_squared_error\n",
    "from sklearn.ensemble import GradientBoostingRegressor\n",
    "import pickle\n",
    "from sklearn.metrics import  root_mean_squared_error\n",
    "from sklearn.feature_extraction import  DictVectorizer"
   ],
   "metadata": {
    "collapsed": false,
    "ExecuteTime": {
     "end_time": "2024-09-20T21:56:32.217823900Z",
     "start_time": "2024-09-20T21:56:32.112513700Z"
    }
   },
   "id": "1ebe229b4168bde1",
   "execution_count": 5
  },
  {
   "cell_type": "code",
   "outputs": [],
   "source": [
    "def read_dataframe(filename):\n",
    "\n",
    "    df = pd.read_parquet(filename)\n",
    "\n",
    "    df['duration'] = df.lpep_dropoff_datetime - df.lpep_pickup_datetime\n",
    "    df.duration = df.duration.apply(lambda td: td.total_seconds() / 60)\n",
    "\n",
    "    df = df[(df.duration >= 1) & (df.duration <= 60)]\n",
    "\n",
    "    categorical = ['PULocationID', 'DOLocationID']\n",
    "    df[categorical] = df[categorical].astype(str)\n",
    "\n",
    "    return df"
   ],
   "metadata": {
    "collapsed": false,
    "ExecuteTime": {
     "end_time": "2024-09-20T21:56:34.874834200Z",
     "start_time": "2024-09-20T21:56:34.866971Z"
    }
   },
   "id": "16ab0898c996eef1",
   "execution_count": 6
  },
  {
   "cell_type": "code",
   "outputs": [],
   "source": [
    "df_train = read_dataframe('../data/green_tripdata_2024-01.parquet')\n",
    "df_val = read_dataframe('../data/green_tripdata_2024-02.parquet')"
   ],
   "metadata": {
    "collapsed": false,
    "ExecuteTime": {
     "end_time": "2024-09-20T21:56:38.980167100Z",
     "start_time": "2024-09-20T21:56:37.669462300Z"
    }
   },
   "id": "f2466b6722eac3d4",
   "execution_count": 7
  },
  {
   "cell_type": "code",
   "outputs": [
    {
     "data": {
      "text/plain": "   VendorID lpep_pickup_datetime lpep_dropoff_datetime store_and_fwd_flag  \\\n0         2  2024-02-01 00:15:53   2024-02-01 00:24:20                  N   \n1         2  2024-01-31 22:59:22   2024-01-31 23:27:14                  N   \n2         2  2024-02-01 00:30:29   2024-02-01 00:35:32                  N   \n3         2  2024-01-31 23:56:42   2024-02-01 00:06:53                  N   \n5         2  2024-02-01 00:06:23   2024-02-01 00:10:10                  N   \n\n   RatecodeID PULocationID DOLocationID  passenger_count  trip_distance  \\\n0         1.0           75          161              1.0           2.77   \n1         1.0           43          242              1.0           7.76   \n2         1.0           75          238              1.0           1.03   \n3         1.0           80           17              2.0           1.36   \n5         1.0           97           25              1.0           0.34   \n\n   fare_amount  ...  tip_amount  tolls_amount  ehail_fee  \\\n0         13.5  ...        3.75           0.0        NaN   \n1         36.6  ...        0.00           0.0        NaN   \n2          7.9  ...        2.60           0.0        NaN   \n3         11.4  ...        4.17           0.0        NaN   \n5          5.1  ...        0.00           0.0        NaN   \n\n   improvement_surcharge  total_amount  payment_type  trip_type  \\\n0                    1.0         22.50           1.0        1.0   \n1                    1.0         39.10           2.0        1.0   \n2                    1.0         13.00           1.0        1.0   \n3                    1.0         18.07           1.0        1.0   \n5                    1.0          7.60           2.0        1.0   \n\n   congestion_surcharge   duration   PU_DO  \n0                  2.75   8.450000  75_161  \n1                  0.00  27.866667  43_242  \n2                  0.00   5.050000  75_238  \n3                  0.00  10.183333   80_17  \n5                  0.00   3.783333   97_25  \n\n[5 rows x 22 columns]",
      "text/html": "<div>\n<style scoped>\n    .dataframe tbody tr th:only-of-type {\n        vertical-align: middle;\n    }\n\n    .dataframe tbody tr th {\n        vertical-align: top;\n    }\n\n    .dataframe thead th {\n        text-align: right;\n    }\n</style>\n<table border=\"1\" class=\"dataframe\">\n  <thead>\n    <tr style=\"text-align: right;\">\n      <th></th>\n      <th>VendorID</th>\n      <th>lpep_pickup_datetime</th>\n      <th>lpep_dropoff_datetime</th>\n      <th>store_and_fwd_flag</th>\n      <th>RatecodeID</th>\n      <th>PULocationID</th>\n      <th>DOLocationID</th>\n      <th>passenger_count</th>\n      <th>trip_distance</th>\n      <th>fare_amount</th>\n      <th>...</th>\n      <th>tip_amount</th>\n      <th>tolls_amount</th>\n      <th>ehail_fee</th>\n      <th>improvement_surcharge</th>\n      <th>total_amount</th>\n      <th>payment_type</th>\n      <th>trip_type</th>\n      <th>congestion_surcharge</th>\n      <th>duration</th>\n      <th>PU_DO</th>\n    </tr>\n  </thead>\n  <tbody>\n    <tr>\n      <th>0</th>\n      <td>2</td>\n      <td>2024-02-01 00:15:53</td>\n      <td>2024-02-01 00:24:20</td>\n      <td>N</td>\n      <td>1.0</td>\n      <td>75</td>\n      <td>161</td>\n      <td>1.0</td>\n      <td>2.77</td>\n      <td>13.5</td>\n      <td>...</td>\n      <td>3.75</td>\n      <td>0.0</td>\n      <td>NaN</td>\n      <td>1.0</td>\n      <td>22.50</td>\n      <td>1.0</td>\n      <td>1.0</td>\n      <td>2.75</td>\n      <td>8.450000</td>\n      <td>75_161</td>\n    </tr>\n    <tr>\n      <th>1</th>\n      <td>2</td>\n      <td>2024-01-31 22:59:22</td>\n      <td>2024-01-31 23:27:14</td>\n      <td>N</td>\n      <td>1.0</td>\n      <td>43</td>\n      <td>242</td>\n      <td>1.0</td>\n      <td>7.76</td>\n      <td>36.6</td>\n      <td>...</td>\n      <td>0.00</td>\n      <td>0.0</td>\n      <td>NaN</td>\n      <td>1.0</td>\n      <td>39.10</td>\n      <td>2.0</td>\n      <td>1.0</td>\n      <td>0.00</td>\n      <td>27.866667</td>\n      <td>43_242</td>\n    </tr>\n    <tr>\n      <th>2</th>\n      <td>2</td>\n      <td>2024-02-01 00:30:29</td>\n      <td>2024-02-01 00:35:32</td>\n      <td>N</td>\n      <td>1.0</td>\n      <td>75</td>\n      <td>238</td>\n      <td>1.0</td>\n      <td>1.03</td>\n      <td>7.9</td>\n      <td>...</td>\n      <td>2.60</td>\n      <td>0.0</td>\n      <td>NaN</td>\n      <td>1.0</td>\n      <td>13.00</td>\n      <td>1.0</td>\n      <td>1.0</td>\n      <td>0.00</td>\n      <td>5.050000</td>\n      <td>75_238</td>\n    </tr>\n    <tr>\n      <th>3</th>\n      <td>2</td>\n      <td>2024-01-31 23:56:42</td>\n      <td>2024-02-01 00:06:53</td>\n      <td>N</td>\n      <td>1.0</td>\n      <td>80</td>\n      <td>17</td>\n      <td>2.0</td>\n      <td>1.36</td>\n      <td>11.4</td>\n      <td>...</td>\n      <td>4.17</td>\n      <td>0.0</td>\n      <td>NaN</td>\n      <td>1.0</td>\n      <td>18.07</td>\n      <td>1.0</td>\n      <td>1.0</td>\n      <td>0.00</td>\n      <td>10.183333</td>\n      <td>80_17</td>\n    </tr>\n    <tr>\n      <th>5</th>\n      <td>2</td>\n      <td>2024-02-01 00:06:23</td>\n      <td>2024-02-01 00:10:10</td>\n      <td>N</td>\n      <td>1.0</td>\n      <td>97</td>\n      <td>25</td>\n      <td>1.0</td>\n      <td>0.34</td>\n      <td>5.1</td>\n      <td>...</td>\n      <td>0.00</td>\n      <td>0.0</td>\n      <td>NaN</td>\n      <td>1.0</td>\n      <td>7.60</td>\n      <td>2.0</td>\n      <td>1.0</td>\n      <td>0.00</td>\n      <td>3.783333</td>\n      <td>97_25</td>\n    </tr>\n  </tbody>\n</table>\n<p>5 rows × 22 columns</p>\n</div>"
     },
     "execution_count": 44,
     "metadata": {},
     "output_type": "execute_result"
    }
   ],
   "source": [
    "df_val.head()"
   ],
   "metadata": {
    "collapsed": false,
    "ExecuteTime": {
     "end_time": "2024-09-20T23:03:55.908353800Z",
     "start_time": "2024-09-20T23:03:55.852094900Z"
    }
   },
   "id": "1aae2410bbb0850a",
   "execution_count": 44
  },
  {
   "cell_type": "code",
   "outputs": [],
   "source": [
    "df_train['PU_DO'] = df_train['PULocationID'] + '_' + df_train['DOLocationID']\n",
    "df_val['PU_DO'] = df_val['PULocationID'] + '_' + df_val['DOLocationID']"
   ],
   "metadata": {
    "collapsed": false,
    "ExecuteTime": {
     "end_time": "2024-09-20T21:56:40.497035700Z",
     "start_time": "2024-09-20T21:56:40.484945900Z"
    }
   },
   "id": "16ce742e2438979c",
   "execution_count": 8
  },
  {
   "cell_type": "code",
   "outputs": [],
   "source": [
    "categorical = ['PU_DO']  #'PULocationID', 'DOLocationID']\n",
    "numerical = ['trip_distance']\n",
    "dv = DictVectorizer()\n",
    "\n",
    "train_dicts = df_train[categorical + numerical].to_dict(orient='records')\n",
    "X_train = dv.fit_transform(train_dicts)\n",
    "\n",
    "val_dicts = df_val[categorical + numerical].to_dict(orient='records')\n",
    "X_val = dv.transform(val_dicts)"
   ],
   "metadata": {
    "collapsed": false,
    "ExecuteTime": {
     "end_time": "2024-09-20T21:56:43.069807600Z",
     "start_time": "2024-09-20T21:56:42.802596Z"
    }
   },
   "id": "8743398ef27a5996",
   "execution_count": 9
  },
  {
   "cell_type": "code",
   "outputs": [],
   "source": [
    "target = 'duration'\n",
    "y_train = df_train[target].values\n",
    "y_val = df_val[target].values"
   ],
   "metadata": {
    "collapsed": false,
    "ExecuteTime": {
     "end_time": "2024-09-20T21:56:45.410329500Z",
     "start_time": "2024-09-20T21:56:45.403217600Z"
    }
   },
   "id": "3abf76956a7e1769",
   "execution_count": 10
  },
  {
   "cell_type": "markdown",
   "source": [
    "## Para el modelo Gradient Boosting:"
   ],
   "metadata": {
    "collapsed": false
   },
   "id": "e69aa97c2377a442"
  },
  {
   "cell_type": "code",
   "outputs": [
    {
     "name": "stderr",
     "output_type": "stream",
     "text": [
      "2024/09/20 16:05:23 INFO mlflow.tracking.fluent: Experiment with name 'Gradient Boosting Experiment' does not exist. Creating a new experiment.\n"
     ]
    },
    {
     "data": {
      "text/plain": "<Experiment: artifact_location='mlflow-artifacts:/92863f65ec68402babfe2d09ddebc317', creation_time=1726869923235, experiment_id='1', last_update_time=1726869923235, lifecycle_stage='active', name='Gradient Boosting Experiment', tags={}>"
     },
     "execution_count": 16,
     "metadata": {},
     "output_type": "execute_result"
    }
   ],
   "source": [
    "import mlflow.sklearn\n",
    "from sklearn.ensemble import GradientBoostingRegressor\n",
    "\n",
    "# Iniciar el experimento\n",
    "mlflow.set_experiment(\"Gradient Boosting Experiment\")\n"
   ],
   "metadata": {
    "collapsed": false,
    "ExecuteTime": {
     "end_time": "2024-09-20T22:05:23.840797800Z",
     "start_time": "2024-09-20T22:05:23.251659400Z"
    }
   },
   "id": "63a9b6e328fa85ef",
   "execution_count": 16
  },
  {
   "cell_type": "code",
   "outputs": [
    {
     "name": "stderr",
     "output_type": "stream",
     "text": [
      "2024/09/20 16:05:36 WARNING mlflow.data.pandas_dataset: Failed to infer schema for Pandas dataset. Exception: Failed to infer schema for pandas.Series 0        <Compressed Sparse Row sparse matrix of dtype ...\n",
      "1        <Compressed Sparse Row sparse matrix of dtype ...\n",
      "2        <Compressed Sparse Row sparse matrix of dtype ...\n",
      "3        <Compressed Sparse Row sparse matrix of dtype ...\n",
      "4        <Compressed Sparse Row sparse matrix of dtype ...\n",
      "                               ...                        \n",
      "54368    <Compressed Sparse Row sparse matrix of dtype ...\n",
      "54369    <Compressed Sparse Row sparse matrix of dtype ...\n",
      "54370    <Compressed Sparse Row sparse matrix of dtype ...\n",
      "54371    <Compressed Sparse Row sparse matrix of dtype ...\n",
      "54372    <Compressed Sparse Row sparse matrix of dtype ...\n",
      "Name: 0, Length: 54373, dtype: object. Error: Data <Compressed Sparse Row sparse matrix of dtype 'float64'\n",
      "\twith 2 stored elements and shape (1, 5093)>\n",
      "  Coords\tValues\n",
      "  (0, 2065)\t1.0\n",
      "  (0, 5092)\t1.98 is not one of the supported DataType\n",
      "2024/09/20 16:05:36 INFO mlflow.tracking._tracking_service.client: 🏃 View run sedate-sloth-928 at: https://dagshub.com/PacoTinoco/nyc-taxi-time-prediction.mlflow/#/experiments/1/runs/5a53661c5c544a2b97b37a9b7b997910.\n",
      "2024/09/20 16:05:37 INFO mlflow.tracking._tracking_service.client: 🧪 View experiment at: https://dagshub.com/PacoTinoco/nyc-taxi-time-prediction.mlflow/#/experiments/1.\n"
     ]
    },
    {
     "ename": "ValueError",
     "evalue": "setting an array element with a sequence.",
     "output_type": "error",
     "traceback": [
      "\u001B[1;31m---------------------------------------------------------------------------\u001B[0m",
      "\u001B[1;31mTypeError\u001B[0m                                 Traceback (most recent call last)",
      "\u001B[1;31mTypeError\u001B[0m: float() argument must be a string or a real number, not 'csr_matrix'",
      "\nThe above exception was the direct cause of the following exception:\n",
      "\u001B[1;31mValueError\u001B[0m                                Traceback (most recent call last)",
      "\u001B[1;32m~\\AppData\\Local\\Temp\\ipykernel_23440\\2291477945.py\u001B[0m in \u001B[0;36m?\u001B[1;34m()\u001B[0m\n\u001B[0;32m      1\u001B[0m \u001B[1;32mwith\u001B[0m \u001B[0mmlflow\u001B[0m\u001B[1;33m.\u001B[0m\u001B[0mstart_run\u001B[0m\u001B[1;33m(\u001B[0m\u001B[1;33m)\u001B[0m\u001B[1;33m:\u001B[0m\u001B[1;33m\u001B[0m\u001B[1;33m\u001B[0m\u001B[0m\n\u001B[0;32m      2\u001B[0m     \u001B[1;31m# Entrenar el modelo\u001B[0m\u001B[1;33m\u001B[0m\u001B[1;33m\u001B[0m\u001B[0m\n\u001B[0;32m      3\u001B[0m     \u001B[0mgb_model\u001B[0m \u001B[1;33m=\u001B[0m \u001B[0mGradientBoostingRegressor\u001B[0m\u001B[1;33m(\u001B[0m\u001B[1;33m)\u001B[0m\u001B[1;33m\u001B[0m\u001B[1;33m\u001B[0m\u001B[0m\n\u001B[1;32m----> 4\u001B[1;33m     \u001B[0mgb_model\u001B[0m\u001B[1;33m.\u001B[0m\u001B[0mfit\u001B[0m\u001B[1;33m(\u001B[0m\u001B[0mX_train\u001B[0m\u001B[1;33m,\u001B[0m \u001B[0my_train\u001B[0m\u001B[1;33m)\u001B[0m\u001B[1;33m\u001B[0m\u001B[1;33m\u001B[0m\u001B[0m\n\u001B[0m\u001B[0;32m      5\u001B[0m \u001B[1;33m\u001B[0m\u001B[0m\n\u001B[0;32m      6\u001B[0m     \u001B[1;31m# Hacer predicciones\u001B[0m\u001B[1;33m\u001B[0m\u001B[1;33m\u001B[0m\u001B[0m\n\u001B[0;32m      7\u001B[0m     \u001B[0my_pred\u001B[0m \u001B[1;33m=\u001B[0m \u001B[0mgb_model\u001B[0m\u001B[1;33m.\u001B[0m\u001B[0mpredict\u001B[0m\u001B[1;33m(\u001B[0m\u001B[0mX_val\u001B[0m\u001B[1;33m)\u001B[0m\u001B[1;33m\u001B[0m\u001B[1;33m\u001B[0m\u001B[0m\n",
      "\u001B[1;32m~\\Downloads\\proyectoCienciaDeDatos2\\nyc-taxi-time-prediction\\.venv\\Lib\\site-packages\\mlflow\\utils\\autologging_utils\\safety.py\u001B[0m in \u001B[0;36m?\u001B[1;34m(*args, **kwargs)\u001B[0m\n\u001B[0;32m    595\u001B[0m                     \u001B[1;31m# Exceptions thrown during execution of the original function should be\u001B[0m\u001B[1;33m\u001B[0m\u001B[1;33m\u001B[0m\u001B[0m\n\u001B[0;32m    596\u001B[0m                     \u001B[1;31m# propagated to the caller. Additionally, exceptions encountered during test\u001B[0m\u001B[1;33m\u001B[0m\u001B[1;33m\u001B[0m\u001B[0m\n\u001B[0;32m    597\u001B[0m                     \u001B[1;31m# mode should be reraised to detect bugs in autologging implementations\u001B[0m\u001B[1;33m\u001B[0m\u001B[1;33m\u001B[0m\u001B[0m\n\u001B[0;32m    598\u001B[0m                     \u001B[1;32mif\u001B[0m \u001B[0mfailed_during_original\u001B[0m \u001B[1;32mor\u001B[0m \u001B[0mis_testing\u001B[0m\u001B[1;33m(\u001B[0m\u001B[1;33m)\u001B[0m\u001B[1;33m:\u001B[0m\u001B[1;33m\u001B[0m\u001B[1;33m\u001B[0m\u001B[0m\n\u001B[1;32m--> 599\u001B[1;33m                         \u001B[1;32mraise\u001B[0m\u001B[1;33m\u001B[0m\u001B[1;33m\u001B[0m\u001B[0m\n\u001B[0m\u001B[0;32m    600\u001B[0m \u001B[1;33m\u001B[0m\u001B[0m\n\u001B[0;32m    601\u001B[0m                 \u001B[1;32mif\u001B[0m \u001B[0mis_testing\u001B[0m\u001B[1;33m(\u001B[0m\u001B[1;33m)\u001B[0m \u001B[1;32mand\u001B[0m \u001B[1;32mnot\u001B[0m \u001B[0mpreexisting_run_for_testing\u001B[0m\u001B[1;33m:\u001B[0m\u001B[1;33m\u001B[0m\u001B[1;33m\u001B[0m\u001B[0m\n\u001B[0;32m    602\u001B[0m                     \u001B[1;31m# If an MLflow run was created during the execution of patch code, verify that\u001B[0m\u001B[1;33m\u001B[0m\u001B[1;33m\u001B[0m\u001B[0m\n",
      "\u001B[1;32m~\\Downloads\\proyectoCienciaDeDatos2\\nyc-taxi-time-prediction\\.venv\\Lib\\site-packages\\mlflow\\utils\\autologging_utils\\safety.py\u001B[0m in \u001B[0;36m?\u001B[1;34m(original, *args, **kwargs)\u001B[0m\n\u001B[0;32m    252\u001B[0m                 \u001B[1;31m# that runs are terminated if a user prematurely interrupts training execution\u001B[0m\u001B[1;33m\u001B[0m\u001B[1;33m\u001B[0m\u001B[0m\n\u001B[0;32m    253\u001B[0m                 \u001B[1;31m# (e.g. via sigint / ctrl-c)\u001B[0m\u001B[1;33m\u001B[0m\u001B[1;33m\u001B[0m\u001B[0m\n\u001B[0;32m    254\u001B[0m                 \u001B[1;32mif\u001B[0m \u001B[0mmanaged_run\u001B[0m\u001B[1;33m:\u001B[0m\u001B[1;33m\u001B[0m\u001B[1;33m\u001B[0m\u001B[0m\n\u001B[0;32m    255\u001B[0m                     \u001B[0mmlflow\u001B[0m\u001B[1;33m.\u001B[0m\u001B[0mend_run\u001B[0m\u001B[1;33m(\u001B[0m\u001B[0mRunStatus\u001B[0m\u001B[1;33m.\u001B[0m\u001B[0mto_string\u001B[0m\u001B[1;33m(\u001B[0m\u001B[0mRunStatus\u001B[0m\u001B[1;33m.\u001B[0m\u001B[0mFAILED\u001B[0m\u001B[1;33m)\u001B[0m\u001B[1;33m)\u001B[0m\u001B[1;33m\u001B[0m\u001B[1;33m\u001B[0m\u001B[0m\n\u001B[1;32m--> 256\u001B[1;33m                 \u001B[1;32mraise\u001B[0m\u001B[1;33m\u001B[0m\u001B[1;33m\u001B[0m\u001B[0m\n\u001B[0m\u001B[0;32m    257\u001B[0m             \u001B[1;32melse\u001B[0m\u001B[1;33m:\u001B[0m\u001B[1;33m\u001B[0m\u001B[1;33m\u001B[0m\u001B[0m\n\u001B[0;32m    258\u001B[0m                 \u001B[1;32mif\u001B[0m \u001B[0mmanaged_run\u001B[0m\u001B[1;33m:\u001B[0m\u001B[1;33m\u001B[0m\u001B[1;33m\u001B[0m\u001B[0m\n\u001B[0;32m    259\u001B[0m                     \u001B[0mmlflow\u001B[0m\u001B[1;33m.\u001B[0m\u001B[0mend_run\u001B[0m\u001B[1;33m(\u001B[0m\u001B[0mRunStatus\u001B[0m\u001B[1;33m.\u001B[0m\u001B[0mto_string\u001B[0m\u001B[1;33m(\u001B[0m\u001B[0mRunStatus\u001B[0m\u001B[1;33m.\u001B[0m\u001B[0mFINISHED\u001B[0m\u001B[1;33m)\u001B[0m\u001B[1;33m)\u001B[0m\u001B[1;33m\u001B[0m\u001B[1;33m\u001B[0m\u001B[0m\n",
      "\u001B[1;32m~\\Downloads\\proyectoCienciaDeDatos2\\nyc-taxi-time-prediction\\.venv\\Lib\\site-packages\\mlflow\\sklearn\\__init__.py\u001B[0m in \u001B[0;36m?\u001B[1;34m(fit_impl, allow_children_patch, original, self, *args, **kwargs)\u001B[0m\n\u001B[0;32m   1649\u001B[0m             \u001B[1;32mif\u001B[0m \u001B[0mt\u001B[0m\u001B[1;33m.\u001B[0m\u001B[0mshould_log\u001B[0m\u001B[1;33m(\u001B[0m\u001B[1;33m)\u001B[0m\u001B[1;33m:\u001B[0m\u001B[1;33m\u001B[0m\u001B[1;33m\u001B[0m\u001B[0m\n\u001B[0;32m   1650\u001B[0m                 \u001B[1;31m# In `fit_mlflow` call, it will also call metric API for computing training metrics\u001B[0m\u001B[1;33m\u001B[0m\u001B[1;33m\u001B[0m\u001B[0m\n\u001B[0;32m   1651\u001B[0m                 \u001B[1;31m# so we need temporarily disable the post_training_metrics patching.\u001B[0m\u001B[1;33m\u001B[0m\u001B[1;33m\u001B[0m\u001B[0m\n\u001B[0;32m   1652\u001B[0m                 \u001B[1;32mwith\u001B[0m \u001B[0m_AUTOLOGGING_METRICS_MANAGER\u001B[0m\u001B[1;33m.\u001B[0m\u001B[0mdisable_log_post_training_metrics\u001B[0m\u001B[1;33m(\u001B[0m\u001B[1;33m)\u001B[0m\u001B[1;33m:\u001B[0m\u001B[1;33m\u001B[0m\u001B[1;33m\u001B[0m\u001B[0m\n\u001B[1;32m-> 1653\u001B[1;33m                     \u001B[0mresult\u001B[0m \u001B[1;33m=\u001B[0m \u001B[0mfit_impl\u001B[0m\u001B[1;33m(\u001B[0m\u001B[0moriginal\u001B[0m\u001B[1;33m,\u001B[0m \u001B[0mself\u001B[0m\u001B[1;33m,\u001B[0m \u001B[1;33m*\u001B[0m\u001B[0margs\u001B[0m\u001B[1;33m,\u001B[0m \u001B[1;33m**\u001B[0m\u001B[0mkwargs\u001B[0m\u001B[1;33m)\u001B[0m\u001B[1;33m\u001B[0m\u001B[1;33m\u001B[0m\u001B[0m\n\u001B[0m\u001B[0;32m   1654\u001B[0m                 \u001B[1;32mif\u001B[0m \u001B[0mshould_log_post_training_metrics\u001B[0m\u001B[1;33m:\u001B[0m\u001B[1;33m\u001B[0m\u001B[1;33m\u001B[0m\u001B[0m\n\u001B[0;32m   1655\u001B[0m                     _AUTOLOGGING_METRICS_MANAGER.register_model(\n\u001B[0;32m   1656\u001B[0m                         \u001B[0mself\u001B[0m\u001B[1;33m,\u001B[0m \u001B[0mmlflow\u001B[0m\u001B[1;33m.\u001B[0m\u001B[0mactive_run\u001B[0m\u001B[1;33m(\u001B[0m\u001B[1;33m)\u001B[0m\u001B[1;33m.\u001B[0m\u001B[0minfo\u001B[0m\u001B[1;33m.\u001B[0m\u001B[0mrun_id\u001B[0m\u001B[1;33m\u001B[0m\u001B[1;33m\u001B[0m\u001B[0m\n",
      "\u001B[1;32m~\\Downloads\\proyectoCienciaDeDatos2\\nyc-taxi-time-prediction\\.venv\\Lib\\site-packages\\mlflow\\sklearn\\__init__.py\u001B[0m in \u001B[0;36m?\u001B[1;34m(original, self, *args, **kwargs)\u001B[0m\n\u001B[0;32m   1424\u001B[0m         \u001B[1;33m(\u001B[0m\u001B[0mX\u001B[0m\u001B[1;33m,\u001B[0m \u001B[0my_true\u001B[0m\u001B[1;33m,\u001B[0m \u001B[0msample_weight\u001B[0m\u001B[1;33m)\u001B[0m \u001B[1;33m=\u001B[0m \u001B[0m_get_X_y_and_sample_weight\u001B[0m\u001B[1;33m(\u001B[0m\u001B[0mself\u001B[0m\u001B[1;33m.\u001B[0m\u001B[0mfit\u001B[0m\u001B[1;33m,\u001B[0m \u001B[0margs\u001B[0m\u001B[1;33m,\u001B[0m \u001B[0mkwargs\u001B[0m\u001B[1;33m)\u001B[0m\u001B[1;33m\u001B[0m\u001B[1;33m\u001B[0m\u001B[0m\n\u001B[0;32m   1425\u001B[0m         \u001B[0mautologging_client\u001B[0m \u001B[1;33m=\u001B[0m \u001B[0mMlflowAutologgingQueueingClient\u001B[0m\u001B[1;33m(\u001B[0m\u001B[1;33m)\u001B[0m\u001B[1;33m\u001B[0m\u001B[1;33m\u001B[0m\u001B[0m\n\u001B[0;32m   1426\u001B[0m         \u001B[0m_log_pretraining_metadata\u001B[0m\u001B[1;33m(\u001B[0m\u001B[0mautologging_client\u001B[0m\u001B[1;33m,\u001B[0m \u001B[0mself\u001B[0m\u001B[1;33m,\u001B[0m \u001B[0mX\u001B[0m\u001B[1;33m,\u001B[0m \u001B[0my_true\u001B[0m\u001B[1;33m)\u001B[0m\u001B[1;33m\u001B[0m\u001B[1;33m\u001B[0m\u001B[0m\n\u001B[0;32m   1427\u001B[0m         \u001B[0mparams_logging_future\u001B[0m \u001B[1;33m=\u001B[0m \u001B[0mautologging_client\u001B[0m\u001B[1;33m.\u001B[0m\u001B[0mflush\u001B[0m\u001B[1;33m(\u001B[0m\u001B[0msynchronous\u001B[0m\u001B[1;33m=\u001B[0m\u001B[1;32mFalse\u001B[0m\u001B[1;33m)\u001B[0m\u001B[1;33m\u001B[0m\u001B[1;33m\u001B[0m\u001B[0m\n\u001B[1;32m-> 1428\u001B[1;33m         \u001B[0mfit_output\u001B[0m \u001B[1;33m=\u001B[0m \u001B[0moriginal\u001B[0m\u001B[1;33m(\u001B[0m\u001B[0mself\u001B[0m\u001B[1;33m,\u001B[0m \u001B[1;33m*\u001B[0m\u001B[0margs\u001B[0m\u001B[1;33m,\u001B[0m \u001B[1;33m**\u001B[0m\u001B[0mkwargs\u001B[0m\u001B[1;33m)\u001B[0m\u001B[1;33m\u001B[0m\u001B[1;33m\u001B[0m\u001B[0m\n\u001B[0m\u001B[0;32m   1429\u001B[0m         \u001B[0m_log_posttraining_metadata\u001B[0m\u001B[1;33m(\u001B[0m\u001B[0mautologging_client\u001B[0m\u001B[1;33m,\u001B[0m \u001B[0mself\u001B[0m\u001B[1;33m,\u001B[0m \u001B[0mX\u001B[0m\u001B[1;33m,\u001B[0m \u001B[0my_true\u001B[0m\u001B[1;33m,\u001B[0m \u001B[0msample_weight\u001B[0m\u001B[1;33m)\u001B[0m\u001B[1;33m\u001B[0m\u001B[1;33m\u001B[0m\u001B[0m\n\u001B[0;32m   1430\u001B[0m         \u001B[0mautologging_client\u001B[0m\u001B[1;33m.\u001B[0m\u001B[0mflush\u001B[0m\u001B[1;33m(\u001B[0m\u001B[0msynchronous\u001B[0m\u001B[1;33m=\u001B[0m\u001B[1;32mTrue\u001B[0m\u001B[1;33m)\u001B[0m\u001B[1;33m\u001B[0m\u001B[1;33m\u001B[0m\u001B[0m\n\u001B[0;32m   1431\u001B[0m         \u001B[0mparams_logging_future\u001B[0m\u001B[1;33m.\u001B[0m\u001B[0mawait_completion\u001B[0m\u001B[1;33m(\u001B[0m\u001B[1;33m)\u001B[0m\u001B[1;33m\u001B[0m\u001B[1;33m\u001B[0m\u001B[0m\n",
      "\u001B[1;32m~\\Downloads\\proyectoCienciaDeDatos2\\nyc-taxi-time-prediction\\.venv\\Lib\\site-packages\\mlflow\\utils\\autologging_utils\\safety.py\u001B[0m in \u001B[0;36m?\u001B[1;34m(*og_args, **og_kwargs)\u001B[0m\n\u001B[0;32m    557\u001B[0m                             \u001B[1;33m)\u001B[0m\u001B[1;33m:\u001B[0m\u001B[1;33m\u001B[0m\u001B[1;33m\u001B[0m\u001B[0m\n\u001B[0;32m    558\u001B[0m                                 \u001B[0moriginal_result\u001B[0m \u001B[1;33m=\u001B[0m \u001B[0moriginal\u001B[0m\u001B[1;33m(\u001B[0m\u001B[1;33m*\u001B[0m\u001B[0m_og_args\u001B[0m\u001B[1;33m,\u001B[0m \u001B[1;33m**\u001B[0m\u001B[0m_og_kwargs\u001B[0m\u001B[1;33m)\u001B[0m\u001B[1;33m\u001B[0m\u001B[1;33m\u001B[0m\u001B[0m\n\u001B[0;32m    559\u001B[0m                                 \u001B[1;32mreturn\u001B[0m \u001B[0moriginal_result\u001B[0m\u001B[1;33m\u001B[0m\u001B[1;33m\u001B[0m\u001B[0m\n\u001B[0;32m    560\u001B[0m \u001B[1;33m\u001B[0m\u001B[0m\n\u001B[1;32m--> 561\u001B[1;33m                         \u001B[1;32mreturn\u001B[0m \u001B[0mcall_original_fn_with_event_logging\u001B[0m\u001B[1;33m(\u001B[0m\u001B[0m_original_fn\u001B[0m\u001B[1;33m,\u001B[0m \u001B[0mog_args\u001B[0m\u001B[1;33m,\u001B[0m \u001B[0mog_kwargs\u001B[0m\u001B[1;33m)\u001B[0m\u001B[1;33m\u001B[0m\u001B[1;33m\u001B[0m\u001B[0m\n\u001B[0m",
      "\u001B[1;32m~\\Downloads\\proyectoCienciaDeDatos2\\nyc-taxi-time-prediction\\.venv\\Lib\\site-packages\\mlflow\\utils\\autologging_utils\\safety.py\u001B[0m in \u001B[0;36m?\u001B[1;34m(original_fn, og_args, og_kwargs)\u001B[0m\n\u001B[0;32m    516\u001B[0m                     \u001B[1;33m)\u001B[0m\u001B[1;33m\u001B[0m\u001B[1;33m\u001B[0m\u001B[0m\n\u001B[0;32m    517\u001B[0m \u001B[1;33m\u001B[0m\u001B[0m\n\u001B[0;32m    518\u001B[0m                     \u001B[1;32mnonlocal\u001B[0m \u001B[0mfailed_during_original\u001B[0m\u001B[1;33m\u001B[0m\u001B[1;33m\u001B[0m\u001B[0m\n\u001B[0;32m    519\u001B[0m                     \u001B[0mfailed_during_original\u001B[0m \u001B[1;33m=\u001B[0m \u001B[1;32mTrue\u001B[0m\u001B[1;33m\u001B[0m\u001B[1;33m\u001B[0m\u001B[0m\n\u001B[1;32m--> 520\u001B[1;33m                     \u001B[1;32mraise\u001B[0m\u001B[1;33m\u001B[0m\u001B[1;33m\u001B[0m\u001B[0m\n\u001B[0m",
      "\u001B[1;32m~\\Downloads\\proyectoCienciaDeDatos2\\nyc-taxi-time-prediction\\.venv\\Lib\\site-packages\\mlflow\\utils\\autologging_utils\\safety.py\u001B[0m in \u001B[0;36m?\u001B[1;34m(*_og_args, **_og_kwargs)\u001B[0m\n\u001B[0;32m    554\u001B[0m                             with set_non_mlflow_warnings_behavior_for_current_thread(\n\u001B[0;32m    555\u001B[0m                                 \u001B[0mdisable_warnings\u001B[0m\u001B[1;33m=\u001B[0m\u001B[1;32mFalse\u001B[0m\u001B[1;33m,\u001B[0m\u001B[1;33m\u001B[0m\u001B[1;33m\u001B[0m\u001B[0m\n\u001B[0;32m    556\u001B[0m                                 \u001B[0mreroute_warnings\u001B[0m\u001B[1;33m=\u001B[0m\u001B[1;32mFalse\u001B[0m\u001B[1;33m,\u001B[0m\u001B[1;33m\u001B[0m\u001B[1;33m\u001B[0m\u001B[0m\n\u001B[0;32m    557\u001B[0m                             \u001B[1;33m)\u001B[0m\u001B[1;33m:\u001B[0m\u001B[1;33m\u001B[0m\u001B[1;33m\u001B[0m\u001B[0m\n\u001B[1;32m--> 558\u001B[1;33m                                 \u001B[0moriginal_result\u001B[0m \u001B[1;33m=\u001B[0m \u001B[0moriginal\u001B[0m\u001B[1;33m(\u001B[0m\u001B[1;33m*\u001B[0m\u001B[0m_og_args\u001B[0m\u001B[1;33m,\u001B[0m \u001B[1;33m**\u001B[0m\u001B[0m_og_kwargs\u001B[0m\u001B[1;33m)\u001B[0m\u001B[1;33m\u001B[0m\u001B[1;33m\u001B[0m\u001B[0m\n\u001B[0m\u001B[0;32m    559\u001B[0m                                 \u001B[1;32mreturn\u001B[0m \u001B[0moriginal_result\u001B[0m\u001B[1;33m\u001B[0m\u001B[1;33m\u001B[0m\u001B[0m\n",
      "\u001B[1;32m~\\Downloads\\proyectoCienciaDeDatos2\\nyc-taxi-time-prediction\\.venv\\Lib\\site-packages\\sklearn\\base.py\u001B[0m in \u001B[0;36m?\u001B[1;34m(estimator, *args, **kwargs)\u001B[0m\n\u001B[0;32m   1469\u001B[0m                 skip_parameter_validation=(\n\u001B[0;32m   1470\u001B[0m                     \u001B[0mprefer_skip_nested_validation\u001B[0m \u001B[1;32mor\u001B[0m \u001B[0mglobal_skip_validation\u001B[0m\u001B[1;33m\u001B[0m\u001B[1;33m\u001B[0m\u001B[0m\n\u001B[0;32m   1471\u001B[0m                 \u001B[1;33m)\u001B[0m\u001B[1;33m\u001B[0m\u001B[1;33m\u001B[0m\u001B[0m\n\u001B[0;32m   1472\u001B[0m             \u001B[1;33m)\u001B[0m\u001B[1;33m:\u001B[0m\u001B[1;33m\u001B[0m\u001B[1;33m\u001B[0m\u001B[0m\n\u001B[1;32m-> 1473\u001B[1;33m                 \u001B[1;32mreturn\u001B[0m \u001B[0mfit_method\u001B[0m\u001B[1;33m(\u001B[0m\u001B[0mestimator\u001B[0m\u001B[1;33m,\u001B[0m \u001B[1;33m*\u001B[0m\u001B[0margs\u001B[0m\u001B[1;33m,\u001B[0m \u001B[1;33m**\u001B[0m\u001B[0mkwargs\u001B[0m\u001B[1;33m)\u001B[0m\u001B[1;33m\u001B[0m\u001B[1;33m\u001B[0m\u001B[0m\n\u001B[0m",
      "\u001B[1;32m~\\Downloads\\proyectoCienciaDeDatos2\\nyc-taxi-time-prediction\\.venv\\Lib\\site-packages\\sklearn\\ensemble\\_gb.py\u001B[0m in \u001B[0;36m?\u001B[1;34m(self, X, y, sample_weight, monitor)\u001B[0m\n\u001B[0;32m    655\u001B[0m         \u001B[1;31m# Check input\u001B[0m\u001B[1;33m\u001B[0m\u001B[1;33m\u001B[0m\u001B[0m\n\u001B[0;32m    656\u001B[0m         \u001B[1;31m# Since check_array converts both X and y to the same dtype, but the\u001B[0m\u001B[1;33m\u001B[0m\u001B[1;33m\u001B[0m\u001B[0m\n\u001B[0;32m    657\u001B[0m         \u001B[1;31m# trees use different types for X and y, checking them separately.\u001B[0m\u001B[1;33m\u001B[0m\u001B[1;33m\u001B[0m\u001B[0m\n\u001B[0;32m    658\u001B[0m \u001B[1;33m\u001B[0m\u001B[0m\n\u001B[1;32m--> 659\u001B[1;33m         X, y = self._validate_data(\n\u001B[0m\u001B[0;32m    660\u001B[0m             \u001B[0mX\u001B[0m\u001B[1;33m,\u001B[0m \u001B[0my\u001B[0m\u001B[1;33m,\u001B[0m \u001B[0maccept_sparse\u001B[0m\u001B[1;33m=\u001B[0m\u001B[1;33m[\u001B[0m\u001B[1;34m\"csr\"\u001B[0m\u001B[1;33m,\u001B[0m \u001B[1;34m\"csc\"\u001B[0m\u001B[1;33m,\u001B[0m \u001B[1;34m\"coo\"\u001B[0m\u001B[1;33m]\u001B[0m\u001B[1;33m,\u001B[0m \u001B[0mdtype\u001B[0m\u001B[1;33m=\u001B[0m\u001B[0mDTYPE\u001B[0m\u001B[1;33m,\u001B[0m \u001B[0mmulti_output\u001B[0m\u001B[1;33m=\u001B[0m\u001B[1;32mTrue\u001B[0m\u001B[1;33m\u001B[0m\u001B[1;33m\u001B[0m\u001B[0m\n\u001B[0;32m    661\u001B[0m         \u001B[1;33m)\u001B[0m\u001B[1;33m\u001B[0m\u001B[1;33m\u001B[0m\u001B[0m\n\u001B[0;32m    662\u001B[0m         \u001B[0msample_weight_is_none\u001B[0m \u001B[1;33m=\u001B[0m \u001B[0msample_weight\u001B[0m \u001B[1;32mis\u001B[0m \u001B[1;32mNone\u001B[0m\u001B[1;33m\u001B[0m\u001B[1;33m\u001B[0m\u001B[0m\n",
      "\u001B[1;32m~\\Downloads\\proyectoCienciaDeDatos2\\nyc-taxi-time-prediction\\.venv\\Lib\\site-packages\\sklearn\\base.py\u001B[0m in \u001B[0;36m?\u001B[1;34m(self, X, y, reset, validate_separately, cast_to_ndarray, **check_params)\u001B[0m\n\u001B[0;32m    646\u001B[0m                 \u001B[1;32mif\u001B[0m \u001B[1;34m\"estimator\"\u001B[0m \u001B[1;32mnot\u001B[0m \u001B[1;32min\u001B[0m \u001B[0mcheck_y_params\u001B[0m\u001B[1;33m:\u001B[0m\u001B[1;33m\u001B[0m\u001B[1;33m\u001B[0m\u001B[0m\n\u001B[0;32m    647\u001B[0m                     \u001B[0mcheck_y_params\u001B[0m \u001B[1;33m=\u001B[0m \u001B[1;33m{\u001B[0m\u001B[1;33m**\u001B[0m\u001B[0mdefault_check_params\u001B[0m\u001B[1;33m,\u001B[0m \u001B[1;33m**\u001B[0m\u001B[0mcheck_y_params\u001B[0m\u001B[1;33m}\u001B[0m\u001B[1;33m\u001B[0m\u001B[1;33m\u001B[0m\u001B[0m\n\u001B[0;32m    648\u001B[0m                 \u001B[0my\u001B[0m \u001B[1;33m=\u001B[0m \u001B[0mcheck_array\u001B[0m\u001B[1;33m(\u001B[0m\u001B[0my\u001B[0m\u001B[1;33m,\u001B[0m \u001B[0minput_name\u001B[0m\u001B[1;33m=\u001B[0m\u001B[1;34m\"y\"\u001B[0m\u001B[1;33m,\u001B[0m \u001B[1;33m**\u001B[0m\u001B[0mcheck_y_params\u001B[0m\u001B[1;33m)\u001B[0m\u001B[1;33m\u001B[0m\u001B[1;33m\u001B[0m\u001B[0m\n\u001B[0;32m    649\u001B[0m             \u001B[1;32melse\u001B[0m\u001B[1;33m:\u001B[0m\u001B[1;33m\u001B[0m\u001B[1;33m\u001B[0m\u001B[0m\n\u001B[1;32m--> 650\u001B[1;33m                 \u001B[0mX\u001B[0m\u001B[1;33m,\u001B[0m \u001B[0my\u001B[0m \u001B[1;33m=\u001B[0m \u001B[0mcheck_X_y\u001B[0m\u001B[1;33m(\u001B[0m\u001B[0mX\u001B[0m\u001B[1;33m,\u001B[0m \u001B[0my\u001B[0m\u001B[1;33m,\u001B[0m \u001B[1;33m**\u001B[0m\u001B[0mcheck_params\u001B[0m\u001B[1;33m)\u001B[0m\u001B[1;33m\u001B[0m\u001B[1;33m\u001B[0m\u001B[0m\n\u001B[0m\u001B[0;32m    651\u001B[0m             \u001B[0mout\u001B[0m \u001B[1;33m=\u001B[0m \u001B[0mX\u001B[0m\u001B[1;33m,\u001B[0m \u001B[0my\u001B[0m\u001B[1;33m\u001B[0m\u001B[1;33m\u001B[0m\u001B[0m\n\u001B[0;32m    652\u001B[0m \u001B[1;33m\u001B[0m\u001B[0m\n\u001B[0;32m    653\u001B[0m         \u001B[1;32mif\u001B[0m \u001B[1;32mnot\u001B[0m \u001B[0mno_val_X\u001B[0m \u001B[1;32mand\u001B[0m \u001B[0mcheck_params\u001B[0m\u001B[1;33m.\u001B[0m\u001B[0mget\u001B[0m\u001B[1;33m(\u001B[0m\u001B[1;34m\"ensure_2d\"\u001B[0m\u001B[1;33m,\u001B[0m \u001B[1;32mTrue\u001B[0m\u001B[1;33m)\u001B[0m\u001B[1;33m:\u001B[0m\u001B[1;33m\u001B[0m\u001B[1;33m\u001B[0m\u001B[0m\n",
      "\u001B[1;32m~\\Downloads\\proyectoCienciaDeDatos2\\nyc-taxi-time-prediction\\.venv\\Lib\\site-packages\\sklearn\\utils\\validation.py\u001B[0m in \u001B[0;36m?\u001B[1;34m(X, y, accept_sparse, accept_large_sparse, dtype, order, copy, force_writeable, force_all_finite, ensure_2d, allow_nd, multi_output, ensure_min_samples, ensure_min_features, y_numeric, estimator)\u001B[0m\n\u001B[0;32m   1297\u001B[0m         raise ValueError(\n\u001B[0;32m   1298\u001B[0m             \u001B[1;33mf\"\u001B[0m\u001B[1;33m{\u001B[0m\u001B[0mestimator_name\u001B[0m\u001B[1;33m}\u001B[0m\u001B[1;33m requires y to be passed, but the target y is None\u001B[0m\u001B[1;33m\"\u001B[0m\u001B[1;33m\u001B[0m\u001B[1;33m\u001B[0m\u001B[0m\n\u001B[0;32m   1299\u001B[0m         \u001B[1;33m)\u001B[0m\u001B[1;33m\u001B[0m\u001B[1;33m\u001B[0m\u001B[0m\n\u001B[0;32m   1300\u001B[0m \u001B[1;33m\u001B[0m\u001B[0m\n\u001B[1;32m-> 1301\u001B[1;33m     X = check_array(\n\u001B[0m\u001B[0;32m   1302\u001B[0m         \u001B[0mX\u001B[0m\u001B[1;33m,\u001B[0m\u001B[1;33m\u001B[0m\u001B[1;33m\u001B[0m\u001B[0m\n\u001B[0;32m   1303\u001B[0m         \u001B[0maccept_sparse\u001B[0m\u001B[1;33m=\u001B[0m\u001B[0maccept_sparse\u001B[0m\u001B[1;33m,\u001B[0m\u001B[1;33m\u001B[0m\u001B[1;33m\u001B[0m\u001B[0m\n\u001B[0;32m   1304\u001B[0m         \u001B[0maccept_large_sparse\u001B[0m\u001B[1;33m=\u001B[0m\u001B[0maccept_large_sparse\u001B[0m\u001B[1;33m,\u001B[0m\u001B[1;33m\u001B[0m\u001B[1;33m\u001B[0m\u001B[0m\n",
      "\u001B[1;32m~\\Downloads\\proyectoCienciaDeDatos2\\nyc-taxi-time-prediction\\.venv\\Lib\\site-packages\\sklearn\\utils\\validation.py\u001B[0m in \u001B[0;36m?\u001B[1;34m(array, accept_sparse, accept_large_sparse, dtype, order, copy, force_writeable, force_all_finite, ensure_2d, allow_nd, ensure_min_samples, ensure_min_features, estimator, input_name)\u001B[0m\n\u001B[0;32m   1009\u001B[0m                         \u001B[1;33m)\u001B[0m\u001B[1;33m\u001B[0m\u001B[1;33m\u001B[0m\u001B[0m\n\u001B[0;32m   1010\u001B[0m                     \u001B[0marray\u001B[0m \u001B[1;33m=\u001B[0m \u001B[0mxp\u001B[0m\u001B[1;33m.\u001B[0m\u001B[0mastype\u001B[0m\u001B[1;33m(\u001B[0m\u001B[0marray\u001B[0m\u001B[1;33m,\u001B[0m \u001B[0mdtype\u001B[0m\u001B[1;33m,\u001B[0m \u001B[0mcopy\u001B[0m\u001B[1;33m=\u001B[0m\u001B[1;32mFalse\u001B[0m\u001B[1;33m)\u001B[0m\u001B[1;33m\u001B[0m\u001B[1;33m\u001B[0m\u001B[0m\n\u001B[0;32m   1011\u001B[0m                 \u001B[1;32melse\u001B[0m\u001B[1;33m:\u001B[0m\u001B[1;33m\u001B[0m\u001B[1;33m\u001B[0m\u001B[0m\n\u001B[0;32m   1012\u001B[0m                     \u001B[0marray\u001B[0m \u001B[1;33m=\u001B[0m \u001B[0m_asarray_with_order\u001B[0m\u001B[1;33m(\u001B[0m\u001B[0marray\u001B[0m\u001B[1;33m,\u001B[0m \u001B[0morder\u001B[0m\u001B[1;33m=\u001B[0m\u001B[0morder\u001B[0m\u001B[1;33m,\u001B[0m \u001B[0mdtype\u001B[0m\u001B[1;33m=\u001B[0m\u001B[0mdtype\u001B[0m\u001B[1;33m,\u001B[0m \u001B[0mxp\u001B[0m\u001B[1;33m=\u001B[0m\u001B[0mxp\u001B[0m\u001B[1;33m)\u001B[0m\u001B[1;33m\u001B[0m\u001B[1;33m\u001B[0m\u001B[0m\n\u001B[1;32m-> 1013\u001B[1;33m             \u001B[1;32mexcept\u001B[0m \u001B[0mComplexWarning\u001B[0m \u001B[1;32mas\u001B[0m \u001B[0mcomplex_warning\u001B[0m\u001B[1;33m:\u001B[0m\u001B[1;33m\u001B[0m\u001B[1;33m\u001B[0m\u001B[0m\n\u001B[0m\u001B[0;32m   1014\u001B[0m                 raise ValueError(\n\u001B[0;32m   1015\u001B[0m                     \u001B[1;34m\"Complex data not supported\\n{}\\n\"\u001B[0m\u001B[1;33m.\u001B[0m\u001B[0mformat\u001B[0m\u001B[1;33m(\u001B[0m\u001B[0marray\u001B[0m\u001B[1;33m)\u001B[0m\u001B[1;33m\u001B[0m\u001B[1;33m\u001B[0m\u001B[0m\n\u001B[0;32m   1016\u001B[0m                 \u001B[1;33m)\u001B[0m \u001B[1;32mfrom\u001B[0m \u001B[0mcomplex_warning\u001B[0m\u001B[1;33m\u001B[0m\u001B[1;33m\u001B[0m\u001B[0m\n",
      "\u001B[1;32m~\\Downloads\\proyectoCienciaDeDatos2\\nyc-taxi-time-prediction\\.venv\\Lib\\site-packages\\sklearn\\utils\\_array_api.py\u001B[0m in \u001B[0;36m?\u001B[1;34m(array, dtype, order, copy, xp, device)\u001B[0m\n\u001B[0;32m    747\u001B[0m         \u001B[1;31m# Use NumPy API to support order\u001B[0m\u001B[1;33m\u001B[0m\u001B[1;33m\u001B[0m\u001B[0m\n\u001B[0;32m    748\u001B[0m         \u001B[1;32mif\u001B[0m \u001B[0mcopy\u001B[0m \u001B[1;32mis\u001B[0m \u001B[1;32mTrue\u001B[0m\u001B[1;33m:\u001B[0m\u001B[1;33m\u001B[0m\u001B[1;33m\u001B[0m\u001B[0m\n\u001B[0;32m    749\u001B[0m             \u001B[0marray\u001B[0m \u001B[1;33m=\u001B[0m \u001B[0mnumpy\u001B[0m\u001B[1;33m.\u001B[0m\u001B[0marray\u001B[0m\u001B[1;33m(\u001B[0m\u001B[0marray\u001B[0m\u001B[1;33m,\u001B[0m \u001B[0morder\u001B[0m\u001B[1;33m=\u001B[0m\u001B[0morder\u001B[0m\u001B[1;33m,\u001B[0m \u001B[0mdtype\u001B[0m\u001B[1;33m=\u001B[0m\u001B[0mdtype\u001B[0m\u001B[1;33m)\u001B[0m\u001B[1;33m\u001B[0m\u001B[1;33m\u001B[0m\u001B[0m\n\u001B[0;32m    750\u001B[0m         \u001B[1;32melse\u001B[0m\u001B[1;33m:\u001B[0m\u001B[1;33m\u001B[0m\u001B[1;33m\u001B[0m\u001B[0m\n\u001B[1;32m--> 751\u001B[1;33m             \u001B[0marray\u001B[0m \u001B[1;33m=\u001B[0m \u001B[0mnumpy\u001B[0m\u001B[1;33m.\u001B[0m\u001B[0masarray\u001B[0m\u001B[1;33m(\u001B[0m\u001B[0marray\u001B[0m\u001B[1;33m,\u001B[0m \u001B[0morder\u001B[0m\u001B[1;33m=\u001B[0m\u001B[0morder\u001B[0m\u001B[1;33m,\u001B[0m \u001B[0mdtype\u001B[0m\u001B[1;33m=\u001B[0m\u001B[0mdtype\u001B[0m\u001B[1;33m)\u001B[0m\u001B[1;33m\u001B[0m\u001B[1;33m\u001B[0m\u001B[0m\n\u001B[0m\u001B[0;32m    752\u001B[0m \u001B[1;33m\u001B[0m\u001B[0m\n\u001B[0;32m    753\u001B[0m         \u001B[1;31m# At this point array is a NumPy ndarray. We convert it to an array\u001B[0m\u001B[1;33m\u001B[0m\u001B[1;33m\u001B[0m\u001B[0m\n\u001B[0;32m    754\u001B[0m         \u001B[1;31m# container that is consistent with the input's namespace.\u001B[0m\u001B[1;33m\u001B[0m\u001B[1;33m\u001B[0m\u001B[0m\n",
      "\u001B[1;32m~\\Downloads\\proyectoCienciaDeDatos2\\nyc-taxi-time-prediction\\.venv\\Lib\\site-packages\\pandas\\core\\generic.py\u001B[0m in \u001B[0;36m?\u001B[1;34m(self, dtype, copy)\u001B[0m\n\u001B[0;32m   2149\u001B[0m     def __array__(\n\u001B[0;32m   2150\u001B[0m         \u001B[0mself\u001B[0m\u001B[1;33m,\u001B[0m \u001B[0mdtype\u001B[0m\u001B[1;33m:\u001B[0m \u001B[0mnpt\u001B[0m\u001B[1;33m.\u001B[0m\u001B[0mDTypeLike\u001B[0m \u001B[1;33m|\u001B[0m \u001B[1;32mNone\u001B[0m \u001B[1;33m=\u001B[0m \u001B[1;32mNone\u001B[0m\u001B[1;33m,\u001B[0m \u001B[0mcopy\u001B[0m\u001B[1;33m:\u001B[0m \u001B[0mbool_t\u001B[0m \u001B[1;33m|\u001B[0m \u001B[1;32mNone\u001B[0m \u001B[1;33m=\u001B[0m \u001B[1;32mNone\u001B[0m\u001B[1;33m\u001B[0m\u001B[1;33m\u001B[0m\u001B[0m\n\u001B[0;32m   2151\u001B[0m     \u001B[1;33m)\u001B[0m \u001B[1;33m->\u001B[0m \u001B[0mnp\u001B[0m\u001B[1;33m.\u001B[0m\u001B[0mndarray\u001B[0m\u001B[1;33m:\u001B[0m\u001B[1;33m\u001B[0m\u001B[1;33m\u001B[0m\u001B[0m\n\u001B[0;32m   2152\u001B[0m         \u001B[0mvalues\u001B[0m \u001B[1;33m=\u001B[0m \u001B[0mself\u001B[0m\u001B[1;33m.\u001B[0m\u001B[0m_values\u001B[0m\u001B[1;33m\u001B[0m\u001B[1;33m\u001B[0m\u001B[0m\n\u001B[1;32m-> 2153\u001B[1;33m         \u001B[0marr\u001B[0m \u001B[1;33m=\u001B[0m \u001B[0mnp\u001B[0m\u001B[1;33m.\u001B[0m\u001B[0masarray\u001B[0m\u001B[1;33m(\u001B[0m\u001B[0mvalues\u001B[0m\u001B[1;33m,\u001B[0m \u001B[0mdtype\u001B[0m\u001B[1;33m=\u001B[0m\u001B[0mdtype\u001B[0m\u001B[1;33m)\u001B[0m\u001B[1;33m\u001B[0m\u001B[1;33m\u001B[0m\u001B[0m\n\u001B[0m\u001B[0;32m   2154\u001B[0m         if (\n\u001B[0;32m   2155\u001B[0m             \u001B[0mastype_is_view\u001B[0m\u001B[1;33m(\u001B[0m\u001B[0mvalues\u001B[0m\u001B[1;33m.\u001B[0m\u001B[0mdtype\u001B[0m\u001B[1;33m,\u001B[0m \u001B[0marr\u001B[0m\u001B[1;33m.\u001B[0m\u001B[0mdtype\u001B[0m\u001B[1;33m)\u001B[0m\u001B[1;33m\u001B[0m\u001B[1;33m\u001B[0m\u001B[0m\n\u001B[0;32m   2156\u001B[0m             \u001B[1;32mand\u001B[0m \u001B[0musing_copy_on_write\u001B[0m\u001B[1;33m(\u001B[0m\u001B[1;33m)\u001B[0m\u001B[1;33m\u001B[0m\u001B[1;33m\u001B[0m\u001B[0m\n",
      "\u001B[1;31mValueError\u001B[0m: setting an array element with a sequence."
     ]
    }
   ],
   "source": [
    "with mlflow.start_run():\n",
    "    # Entrenar el modelo\n",
    "    gb_model = GradientBoostingRegressor()\n",
    "    gb_model.fit(X_train, y_train)\n",
    "\n",
    "    # Hacer predicciones\n",
    "    y_pred = gb_model.predict(X_val)\n",
    "\n",
    "    # Calcular el RMSE\n",
    "    rmse_value = np.sqrt(mean_squared_error(y_val, y_pred))\n",
    "    print(f\"RMSE: {rmse_value}\")\n",
    "\n",
    "    # Registrar el modelo y la métrica en MLflow\n",
    "    mlflow.sklearn.log_model(gb_model, \"gradient-boosting-model\")\n",
    "    mlflow.log_metric(\"rmse\", rmse_value)"
   ],
   "metadata": {
    "collapsed": false,
    "ExecuteTime": {
     "end_time": "2024-09-20T22:05:37.222173400Z",
     "start_time": "2024-09-20T22:05:36.459044800Z"
    }
   },
   "id": "865f12f51aad8d9d",
   "execution_count": 17
  },
  {
   "cell_type": "markdown",
   "source": [
    "## Para el modelo Random Forest:"
   ],
   "metadata": {
    "collapsed": false
   },
   "id": "5a8be697f2b2efcd"
  },
  {
   "cell_type": "code",
   "outputs": [
    {
     "name": "stderr",
     "output_type": "stream",
     "text": [
      "2024/09/20 14:28:08 INFO mlflow.tracking.fluent: Experiment with name 'Random Forest Experiment' does not exist. Creating a new experiment.\n",
      "2024/09/20 14:32:39 WARNING mlflow.models.model: Model logged without a signature and input example. Please set `input_example` parameter when logging the model to auto infer the model signature.\n"
     ]
    }
   ],
   "source": [
    "import mlflow.sklearn\n",
    "from sklearn.ensemble import RandomForestRegressor\n",
    "\n",
    "# Iniciar el experimento\n",
    "mlflow.set_experiment(\"Random Forest Experiment\")\n",
    "\n",
    "with mlflow.start_run():\n",
    "    # Entrenar el modelo\n",
    "    rf_model = RandomForestRegressor()\n",
    "    rf_model.fit(X_train, y_train)\n",
    "\n",
    "    # Registrar el modelo y su métrica\n",
    "    mlflow.sklearn.log_model(rf_model, \"random-forest-model\")\n",
    "    mlflow.log_metric(\"rmse\", rmse_value)\n"
   ],
   "metadata": {
    "collapsed": false,
    "ExecuteTime": {
     "end_time": "2024-09-20T20:32:40.230864300Z",
     "start_time": "2024-09-20T20:28:08.329602800Z"
    }
   },
   "id": "b1a736071ec1dcd",
   "execution_count": 24
  },
  {
   "cell_type": "markdown",
   "source": [
    "## Buscar hiperparámetros:"
   ],
   "metadata": {
    "collapsed": false
   },
   "id": "f9b3628af391a600"
  },
  {
   "cell_type": "code",
   "outputs": [
    {
     "name": "stderr",
     "output_type": "stream",
     "text": [
      "2024/09/20 14:58:43 WARNING mlflow.models.model: Model logged without a signature and input example. Please set `input_example` parameter when logging the model to auto infer the model signature.\n"
     ]
    },
    {
     "data": {
      "text/plain": "<mlflow.models.model.ModelInfo at 0x163687d0c80>"
     },
     "execution_count": 25,
     "metadata": {},
     "output_type": "execute_result"
    }
   ],
   "source": [
    "from sklearn.model_selection import GridSearchCV\n",
    "\n",
    "param_grid = {'n_estimators': [100, 200], 'max_depth': [10, 20]}\n",
    "grid_search = GridSearchCV(GradientBoostingRegressor(), param_grid, scoring=\"neg_mean_squared_error\")\n",
    "grid_search.fit(X_train, y_train)\n",
    "\n",
    "# Guardar el mejor modelo\n",
    "best_model = grid_search.best_estimator_\n",
    "mlflow.sklearn.log_model(best_model, \"best-gb-model\")\n"
   ],
   "metadata": {
    "collapsed": false,
    "ExecuteTime": {
     "end_time": "2024-09-20T20:58:43.838681200Z",
     "start_time": "2024-09-20T20:34:01.025395700Z"
    }
   },
   "id": "eb649fd8e464f1fe",
   "execution_count": 25
  },
  {
   "cell_type": "markdown",
   "source": [
    "## OTRO INTENTO PARA LOS MODELOS"
   ],
   "metadata": {
    "collapsed": false
   },
   "id": "3f99a63117c2e92b"
  },
  {
   "cell_type": "code",
   "outputs": [],
   "source": [
    "import mlflow.sklearn\n",
    "from sklearn.ensemble import RandomForestRegressor\n",
    "from hyperopt import fmin, tpe, hp, STATUS_OK, Trials\n",
    "from sklearn.metrics import mean_squared_error\n",
    "import numpy as np\n",
    "import pathlib\n",
    "import pickle\n",
    "\n",
    "def root_mean_squared_error(y_true, y_pred):\n",
    "    return np.sqrt(mean_squared_error(y_true, y_pred))\n",
    "\n",
    "def objective_rf(params):\n",
    "    params['max_depth'] = int(params['max_depth'])  # Convertir a int aquí\n",
    "    params['min_samples_split'] = int(params['min_samples_split'])  \n",
    "    with mlflow.start_run(nested=True):\n",
    "        mlflow.log_params(params)\n",
    "        \n",
    "        # Crea y entrena el modelo\n",
    "        rf = RandomForestRegressor(**params)\n",
    "        rf.fit(X_train, y_train)\n",
    "\n",
    "        # Predicción en el conjunto de validación\n",
    "        y_pred = rf.predict(X_val)\n",
    "\n",
    "        # Calcular RMSE\n",
    "        rmse = root_mean_squared_error(y_val, y_pred)\n",
    "        mlflow.log_metric(\"rmse\", rmse)\n",
    "\n",
    "    return {'loss': rmse, 'status': STATUS_OK}\n",
    "\n"
   ],
   "metadata": {
    "collapsed": false,
    "ExecuteTime": {
     "end_time": "2024-09-20T21:06:55.554223Z",
     "start_time": "2024-09-20T21:06:55.546112600Z"
    }
   },
   "id": "17a9790d84eb9e21",
   "execution_count": 32
  },
  {
   "cell_type": "code",
   "outputs": [
    {
     "name": "stdout",
     "output_type": "stream",
     "text": [
      "100%|██████████| 10/10 [04:32<00:00, 27.27s/trial, best loss: 5.358797747712526]\n"
     ]
    },
    {
     "name": "stderr",
     "output_type": "stream",
     "text": [
      "2024/09/20 15:11:54 WARNING mlflow.models.model: Model logged without a signature and input example. Please set `input_example` parameter when logging the model to auto infer the model signature.\n"
     ]
    }
   ],
   "source": [
    "# Espacio de búsqueda de hiperparámetros para Random Forest\n",
    "search_space_rf = {\n",
    "    'n_estimators': hp.choice('n_estimators', [50, 100, 150]),\n",
    "    'max_depth': hp.quniform('max_depth', 5, 30,1),\n",
    "    'min_samples_split': hp.quniform('min_samples_split', 2, 10, 1),\n",
    "    'random_state': 42\n",
    "}\n",
    "\n",
    "# Optimización con Hyperopt\n",
    "with mlflow.start_run(run_name=\"Random Forest Hyper-parameter Optimization\", nested=True):\n",
    "    best_params_rf = fmin(\n",
    "        fn=objective_rf,\n",
    "        space=search_space_rf,\n",
    "        algo=tpe.suggest,\n",
    "        max_evals=10,\n",
    "        trials=Trials()\n",
    "    )\n",
    "\n",
    "    best_params_rf[\"max_depth\"] = int(best_params_rf[\"max_depth\"])\n",
    "    best_params_rf[\"min_samples_split\"] = int(best_params_rf[\"min_samples_split\"])\n",
    "    mlflow.log_params(best_params_rf)\n",
    "\n",
    "    # Entrenar el modelo final con los mejores parámetros\n",
    "    rf_final = RandomForestRegressor(**best_params_rf)\n",
    "    rf_final.fit(X_train, y_train)\n",
    "\n",
    "    # Predicción y cálculo de RMSE\n",
    "    y_pred_rf = rf_final.predict(X_val)\n",
    "    rmse_rf = root_mean_squared_error(y_val, y_pred_rf)\n",
    "    mlflow.log_metric(\"rmse_final\", rmse_rf)\n",
    "    \n",
    "    # Guardar el modelo\n",
    "    mlflow.sklearn.log_model(rf_final, artifact_path=\"model_rf\")\n",
    "\n",
    "    # Guardar el preprocesador\n",
    "    pathlib.Path(\"models\").mkdir(exist_ok=True)\n",
    "    with open(\"models/preprocessor.b\", \"wb\") as f_out:\n",
    "        pickle.dump(dv, f_out)\n",
    "\n",
    "    mlflow.log_artifact(\"models/preprocessor.b\", artifact_path=\"preprocessor\")\n"
   ],
   "metadata": {
    "collapsed": false,
    "ExecuteTime": {
     "end_time": "2024-09-20T21:11:54.871274200Z",
     "start_time": "2024-09-20T21:07:10.782931500Z"
    }
   },
   "id": "3f36c3aa115cd3fd",
   "execution_count": 34
  },
  {
   "cell_type": "code",
   "outputs": [],
   "source": [
    "import pandas as pd\n",
    "\n",
    "# Convertir a DataFrame\n",
    "X_train = pd.DataFrame(X_train)\n",
    "X_val = pd.DataFrame(X_val)\n",
    "y_train = pd.Series(y_train)\n",
    "y_val = pd.Series(y_val)\n"
   ],
   "metadata": {
    "collapsed": false,
    "ExecuteTime": {
     "end_time": "2024-09-20T22:31:47.755146300Z",
     "start_time": "2024-09-20T22:31:47.731625700Z"
    }
   },
   "id": "7f6dad84ca5aa4aa",
   "execution_count": 26
  },
  {
   "cell_type": "code",
   "outputs": [
    {
     "name": "stdout",
     "output_type": "stream",
     "text": [
      "  0%|          | 0/10 [00:00<?, ?trial/s, best loss=?]"
     ]
    },
    {
     "name": "stderr",
     "output_type": "stream",
     "text": [
      "2024/09/20 15:59:12 WARNING mlflow.data.pandas_dataset: Failed to infer schema for Pandas dataset. Exception: Failed to infer schema for pandas.Series 0        <Compressed Sparse Row sparse matrix of dtype ...\n",
      "1        <Compressed Sparse Row sparse matrix of dtype ...\n",
      "2        <Compressed Sparse Row sparse matrix of dtype ...\n",
      "3        <Compressed Sparse Row sparse matrix of dtype ...\n",
      "4        <Compressed Sparse Row sparse matrix of dtype ...\n",
      "                               ...                        \n",
      "54368    <Compressed Sparse Row sparse matrix of dtype ...\n",
      "54369    <Compressed Sparse Row sparse matrix of dtype ...\n",
      "54370    <Compressed Sparse Row sparse matrix of dtype ...\n",
      "54371    <Compressed Sparse Row sparse matrix of dtype ...\n",
      "54372    <Compressed Sparse Row sparse matrix of dtype ...\n",
      "Name: 0, Length: 54373, dtype: object. Error: Data <Compressed Sparse Row sparse matrix of dtype 'float64'\n",
      "\twith 2 stored elements and shape (1, 5093)>\n",
      "  Coords\tValues\n",
      "  (0, 2065)\t1.0\n",
      "  (0, 5092)\t1.98 is not one of the supported DataType\n",
      "\n",
      "2024/09/20 15:59:12 INFO mlflow.tracking._tracking_service.client: 🏃 View run colorful-zebra-282 at: https://dagshub.com/PacoTinoco/nyc-taxi-time-prediction.mlflow/#/experiments/0/runs/be4686c917ec4be98eff363a804631d5.\n",
      "\n",
      "2024/09/20 15:59:12 INFO mlflow.tracking._tracking_service.client: 🧪 View experiment at: https://dagshub.com/PacoTinoco/nyc-taxi-time-prediction.mlflow/#/experiments/0.\n",
      "\n",
      "job exception: setting an array element with a sequence.\n",
      "\n"
     ]
    },
    {
     "name": "stdout",
     "output_type": "stream",
     "text": [
      "  0%|          | 0/10 [00:01<?, ?trial/s, best loss=?]\n"
     ]
    },
    {
     "name": "stderr",
     "output_type": "stream",
     "text": [
      "2024/09/20 15:59:13 INFO mlflow.tracking._tracking_service.client: 🏃 View run Random Forest Hyper-parameter Optimization at: https://dagshub.com/PacoTinoco/nyc-taxi-time-prediction.mlflow/#/experiments/0/runs/b738e05a99144ec0b8627e07cf298d45.\n",
      "2024/09/20 15:59:13 INFO mlflow.tracking._tracking_service.client: 🧪 View experiment at: https://dagshub.com/PacoTinoco/nyc-taxi-time-prediction.mlflow/#/experiments/0.\n"
     ]
    },
    {
     "ename": "ValueError",
     "evalue": "setting an array element with a sequence.",
     "output_type": "error",
     "traceback": [
      "\u001B[1;31m---------------------------------------------------------------------------\u001B[0m",
      "\u001B[1;31mTypeError\u001B[0m                                 Traceback (most recent call last)",
      "\u001B[1;31mTypeError\u001B[0m: float() argument must be a string or a real number, not 'csr_matrix'",
      "\nThe above exception was the direct cause of the following exception:\n",
      "\u001B[1;31mValueError\u001B[0m                                Traceback (most recent call last)",
      "\u001B[1;32m~\\AppData\\Local\\Temp\\ipykernel_23440\\852206093.py\u001B[0m in \u001B[0;36m?\u001B[1;34m()\u001B[0m\n\u001B[0;32m     41\u001B[0m \u001B[1;33m}\u001B[0m\u001B[1;33m\u001B[0m\u001B[1;33m\u001B[0m\u001B[0m\n\u001B[0;32m     42\u001B[0m \u001B[1;33m\u001B[0m\u001B[0m\n\u001B[0;32m     43\u001B[0m \u001B[1;31m# Optimización con Hyperopt\u001B[0m\u001B[1;33m\u001B[0m\u001B[1;33m\u001B[0m\u001B[0m\n\u001B[0;32m     44\u001B[0m \u001B[1;32mwith\u001B[0m \u001B[0mmlflow\u001B[0m\u001B[1;33m.\u001B[0m\u001B[0mstart_run\u001B[0m\u001B[1;33m(\u001B[0m\u001B[0mrun_name\u001B[0m\u001B[1;33m=\u001B[0m\u001B[1;34m\"Random Forest Hyper-parameter Optimization\"\u001B[0m\u001B[1;33m,\u001B[0m \u001B[0mnested\u001B[0m\u001B[1;33m=\u001B[0m\u001B[1;32mTrue\u001B[0m\u001B[1;33m)\u001B[0m\u001B[1;33m:\u001B[0m\u001B[1;33m\u001B[0m\u001B[1;33m\u001B[0m\u001B[0m\n\u001B[1;32m---> 45\u001B[1;33m     best_params_rf = fmin(\n\u001B[0m\u001B[0;32m     46\u001B[0m         \u001B[0mfn\u001B[0m\u001B[1;33m=\u001B[0m\u001B[0mobjective_rf\u001B[0m\u001B[1;33m,\u001B[0m\u001B[1;33m\u001B[0m\u001B[1;33m\u001B[0m\u001B[0m\n\u001B[0;32m     47\u001B[0m         \u001B[0mspace\u001B[0m\u001B[1;33m=\u001B[0m\u001B[0msearch_space_rf\u001B[0m\u001B[1;33m,\u001B[0m\u001B[1;33m\u001B[0m\u001B[1;33m\u001B[0m\u001B[0m\n\u001B[0;32m     48\u001B[0m         \u001B[0malgo\u001B[0m\u001B[1;33m=\u001B[0m\u001B[0mtpe\u001B[0m\u001B[1;33m.\u001B[0m\u001B[0msuggest\u001B[0m\u001B[1;33m,\u001B[0m\u001B[1;33m\u001B[0m\u001B[1;33m\u001B[0m\u001B[0m\n",
      "\u001B[1;32m~\\Downloads\\proyectoCienciaDeDatos2\\nyc-taxi-time-prediction\\.venv\\Lib\\site-packages\\hyperopt\\fmin.py\u001B[0m in \u001B[0;36m?\u001B[1;34m(fn, space, algo, max_evals, timeout, loss_threshold, trials, rstate, allow_trials_fmin, pass_expr_memo_ctrl, catch_eval_exceptions, verbose, return_argmin, points_to_evaluate, max_queue_len, show_progressbar, early_stop_fn, trials_save_file)\u001B[0m\n\u001B[0;32m    536\u001B[0m         \u001B[1;31m# Change fn to accept a dict-like argument\u001B[0m\u001B[1;33m\u001B[0m\u001B[1;33m\u001B[0m\u001B[0m\n\u001B[0;32m    537\u001B[0m         \u001B[0mfn\u001B[0m \u001B[1;33m=\u001B[0m \u001B[0m__objective_fmin_wrapper\u001B[0m\u001B[1;33m(\u001B[0m\u001B[0mfn\u001B[0m\u001B[1;33m)\u001B[0m\u001B[1;33m\u001B[0m\u001B[1;33m\u001B[0m\u001B[0m\n\u001B[0;32m    538\u001B[0m \u001B[1;33m\u001B[0m\u001B[0m\n\u001B[0;32m    539\u001B[0m     \u001B[1;32mif\u001B[0m \u001B[0mallow_trials_fmin\u001B[0m \u001B[1;32mand\u001B[0m \u001B[0mhasattr\u001B[0m\u001B[1;33m(\u001B[0m\u001B[0mtrials\u001B[0m\u001B[1;33m,\u001B[0m \u001B[1;34m\"fmin\"\u001B[0m\u001B[1;33m)\u001B[0m\u001B[1;33m:\u001B[0m\u001B[1;33m\u001B[0m\u001B[1;33m\u001B[0m\u001B[0m\n\u001B[1;32m--> 540\u001B[1;33m         return trials.fmin(\n\u001B[0m\u001B[0;32m    541\u001B[0m             \u001B[0mfn\u001B[0m\u001B[1;33m,\u001B[0m\u001B[1;33m\u001B[0m\u001B[1;33m\u001B[0m\u001B[0m\n\u001B[0;32m    542\u001B[0m             \u001B[0mspace\u001B[0m\u001B[1;33m,\u001B[0m\u001B[1;33m\u001B[0m\u001B[1;33m\u001B[0m\u001B[0m\n\u001B[0;32m    543\u001B[0m             \u001B[0malgo\u001B[0m\u001B[1;33m=\u001B[0m\u001B[0malgo\u001B[0m\u001B[1;33m,\u001B[0m\u001B[1;33m\u001B[0m\u001B[1;33m\u001B[0m\u001B[0m\n",
      "\u001B[1;32m~\\Downloads\\proyectoCienciaDeDatos2\\nyc-taxi-time-prediction\\.venv\\Lib\\site-packages\\hyperopt\\base.py\u001B[0m in \u001B[0;36m?\u001B[1;34m(self, fn, space, algo, max_evals, timeout, loss_threshold, max_queue_len, rstate, verbose, pass_expr_memo_ctrl, catch_eval_exceptions, return_argmin, show_progressbar, early_stop_fn, trials_save_file)\u001B[0m\n\u001B[0;32m    667\u001B[0m         \u001B[1;31m#    fmin should have been a Trials method in the first place\u001B[0m\u001B[1;33m\u001B[0m\u001B[1;33m\u001B[0m\u001B[0m\n\u001B[0;32m    668\u001B[0m         \u001B[1;31m#    but for now it's still sitting in another file.\u001B[0m\u001B[1;33m\u001B[0m\u001B[1;33m\u001B[0m\u001B[0m\n\u001B[0;32m    669\u001B[0m         \u001B[1;32mfrom\u001B[0m \u001B[1;33m.\u001B[0m\u001B[0mfmin\u001B[0m \u001B[1;32mimport\u001B[0m \u001B[0mfmin\u001B[0m\u001B[1;33m\u001B[0m\u001B[1;33m\u001B[0m\u001B[0m\n\u001B[0;32m    670\u001B[0m \u001B[1;33m\u001B[0m\u001B[0m\n\u001B[1;32m--> 671\u001B[1;33m         return fmin(\n\u001B[0m\u001B[0;32m    672\u001B[0m             \u001B[0mfn\u001B[0m\u001B[1;33m,\u001B[0m\u001B[1;33m\u001B[0m\u001B[1;33m\u001B[0m\u001B[0m\n\u001B[0;32m    673\u001B[0m             \u001B[0mspace\u001B[0m\u001B[1;33m,\u001B[0m\u001B[1;33m\u001B[0m\u001B[1;33m\u001B[0m\u001B[0m\n\u001B[0;32m    674\u001B[0m             \u001B[0malgo\u001B[0m\u001B[1;33m=\u001B[0m\u001B[0malgo\u001B[0m\u001B[1;33m,\u001B[0m\u001B[1;33m\u001B[0m\u001B[1;33m\u001B[0m\u001B[0m\n",
      "\u001B[1;32m~\\Downloads\\proyectoCienciaDeDatos2\\nyc-taxi-time-prediction\\.venv\\Lib\\site-packages\\hyperopt\\fmin.py\u001B[0m in \u001B[0;36m?\u001B[1;34m(fn, space, algo, max_evals, timeout, loss_threshold, trials, rstate, allow_trials_fmin, pass_expr_memo_ctrl, catch_eval_exceptions, verbose, return_argmin, points_to_evaluate, max_queue_len, show_progressbar, early_stop_fn, trials_save_file)\u001B[0m\n\u001B[0;32m    582\u001B[0m     \u001B[1;33m)\u001B[0m\u001B[1;33m\u001B[0m\u001B[1;33m\u001B[0m\u001B[0m\n\u001B[0;32m    583\u001B[0m     \u001B[0mrval\u001B[0m\u001B[1;33m.\u001B[0m\u001B[0mcatch_eval_exceptions\u001B[0m \u001B[1;33m=\u001B[0m \u001B[0mcatch_eval_exceptions\u001B[0m\u001B[1;33m\u001B[0m\u001B[1;33m\u001B[0m\u001B[0m\n\u001B[0;32m    584\u001B[0m \u001B[1;33m\u001B[0m\u001B[0m\n\u001B[0;32m    585\u001B[0m     \u001B[1;31m# next line is where the fmin is actually executed\u001B[0m\u001B[1;33m\u001B[0m\u001B[1;33m\u001B[0m\u001B[0m\n\u001B[1;32m--> 586\u001B[1;33m     \u001B[0mrval\u001B[0m\u001B[1;33m.\u001B[0m\u001B[0mexhaust\u001B[0m\u001B[1;33m(\u001B[0m\u001B[1;33m)\u001B[0m\u001B[1;33m\u001B[0m\u001B[1;33m\u001B[0m\u001B[0m\n\u001B[0m\u001B[0;32m    587\u001B[0m \u001B[1;33m\u001B[0m\u001B[0m\n\u001B[0;32m    588\u001B[0m     \u001B[1;32mif\u001B[0m \u001B[0mreturn_argmin\u001B[0m\u001B[1;33m:\u001B[0m\u001B[1;33m\u001B[0m\u001B[1;33m\u001B[0m\u001B[0m\n\u001B[0;32m    589\u001B[0m         \u001B[1;32mif\u001B[0m \u001B[0mlen\u001B[0m\u001B[1;33m(\u001B[0m\u001B[0mtrials\u001B[0m\u001B[1;33m.\u001B[0m\u001B[0mtrials\u001B[0m\u001B[1;33m)\u001B[0m \u001B[1;33m==\u001B[0m \u001B[1;36m0\u001B[0m\u001B[1;33m:\u001B[0m\u001B[1;33m\u001B[0m\u001B[1;33m\u001B[0m\u001B[0m\n",
      "\u001B[1;32m~\\Downloads\\proyectoCienciaDeDatos2\\nyc-taxi-time-prediction\\.venv\\Lib\\site-packages\\hyperopt\\fmin.py\u001B[0m in \u001B[0;36m?\u001B[1;34m(self)\u001B[0m\n\u001B[0;32m    362\u001B[0m     \u001B[1;32mdef\u001B[0m \u001B[0mexhaust\u001B[0m\u001B[1;33m(\u001B[0m\u001B[0mself\u001B[0m\u001B[1;33m)\u001B[0m\u001B[1;33m:\u001B[0m\u001B[1;33m\u001B[0m\u001B[1;33m\u001B[0m\u001B[0m\n\u001B[0;32m    363\u001B[0m         \u001B[0mn_done\u001B[0m \u001B[1;33m=\u001B[0m \u001B[0mlen\u001B[0m\u001B[1;33m(\u001B[0m\u001B[0mself\u001B[0m\u001B[1;33m.\u001B[0m\u001B[0mtrials\u001B[0m\u001B[1;33m)\u001B[0m\u001B[1;33m\u001B[0m\u001B[1;33m\u001B[0m\u001B[0m\n\u001B[1;32m--> 364\u001B[1;33m         \u001B[0mself\u001B[0m\u001B[1;33m.\u001B[0m\u001B[0mrun\u001B[0m\u001B[1;33m(\u001B[0m\u001B[0mself\u001B[0m\u001B[1;33m.\u001B[0m\u001B[0mmax_evals\u001B[0m \u001B[1;33m-\u001B[0m \u001B[0mn_done\u001B[0m\u001B[1;33m,\u001B[0m \u001B[0mblock_until_done\u001B[0m\u001B[1;33m=\u001B[0m\u001B[0mself\u001B[0m\u001B[1;33m.\u001B[0m\u001B[0masynchronous\u001B[0m\u001B[1;33m)\u001B[0m\u001B[1;33m\u001B[0m\u001B[1;33m\u001B[0m\u001B[0m\n\u001B[0m\u001B[0;32m    365\u001B[0m         \u001B[0mself\u001B[0m\u001B[1;33m.\u001B[0m\u001B[0mtrials\u001B[0m\u001B[1;33m.\u001B[0m\u001B[0mrefresh\u001B[0m\u001B[1;33m(\u001B[0m\u001B[1;33m)\u001B[0m\u001B[1;33m\u001B[0m\u001B[1;33m\u001B[0m\u001B[0m\n\u001B[0;32m    366\u001B[0m         \u001B[1;32mreturn\u001B[0m \u001B[0mself\u001B[0m\u001B[1;33m\u001B[0m\u001B[1;33m\u001B[0m\u001B[0m\n",
      "\u001B[1;32m~\\Downloads\\proyectoCienciaDeDatos2\\nyc-taxi-time-prediction\\.venv\\Lib\\site-packages\\hyperopt\\fmin.py\u001B[0m in \u001B[0;36m?\u001B[1;34m(self, N, block_until_done)\u001B[0m\n\u001B[0;32m    296\u001B[0m                     \u001B[1;31m# -- wait for workers to fill in the trials\u001B[0m\u001B[1;33m\u001B[0m\u001B[1;33m\u001B[0m\u001B[0m\n\u001B[0;32m    297\u001B[0m                     \u001B[0mtime\u001B[0m\u001B[1;33m.\u001B[0m\u001B[0msleep\u001B[0m\u001B[1;33m(\u001B[0m\u001B[0mself\u001B[0m\u001B[1;33m.\u001B[0m\u001B[0mpoll_interval_secs\u001B[0m\u001B[1;33m)\u001B[0m\u001B[1;33m\u001B[0m\u001B[1;33m\u001B[0m\u001B[0m\n\u001B[0;32m    298\u001B[0m                 \u001B[1;32melse\u001B[0m\u001B[1;33m:\u001B[0m\u001B[1;33m\u001B[0m\u001B[1;33m\u001B[0m\u001B[0m\n\u001B[0;32m    299\u001B[0m                     \u001B[1;31m# -- loop over trials and do the jobs directly\u001B[0m\u001B[1;33m\u001B[0m\u001B[1;33m\u001B[0m\u001B[0m\n\u001B[1;32m--> 300\u001B[1;33m                     \u001B[0mself\u001B[0m\u001B[1;33m.\u001B[0m\u001B[0mserial_evaluate\u001B[0m\u001B[1;33m(\u001B[0m\u001B[1;33m)\u001B[0m\u001B[1;33m\u001B[0m\u001B[1;33m\u001B[0m\u001B[0m\n\u001B[0m\u001B[0;32m    301\u001B[0m \u001B[1;33m\u001B[0m\u001B[0m\n\u001B[0;32m    302\u001B[0m                 \u001B[0mself\u001B[0m\u001B[1;33m.\u001B[0m\u001B[0mtrials\u001B[0m\u001B[1;33m.\u001B[0m\u001B[0mrefresh\u001B[0m\u001B[1;33m(\u001B[0m\u001B[1;33m)\u001B[0m\u001B[1;33m\u001B[0m\u001B[1;33m\u001B[0m\u001B[0m\n\u001B[0;32m    303\u001B[0m                 \u001B[1;32mif\u001B[0m \u001B[0mself\u001B[0m\u001B[1;33m.\u001B[0m\u001B[0mtrials_save_file\u001B[0m \u001B[1;33m!=\u001B[0m \u001B[1;34m\"\"\u001B[0m\u001B[1;33m:\u001B[0m\u001B[1;33m\u001B[0m\u001B[1;33m\u001B[0m\u001B[0m\n",
      "\u001B[1;32m~\\Downloads\\proyectoCienciaDeDatos2\\nyc-taxi-time-prediction\\.venv\\Lib\\site-packages\\hyperopt\\fmin.py\u001B[0m in \u001B[0;36m?\u001B[1;34m(self, N)\u001B[0m\n\u001B[0;32m    185\u001B[0m                         \u001B[1;31m# -- JOB_STATE_ERROR means this trial\u001B[0m\u001B[1;33m\u001B[0m\u001B[1;33m\u001B[0m\u001B[0m\n\u001B[0;32m    186\u001B[0m                         \u001B[1;31m#    will be removed from self.trials.trials\u001B[0m\u001B[1;33m\u001B[0m\u001B[1;33m\u001B[0m\u001B[0m\n\u001B[0;32m    187\u001B[0m                         \u001B[1;31m#    by this refresh call.\u001B[0m\u001B[1;33m\u001B[0m\u001B[1;33m\u001B[0m\u001B[0m\n\u001B[0;32m    188\u001B[0m                         \u001B[0mself\u001B[0m\u001B[1;33m.\u001B[0m\u001B[0mtrials\u001B[0m\u001B[1;33m.\u001B[0m\u001B[0mrefresh\u001B[0m\u001B[1;33m(\u001B[0m\u001B[1;33m)\u001B[0m\u001B[1;33m\u001B[0m\u001B[1;33m\u001B[0m\u001B[0m\n\u001B[1;32m--> 189\u001B[1;33m                         \u001B[1;32mraise\u001B[0m\u001B[1;33m\u001B[0m\u001B[1;33m\u001B[0m\u001B[0m\n\u001B[0m\u001B[0;32m    190\u001B[0m                 \u001B[1;32melse\u001B[0m\u001B[1;33m:\u001B[0m\u001B[1;33m\u001B[0m\u001B[1;33m\u001B[0m\u001B[0m\n\u001B[0;32m    191\u001B[0m                     \u001B[0mtrial\u001B[0m\u001B[1;33m[\u001B[0m\u001B[1;34m\"state\"\u001B[0m\u001B[1;33m]\u001B[0m \u001B[1;33m=\u001B[0m \u001B[0mbase\u001B[0m\u001B[1;33m.\u001B[0m\u001B[0mJOB_STATE_DONE\u001B[0m\u001B[1;33m\u001B[0m\u001B[1;33m\u001B[0m\u001B[0m\n\u001B[0;32m    192\u001B[0m                     \u001B[0mtrial\u001B[0m\u001B[1;33m[\u001B[0m\u001B[1;34m\"result\"\u001B[0m\u001B[1;33m]\u001B[0m \u001B[1;33m=\u001B[0m \u001B[0mresult\u001B[0m\u001B[1;33m\u001B[0m\u001B[1;33m\u001B[0m\u001B[0m\n",
      "\u001B[1;32m~\\Downloads\\proyectoCienciaDeDatos2\\nyc-taxi-time-prediction\\.venv\\Lib\\site-packages\\hyperopt\\base.py\u001B[0m in \u001B[0;36m?\u001B[1;34m(self, config, ctrl, attach_attachments)\u001B[0m\n\u001B[0;32m    888\u001B[0m                 \u001B[0mself\u001B[0m\u001B[1;33m.\u001B[0m\u001B[0mexpr\u001B[0m\u001B[1;33m,\u001B[0m\u001B[1;33m\u001B[0m\u001B[1;33m\u001B[0m\u001B[0m\n\u001B[0;32m    889\u001B[0m                 \u001B[0mmemo\u001B[0m\u001B[1;33m=\u001B[0m\u001B[0mmemo\u001B[0m\u001B[1;33m,\u001B[0m\u001B[1;33m\u001B[0m\u001B[1;33m\u001B[0m\u001B[0m\n\u001B[0;32m    890\u001B[0m                 \u001B[0mprint_node_on_error\u001B[0m\u001B[1;33m=\u001B[0m\u001B[0mself\u001B[0m\u001B[1;33m.\u001B[0m\u001B[0mrec_eval_print_node_on_error\u001B[0m\u001B[1;33m,\u001B[0m\u001B[1;33m\u001B[0m\u001B[1;33m\u001B[0m\u001B[0m\n\u001B[0;32m    891\u001B[0m             \u001B[1;33m)\u001B[0m\u001B[1;33m\u001B[0m\u001B[1;33m\u001B[0m\u001B[0m\n\u001B[1;32m--> 892\u001B[1;33m             \u001B[0mrval\u001B[0m \u001B[1;33m=\u001B[0m \u001B[0mself\u001B[0m\u001B[1;33m.\u001B[0m\u001B[0mfn\u001B[0m\u001B[1;33m(\u001B[0m\u001B[0mpyll_rval\u001B[0m\u001B[1;33m)\u001B[0m\u001B[1;33m\u001B[0m\u001B[1;33m\u001B[0m\u001B[0m\n\u001B[0m\u001B[0;32m    893\u001B[0m \u001B[1;33m\u001B[0m\u001B[0m\n\u001B[0;32m    894\u001B[0m         \u001B[1;32mif\u001B[0m \u001B[0misinstance\u001B[0m\u001B[1;33m(\u001B[0m\u001B[0mrval\u001B[0m\u001B[1;33m,\u001B[0m \u001B[1;33m(\u001B[0m\u001B[0mfloat\u001B[0m\u001B[1;33m,\u001B[0m \u001B[0mint\u001B[0m\u001B[1;33m,\u001B[0m \u001B[0mnp\u001B[0m\u001B[1;33m.\u001B[0m\u001B[0mnumber\u001B[0m\u001B[1;33m)\u001B[0m\u001B[1;33m)\u001B[0m\u001B[1;33m:\u001B[0m\u001B[1;33m\u001B[0m\u001B[1;33m\u001B[0m\u001B[0m\n\u001B[0;32m    895\u001B[0m             \u001B[0mdict_rval\u001B[0m \u001B[1;33m=\u001B[0m \u001B[1;33m{\u001B[0m\u001B[1;34m\"loss\"\u001B[0m\u001B[1;33m:\u001B[0m \u001B[0mfloat\u001B[0m\u001B[1;33m(\u001B[0m\u001B[0mrval\u001B[0m\u001B[1;33m)\u001B[0m\u001B[1;33m,\u001B[0m \u001B[1;34m\"status\"\u001B[0m\u001B[1;33m:\u001B[0m \u001B[0mSTATUS_OK\u001B[0m\u001B[1;33m}\u001B[0m\u001B[1;33m\u001B[0m\u001B[1;33m\u001B[0m\u001B[0m\n",
      "\u001B[1;32m~\\AppData\\Local\\Temp\\ipykernel_23440\\852206093.py\u001B[0m in \u001B[0;36m?\u001B[1;34m(params)\u001B[0m\n\u001B[0;32m     20\u001B[0m         \u001B[0mmlflow\u001B[0m\u001B[1;33m.\u001B[0m\u001B[0mlog_params\u001B[0m\u001B[1;33m(\u001B[0m\u001B[0mparams\u001B[0m\u001B[1;33m)\u001B[0m\u001B[1;33m\u001B[0m\u001B[1;33m\u001B[0m\u001B[0m\n\u001B[0;32m     21\u001B[0m \u001B[1;33m\u001B[0m\u001B[0m\n\u001B[0;32m     22\u001B[0m         \u001B[1;31m# Crea y entrena el modelo\u001B[0m\u001B[1;33m\u001B[0m\u001B[1;33m\u001B[0m\u001B[0m\n\u001B[0;32m     23\u001B[0m         \u001B[0mrf\u001B[0m \u001B[1;33m=\u001B[0m \u001B[0mRandomForestRegressor\u001B[0m\u001B[1;33m(\u001B[0m\u001B[1;33m**\u001B[0m\u001B[0mparams\u001B[0m\u001B[1;33m)\u001B[0m\u001B[1;33m\u001B[0m\u001B[1;33m\u001B[0m\u001B[0m\n\u001B[1;32m---> 24\u001B[1;33m         \u001B[0mrf\u001B[0m\u001B[1;33m.\u001B[0m\u001B[0mfit\u001B[0m\u001B[1;33m(\u001B[0m\u001B[0mX_train\u001B[0m\u001B[1;33m,\u001B[0m \u001B[0my_train\u001B[0m\u001B[1;33m)\u001B[0m\u001B[1;33m\u001B[0m\u001B[1;33m\u001B[0m\u001B[0m\n\u001B[0m\u001B[0;32m     25\u001B[0m \u001B[1;33m\u001B[0m\u001B[0m\n\u001B[0;32m     26\u001B[0m         \u001B[1;31m# Predicción en el conjunto de validación\u001B[0m\u001B[1;33m\u001B[0m\u001B[1;33m\u001B[0m\u001B[0m\n\u001B[0;32m     27\u001B[0m         \u001B[0my_pred\u001B[0m \u001B[1;33m=\u001B[0m \u001B[0mrf\u001B[0m\u001B[1;33m.\u001B[0m\u001B[0mpredict\u001B[0m\u001B[1;33m(\u001B[0m\u001B[0mX_val\u001B[0m\u001B[1;33m)\u001B[0m\u001B[1;33m\u001B[0m\u001B[1;33m\u001B[0m\u001B[0m\n",
      "\u001B[1;32m~\\Downloads\\proyectoCienciaDeDatos2\\nyc-taxi-time-prediction\\.venv\\Lib\\site-packages\\mlflow\\utils\\autologging_utils\\safety.py\u001B[0m in \u001B[0;36m?\u001B[1;34m(*args, **kwargs)\u001B[0m\n\u001B[0;32m    595\u001B[0m                     \u001B[1;31m# Exceptions thrown during execution of the original function should be\u001B[0m\u001B[1;33m\u001B[0m\u001B[1;33m\u001B[0m\u001B[0m\n\u001B[0;32m    596\u001B[0m                     \u001B[1;31m# propagated to the caller. Additionally, exceptions encountered during test\u001B[0m\u001B[1;33m\u001B[0m\u001B[1;33m\u001B[0m\u001B[0m\n\u001B[0;32m    597\u001B[0m                     \u001B[1;31m# mode should be reraised to detect bugs in autologging implementations\u001B[0m\u001B[1;33m\u001B[0m\u001B[1;33m\u001B[0m\u001B[0m\n\u001B[0;32m    598\u001B[0m                     \u001B[1;32mif\u001B[0m \u001B[0mfailed_during_original\u001B[0m \u001B[1;32mor\u001B[0m \u001B[0mis_testing\u001B[0m\u001B[1;33m(\u001B[0m\u001B[1;33m)\u001B[0m\u001B[1;33m:\u001B[0m\u001B[1;33m\u001B[0m\u001B[1;33m\u001B[0m\u001B[0m\n\u001B[1;32m--> 599\u001B[1;33m                         \u001B[1;32mraise\u001B[0m\u001B[1;33m\u001B[0m\u001B[1;33m\u001B[0m\u001B[0m\n\u001B[0m\u001B[0;32m    600\u001B[0m \u001B[1;33m\u001B[0m\u001B[0m\n\u001B[0;32m    601\u001B[0m                 \u001B[1;32mif\u001B[0m \u001B[0mis_testing\u001B[0m\u001B[1;33m(\u001B[0m\u001B[1;33m)\u001B[0m \u001B[1;32mand\u001B[0m \u001B[1;32mnot\u001B[0m \u001B[0mpreexisting_run_for_testing\u001B[0m\u001B[1;33m:\u001B[0m\u001B[1;33m\u001B[0m\u001B[1;33m\u001B[0m\u001B[0m\n\u001B[0;32m    602\u001B[0m                     \u001B[1;31m# If an MLflow run was created during the execution of patch code, verify that\u001B[0m\u001B[1;33m\u001B[0m\u001B[1;33m\u001B[0m\u001B[0m\n",
      "\u001B[1;32m~\\Downloads\\proyectoCienciaDeDatos2\\nyc-taxi-time-prediction\\.venv\\Lib\\site-packages\\mlflow\\utils\\autologging_utils\\safety.py\u001B[0m in \u001B[0;36m?\u001B[1;34m(original, *args, **kwargs)\u001B[0m\n\u001B[0;32m    252\u001B[0m                 \u001B[1;31m# that runs are terminated if a user prematurely interrupts training execution\u001B[0m\u001B[1;33m\u001B[0m\u001B[1;33m\u001B[0m\u001B[0m\n\u001B[0;32m    253\u001B[0m                 \u001B[1;31m# (e.g. via sigint / ctrl-c)\u001B[0m\u001B[1;33m\u001B[0m\u001B[1;33m\u001B[0m\u001B[0m\n\u001B[0;32m    254\u001B[0m                 \u001B[1;32mif\u001B[0m \u001B[0mmanaged_run\u001B[0m\u001B[1;33m:\u001B[0m\u001B[1;33m\u001B[0m\u001B[1;33m\u001B[0m\u001B[0m\n\u001B[0;32m    255\u001B[0m                     \u001B[0mmlflow\u001B[0m\u001B[1;33m.\u001B[0m\u001B[0mend_run\u001B[0m\u001B[1;33m(\u001B[0m\u001B[0mRunStatus\u001B[0m\u001B[1;33m.\u001B[0m\u001B[0mto_string\u001B[0m\u001B[1;33m(\u001B[0m\u001B[0mRunStatus\u001B[0m\u001B[1;33m.\u001B[0m\u001B[0mFAILED\u001B[0m\u001B[1;33m)\u001B[0m\u001B[1;33m)\u001B[0m\u001B[1;33m\u001B[0m\u001B[1;33m\u001B[0m\u001B[0m\n\u001B[1;32m--> 256\u001B[1;33m                 \u001B[1;32mraise\u001B[0m\u001B[1;33m\u001B[0m\u001B[1;33m\u001B[0m\u001B[0m\n\u001B[0m\u001B[0;32m    257\u001B[0m             \u001B[1;32melse\u001B[0m\u001B[1;33m:\u001B[0m\u001B[1;33m\u001B[0m\u001B[1;33m\u001B[0m\u001B[0m\n\u001B[0;32m    258\u001B[0m                 \u001B[1;32mif\u001B[0m \u001B[0mmanaged_run\u001B[0m\u001B[1;33m:\u001B[0m\u001B[1;33m\u001B[0m\u001B[1;33m\u001B[0m\u001B[0m\n\u001B[0;32m    259\u001B[0m                     \u001B[0mmlflow\u001B[0m\u001B[1;33m.\u001B[0m\u001B[0mend_run\u001B[0m\u001B[1;33m(\u001B[0m\u001B[0mRunStatus\u001B[0m\u001B[1;33m.\u001B[0m\u001B[0mto_string\u001B[0m\u001B[1;33m(\u001B[0m\u001B[0mRunStatus\u001B[0m\u001B[1;33m.\u001B[0m\u001B[0mFINISHED\u001B[0m\u001B[1;33m)\u001B[0m\u001B[1;33m)\u001B[0m\u001B[1;33m\u001B[0m\u001B[1;33m\u001B[0m\u001B[0m\n",
      "\u001B[1;32m~\\Downloads\\proyectoCienciaDeDatos2\\nyc-taxi-time-prediction\\.venv\\Lib\\site-packages\\mlflow\\sklearn\\__init__.py\u001B[0m in \u001B[0;36m?\u001B[1;34m(fit_impl, allow_children_patch, original, self, *args, **kwargs)\u001B[0m\n\u001B[0;32m   1649\u001B[0m             \u001B[1;32mif\u001B[0m \u001B[0mt\u001B[0m\u001B[1;33m.\u001B[0m\u001B[0mshould_log\u001B[0m\u001B[1;33m(\u001B[0m\u001B[1;33m)\u001B[0m\u001B[1;33m:\u001B[0m\u001B[1;33m\u001B[0m\u001B[1;33m\u001B[0m\u001B[0m\n\u001B[0;32m   1650\u001B[0m                 \u001B[1;31m# In `fit_mlflow` call, it will also call metric API for computing training metrics\u001B[0m\u001B[1;33m\u001B[0m\u001B[1;33m\u001B[0m\u001B[0m\n\u001B[0;32m   1651\u001B[0m                 \u001B[1;31m# so we need temporarily disable the post_training_metrics patching.\u001B[0m\u001B[1;33m\u001B[0m\u001B[1;33m\u001B[0m\u001B[0m\n\u001B[0;32m   1652\u001B[0m                 \u001B[1;32mwith\u001B[0m \u001B[0m_AUTOLOGGING_METRICS_MANAGER\u001B[0m\u001B[1;33m.\u001B[0m\u001B[0mdisable_log_post_training_metrics\u001B[0m\u001B[1;33m(\u001B[0m\u001B[1;33m)\u001B[0m\u001B[1;33m:\u001B[0m\u001B[1;33m\u001B[0m\u001B[1;33m\u001B[0m\u001B[0m\n\u001B[1;32m-> 1653\u001B[1;33m                     \u001B[0mresult\u001B[0m \u001B[1;33m=\u001B[0m \u001B[0mfit_impl\u001B[0m\u001B[1;33m(\u001B[0m\u001B[0moriginal\u001B[0m\u001B[1;33m,\u001B[0m \u001B[0mself\u001B[0m\u001B[1;33m,\u001B[0m \u001B[1;33m*\u001B[0m\u001B[0margs\u001B[0m\u001B[1;33m,\u001B[0m \u001B[1;33m**\u001B[0m\u001B[0mkwargs\u001B[0m\u001B[1;33m)\u001B[0m\u001B[1;33m\u001B[0m\u001B[1;33m\u001B[0m\u001B[0m\n\u001B[0m\u001B[0;32m   1654\u001B[0m                 \u001B[1;32mif\u001B[0m \u001B[0mshould_log_post_training_metrics\u001B[0m\u001B[1;33m:\u001B[0m\u001B[1;33m\u001B[0m\u001B[1;33m\u001B[0m\u001B[0m\n\u001B[0;32m   1655\u001B[0m                     _AUTOLOGGING_METRICS_MANAGER.register_model(\n\u001B[0;32m   1656\u001B[0m                         \u001B[0mself\u001B[0m\u001B[1;33m,\u001B[0m \u001B[0mmlflow\u001B[0m\u001B[1;33m.\u001B[0m\u001B[0mactive_run\u001B[0m\u001B[1;33m(\u001B[0m\u001B[1;33m)\u001B[0m\u001B[1;33m.\u001B[0m\u001B[0minfo\u001B[0m\u001B[1;33m.\u001B[0m\u001B[0mrun_id\u001B[0m\u001B[1;33m\u001B[0m\u001B[1;33m\u001B[0m\u001B[0m\n",
      "\u001B[1;32m~\\Downloads\\proyectoCienciaDeDatos2\\nyc-taxi-time-prediction\\.venv\\Lib\\site-packages\\mlflow\\sklearn\\__init__.py\u001B[0m in \u001B[0;36m?\u001B[1;34m(original, self, *args, **kwargs)\u001B[0m\n\u001B[0;32m   1424\u001B[0m         \u001B[1;33m(\u001B[0m\u001B[0mX\u001B[0m\u001B[1;33m,\u001B[0m \u001B[0my_true\u001B[0m\u001B[1;33m,\u001B[0m \u001B[0msample_weight\u001B[0m\u001B[1;33m)\u001B[0m \u001B[1;33m=\u001B[0m \u001B[0m_get_X_y_and_sample_weight\u001B[0m\u001B[1;33m(\u001B[0m\u001B[0mself\u001B[0m\u001B[1;33m.\u001B[0m\u001B[0mfit\u001B[0m\u001B[1;33m,\u001B[0m \u001B[0margs\u001B[0m\u001B[1;33m,\u001B[0m \u001B[0mkwargs\u001B[0m\u001B[1;33m)\u001B[0m\u001B[1;33m\u001B[0m\u001B[1;33m\u001B[0m\u001B[0m\n\u001B[0;32m   1425\u001B[0m         \u001B[0mautologging_client\u001B[0m \u001B[1;33m=\u001B[0m \u001B[0mMlflowAutologgingQueueingClient\u001B[0m\u001B[1;33m(\u001B[0m\u001B[1;33m)\u001B[0m\u001B[1;33m\u001B[0m\u001B[1;33m\u001B[0m\u001B[0m\n\u001B[0;32m   1426\u001B[0m         \u001B[0m_log_pretraining_metadata\u001B[0m\u001B[1;33m(\u001B[0m\u001B[0mautologging_client\u001B[0m\u001B[1;33m,\u001B[0m \u001B[0mself\u001B[0m\u001B[1;33m,\u001B[0m \u001B[0mX\u001B[0m\u001B[1;33m,\u001B[0m \u001B[0my_true\u001B[0m\u001B[1;33m)\u001B[0m\u001B[1;33m\u001B[0m\u001B[1;33m\u001B[0m\u001B[0m\n\u001B[0;32m   1427\u001B[0m         \u001B[0mparams_logging_future\u001B[0m \u001B[1;33m=\u001B[0m \u001B[0mautologging_client\u001B[0m\u001B[1;33m.\u001B[0m\u001B[0mflush\u001B[0m\u001B[1;33m(\u001B[0m\u001B[0msynchronous\u001B[0m\u001B[1;33m=\u001B[0m\u001B[1;32mFalse\u001B[0m\u001B[1;33m)\u001B[0m\u001B[1;33m\u001B[0m\u001B[1;33m\u001B[0m\u001B[0m\n\u001B[1;32m-> 1428\u001B[1;33m         \u001B[0mfit_output\u001B[0m \u001B[1;33m=\u001B[0m \u001B[0moriginal\u001B[0m\u001B[1;33m(\u001B[0m\u001B[0mself\u001B[0m\u001B[1;33m,\u001B[0m \u001B[1;33m*\u001B[0m\u001B[0margs\u001B[0m\u001B[1;33m,\u001B[0m \u001B[1;33m**\u001B[0m\u001B[0mkwargs\u001B[0m\u001B[1;33m)\u001B[0m\u001B[1;33m\u001B[0m\u001B[1;33m\u001B[0m\u001B[0m\n\u001B[0m\u001B[0;32m   1429\u001B[0m         \u001B[0m_log_posttraining_metadata\u001B[0m\u001B[1;33m(\u001B[0m\u001B[0mautologging_client\u001B[0m\u001B[1;33m,\u001B[0m \u001B[0mself\u001B[0m\u001B[1;33m,\u001B[0m \u001B[0mX\u001B[0m\u001B[1;33m,\u001B[0m \u001B[0my_true\u001B[0m\u001B[1;33m,\u001B[0m \u001B[0msample_weight\u001B[0m\u001B[1;33m)\u001B[0m\u001B[1;33m\u001B[0m\u001B[1;33m\u001B[0m\u001B[0m\n\u001B[0;32m   1430\u001B[0m         \u001B[0mautologging_client\u001B[0m\u001B[1;33m.\u001B[0m\u001B[0mflush\u001B[0m\u001B[1;33m(\u001B[0m\u001B[0msynchronous\u001B[0m\u001B[1;33m=\u001B[0m\u001B[1;32mTrue\u001B[0m\u001B[1;33m)\u001B[0m\u001B[1;33m\u001B[0m\u001B[1;33m\u001B[0m\u001B[0m\n\u001B[0;32m   1431\u001B[0m         \u001B[0mparams_logging_future\u001B[0m\u001B[1;33m.\u001B[0m\u001B[0mawait_completion\u001B[0m\u001B[1;33m(\u001B[0m\u001B[1;33m)\u001B[0m\u001B[1;33m\u001B[0m\u001B[1;33m\u001B[0m\u001B[0m\n",
      "\u001B[1;32m~\\Downloads\\proyectoCienciaDeDatos2\\nyc-taxi-time-prediction\\.venv\\Lib\\site-packages\\mlflow\\utils\\autologging_utils\\safety.py\u001B[0m in \u001B[0;36m?\u001B[1;34m(*og_args, **og_kwargs)\u001B[0m\n\u001B[0;32m    557\u001B[0m                             \u001B[1;33m)\u001B[0m\u001B[1;33m:\u001B[0m\u001B[1;33m\u001B[0m\u001B[1;33m\u001B[0m\u001B[0m\n\u001B[0;32m    558\u001B[0m                                 \u001B[0moriginal_result\u001B[0m \u001B[1;33m=\u001B[0m \u001B[0moriginal\u001B[0m\u001B[1;33m(\u001B[0m\u001B[1;33m*\u001B[0m\u001B[0m_og_args\u001B[0m\u001B[1;33m,\u001B[0m \u001B[1;33m**\u001B[0m\u001B[0m_og_kwargs\u001B[0m\u001B[1;33m)\u001B[0m\u001B[1;33m\u001B[0m\u001B[1;33m\u001B[0m\u001B[0m\n\u001B[0;32m    559\u001B[0m                                 \u001B[1;32mreturn\u001B[0m \u001B[0moriginal_result\u001B[0m\u001B[1;33m\u001B[0m\u001B[1;33m\u001B[0m\u001B[0m\n\u001B[0;32m    560\u001B[0m \u001B[1;33m\u001B[0m\u001B[0m\n\u001B[1;32m--> 561\u001B[1;33m                         \u001B[1;32mreturn\u001B[0m \u001B[0mcall_original_fn_with_event_logging\u001B[0m\u001B[1;33m(\u001B[0m\u001B[0m_original_fn\u001B[0m\u001B[1;33m,\u001B[0m \u001B[0mog_args\u001B[0m\u001B[1;33m,\u001B[0m \u001B[0mog_kwargs\u001B[0m\u001B[1;33m)\u001B[0m\u001B[1;33m\u001B[0m\u001B[1;33m\u001B[0m\u001B[0m\n\u001B[0m",
      "\u001B[1;32m~\\Downloads\\proyectoCienciaDeDatos2\\nyc-taxi-time-prediction\\.venv\\Lib\\site-packages\\mlflow\\utils\\autologging_utils\\safety.py\u001B[0m in \u001B[0;36m?\u001B[1;34m(original_fn, og_args, og_kwargs)\u001B[0m\n\u001B[0;32m    516\u001B[0m                     \u001B[1;33m)\u001B[0m\u001B[1;33m\u001B[0m\u001B[1;33m\u001B[0m\u001B[0m\n\u001B[0;32m    517\u001B[0m \u001B[1;33m\u001B[0m\u001B[0m\n\u001B[0;32m    518\u001B[0m                     \u001B[1;32mnonlocal\u001B[0m \u001B[0mfailed_during_original\u001B[0m\u001B[1;33m\u001B[0m\u001B[1;33m\u001B[0m\u001B[0m\n\u001B[0;32m    519\u001B[0m                     \u001B[0mfailed_during_original\u001B[0m \u001B[1;33m=\u001B[0m \u001B[1;32mTrue\u001B[0m\u001B[1;33m\u001B[0m\u001B[1;33m\u001B[0m\u001B[0m\n\u001B[1;32m--> 520\u001B[1;33m                     \u001B[1;32mraise\u001B[0m\u001B[1;33m\u001B[0m\u001B[1;33m\u001B[0m\u001B[0m\n\u001B[0m",
      "\u001B[1;32m~\\Downloads\\proyectoCienciaDeDatos2\\nyc-taxi-time-prediction\\.venv\\Lib\\site-packages\\mlflow\\utils\\autologging_utils\\safety.py\u001B[0m in \u001B[0;36m?\u001B[1;34m(*_og_args, **_og_kwargs)\u001B[0m\n\u001B[0;32m    554\u001B[0m                             with set_non_mlflow_warnings_behavior_for_current_thread(\n\u001B[0;32m    555\u001B[0m                                 \u001B[0mdisable_warnings\u001B[0m\u001B[1;33m=\u001B[0m\u001B[1;32mFalse\u001B[0m\u001B[1;33m,\u001B[0m\u001B[1;33m\u001B[0m\u001B[1;33m\u001B[0m\u001B[0m\n\u001B[0;32m    556\u001B[0m                                 \u001B[0mreroute_warnings\u001B[0m\u001B[1;33m=\u001B[0m\u001B[1;32mFalse\u001B[0m\u001B[1;33m,\u001B[0m\u001B[1;33m\u001B[0m\u001B[1;33m\u001B[0m\u001B[0m\n\u001B[0;32m    557\u001B[0m                             \u001B[1;33m)\u001B[0m\u001B[1;33m:\u001B[0m\u001B[1;33m\u001B[0m\u001B[1;33m\u001B[0m\u001B[0m\n\u001B[1;32m--> 558\u001B[1;33m                                 \u001B[0moriginal_result\u001B[0m \u001B[1;33m=\u001B[0m \u001B[0moriginal\u001B[0m\u001B[1;33m(\u001B[0m\u001B[1;33m*\u001B[0m\u001B[0m_og_args\u001B[0m\u001B[1;33m,\u001B[0m \u001B[1;33m**\u001B[0m\u001B[0m_og_kwargs\u001B[0m\u001B[1;33m)\u001B[0m\u001B[1;33m\u001B[0m\u001B[1;33m\u001B[0m\u001B[0m\n\u001B[0m\u001B[0;32m    559\u001B[0m                                 \u001B[1;32mreturn\u001B[0m \u001B[0moriginal_result\u001B[0m\u001B[1;33m\u001B[0m\u001B[1;33m\u001B[0m\u001B[0m\n",
      "\u001B[1;32m~\\Downloads\\proyectoCienciaDeDatos2\\nyc-taxi-time-prediction\\.venv\\Lib\\site-packages\\sklearn\\base.py\u001B[0m in \u001B[0;36m?\u001B[1;34m(estimator, *args, **kwargs)\u001B[0m\n\u001B[0;32m   1469\u001B[0m                 skip_parameter_validation=(\n\u001B[0;32m   1470\u001B[0m                     \u001B[0mprefer_skip_nested_validation\u001B[0m \u001B[1;32mor\u001B[0m \u001B[0mglobal_skip_validation\u001B[0m\u001B[1;33m\u001B[0m\u001B[1;33m\u001B[0m\u001B[0m\n\u001B[0;32m   1471\u001B[0m                 \u001B[1;33m)\u001B[0m\u001B[1;33m\u001B[0m\u001B[1;33m\u001B[0m\u001B[0m\n\u001B[0;32m   1472\u001B[0m             \u001B[1;33m)\u001B[0m\u001B[1;33m:\u001B[0m\u001B[1;33m\u001B[0m\u001B[1;33m\u001B[0m\u001B[0m\n\u001B[1;32m-> 1473\u001B[1;33m                 \u001B[1;32mreturn\u001B[0m \u001B[0mfit_method\u001B[0m\u001B[1;33m(\u001B[0m\u001B[0mestimator\u001B[0m\u001B[1;33m,\u001B[0m \u001B[1;33m*\u001B[0m\u001B[0margs\u001B[0m\u001B[1;33m,\u001B[0m \u001B[1;33m**\u001B[0m\u001B[0mkwargs\u001B[0m\u001B[1;33m)\u001B[0m\u001B[1;33m\u001B[0m\u001B[1;33m\u001B[0m\u001B[0m\n\u001B[0m",
      "\u001B[1;32m~\\Downloads\\proyectoCienciaDeDatos2\\nyc-taxi-time-prediction\\.venv\\Lib\\site-packages\\sklearn\\ensemble\\_forest.py\u001B[0m in \u001B[0;36m?\u001B[1;34m(self, X, y, sample_weight)\u001B[0m\n\u001B[0;32m    359\u001B[0m         \u001B[1;31m# Validate or convert input data\u001B[0m\u001B[1;33m\u001B[0m\u001B[1;33m\u001B[0m\u001B[0m\n\u001B[0;32m    360\u001B[0m         \u001B[1;32mif\u001B[0m \u001B[0missparse\u001B[0m\u001B[1;33m(\u001B[0m\u001B[0my\u001B[0m\u001B[1;33m)\u001B[0m\u001B[1;33m:\u001B[0m\u001B[1;33m\u001B[0m\u001B[1;33m\u001B[0m\u001B[0m\n\u001B[0;32m    361\u001B[0m             \u001B[1;32mraise\u001B[0m \u001B[0mValueError\u001B[0m\u001B[1;33m(\u001B[0m\u001B[1;34m\"sparse multilabel-indicator for y is not supported.\"\u001B[0m\u001B[1;33m)\u001B[0m\u001B[1;33m\u001B[0m\u001B[1;33m\u001B[0m\u001B[0m\n\u001B[0;32m    362\u001B[0m \u001B[1;33m\u001B[0m\u001B[0m\n\u001B[1;32m--> 363\u001B[1;33m         X, y = self._validate_data(\n\u001B[0m\u001B[0;32m    364\u001B[0m             \u001B[0mX\u001B[0m\u001B[1;33m,\u001B[0m\u001B[1;33m\u001B[0m\u001B[1;33m\u001B[0m\u001B[0m\n\u001B[0;32m    365\u001B[0m             \u001B[0my\u001B[0m\u001B[1;33m,\u001B[0m\u001B[1;33m\u001B[0m\u001B[1;33m\u001B[0m\u001B[0m\n\u001B[0;32m    366\u001B[0m             \u001B[0mmulti_output\u001B[0m\u001B[1;33m=\u001B[0m\u001B[1;32mTrue\u001B[0m\u001B[1;33m,\u001B[0m\u001B[1;33m\u001B[0m\u001B[1;33m\u001B[0m\u001B[0m\n",
      "\u001B[1;32m~\\Downloads\\proyectoCienciaDeDatos2\\nyc-taxi-time-prediction\\.venv\\Lib\\site-packages\\sklearn\\base.py\u001B[0m in \u001B[0;36m?\u001B[1;34m(self, X, y, reset, validate_separately, cast_to_ndarray, **check_params)\u001B[0m\n\u001B[0;32m    646\u001B[0m                 \u001B[1;32mif\u001B[0m \u001B[1;34m\"estimator\"\u001B[0m \u001B[1;32mnot\u001B[0m \u001B[1;32min\u001B[0m \u001B[0mcheck_y_params\u001B[0m\u001B[1;33m:\u001B[0m\u001B[1;33m\u001B[0m\u001B[1;33m\u001B[0m\u001B[0m\n\u001B[0;32m    647\u001B[0m                     \u001B[0mcheck_y_params\u001B[0m \u001B[1;33m=\u001B[0m \u001B[1;33m{\u001B[0m\u001B[1;33m**\u001B[0m\u001B[0mdefault_check_params\u001B[0m\u001B[1;33m,\u001B[0m \u001B[1;33m**\u001B[0m\u001B[0mcheck_y_params\u001B[0m\u001B[1;33m}\u001B[0m\u001B[1;33m\u001B[0m\u001B[1;33m\u001B[0m\u001B[0m\n\u001B[0;32m    648\u001B[0m                 \u001B[0my\u001B[0m \u001B[1;33m=\u001B[0m \u001B[0mcheck_array\u001B[0m\u001B[1;33m(\u001B[0m\u001B[0my\u001B[0m\u001B[1;33m,\u001B[0m \u001B[0minput_name\u001B[0m\u001B[1;33m=\u001B[0m\u001B[1;34m\"y\"\u001B[0m\u001B[1;33m,\u001B[0m \u001B[1;33m**\u001B[0m\u001B[0mcheck_y_params\u001B[0m\u001B[1;33m)\u001B[0m\u001B[1;33m\u001B[0m\u001B[1;33m\u001B[0m\u001B[0m\n\u001B[0;32m    649\u001B[0m             \u001B[1;32melse\u001B[0m\u001B[1;33m:\u001B[0m\u001B[1;33m\u001B[0m\u001B[1;33m\u001B[0m\u001B[0m\n\u001B[1;32m--> 650\u001B[1;33m                 \u001B[0mX\u001B[0m\u001B[1;33m,\u001B[0m \u001B[0my\u001B[0m \u001B[1;33m=\u001B[0m \u001B[0mcheck_X_y\u001B[0m\u001B[1;33m(\u001B[0m\u001B[0mX\u001B[0m\u001B[1;33m,\u001B[0m \u001B[0my\u001B[0m\u001B[1;33m,\u001B[0m \u001B[1;33m**\u001B[0m\u001B[0mcheck_params\u001B[0m\u001B[1;33m)\u001B[0m\u001B[1;33m\u001B[0m\u001B[1;33m\u001B[0m\u001B[0m\n\u001B[0m\u001B[0;32m    651\u001B[0m             \u001B[0mout\u001B[0m \u001B[1;33m=\u001B[0m \u001B[0mX\u001B[0m\u001B[1;33m,\u001B[0m \u001B[0my\u001B[0m\u001B[1;33m\u001B[0m\u001B[1;33m\u001B[0m\u001B[0m\n\u001B[0;32m    652\u001B[0m \u001B[1;33m\u001B[0m\u001B[0m\n\u001B[0;32m    653\u001B[0m         \u001B[1;32mif\u001B[0m \u001B[1;32mnot\u001B[0m \u001B[0mno_val_X\u001B[0m \u001B[1;32mand\u001B[0m \u001B[0mcheck_params\u001B[0m\u001B[1;33m.\u001B[0m\u001B[0mget\u001B[0m\u001B[1;33m(\u001B[0m\u001B[1;34m\"ensure_2d\"\u001B[0m\u001B[1;33m,\u001B[0m \u001B[1;32mTrue\u001B[0m\u001B[1;33m)\u001B[0m\u001B[1;33m:\u001B[0m\u001B[1;33m\u001B[0m\u001B[1;33m\u001B[0m\u001B[0m\n",
      "\u001B[1;32m~\\Downloads\\proyectoCienciaDeDatos2\\nyc-taxi-time-prediction\\.venv\\Lib\\site-packages\\sklearn\\utils\\validation.py\u001B[0m in \u001B[0;36m?\u001B[1;34m(X, y, accept_sparse, accept_large_sparse, dtype, order, copy, force_writeable, force_all_finite, ensure_2d, allow_nd, multi_output, ensure_min_samples, ensure_min_features, y_numeric, estimator)\u001B[0m\n\u001B[0;32m   1297\u001B[0m         raise ValueError(\n\u001B[0;32m   1298\u001B[0m             \u001B[1;33mf\"\u001B[0m\u001B[1;33m{\u001B[0m\u001B[0mestimator_name\u001B[0m\u001B[1;33m}\u001B[0m\u001B[1;33m requires y to be passed, but the target y is None\u001B[0m\u001B[1;33m\"\u001B[0m\u001B[1;33m\u001B[0m\u001B[1;33m\u001B[0m\u001B[0m\n\u001B[0;32m   1299\u001B[0m         \u001B[1;33m)\u001B[0m\u001B[1;33m\u001B[0m\u001B[1;33m\u001B[0m\u001B[0m\n\u001B[0;32m   1300\u001B[0m \u001B[1;33m\u001B[0m\u001B[0m\n\u001B[1;32m-> 1301\u001B[1;33m     X = check_array(\n\u001B[0m\u001B[0;32m   1302\u001B[0m         \u001B[0mX\u001B[0m\u001B[1;33m,\u001B[0m\u001B[1;33m\u001B[0m\u001B[1;33m\u001B[0m\u001B[0m\n\u001B[0;32m   1303\u001B[0m         \u001B[0maccept_sparse\u001B[0m\u001B[1;33m=\u001B[0m\u001B[0maccept_sparse\u001B[0m\u001B[1;33m,\u001B[0m\u001B[1;33m\u001B[0m\u001B[1;33m\u001B[0m\u001B[0m\n\u001B[0;32m   1304\u001B[0m         \u001B[0maccept_large_sparse\u001B[0m\u001B[1;33m=\u001B[0m\u001B[0maccept_large_sparse\u001B[0m\u001B[1;33m,\u001B[0m\u001B[1;33m\u001B[0m\u001B[1;33m\u001B[0m\u001B[0m\n",
      "\u001B[1;32m~\\Downloads\\proyectoCienciaDeDatos2\\nyc-taxi-time-prediction\\.venv\\Lib\\site-packages\\sklearn\\utils\\validation.py\u001B[0m in \u001B[0;36m?\u001B[1;34m(array, accept_sparse, accept_large_sparse, dtype, order, copy, force_writeable, force_all_finite, ensure_2d, allow_nd, ensure_min_samples, ensure_min_features, estimator, input_name)\u001B[0m\n\u001B[0;32m   1009\u001B[0m                         \u001B[1;33m)\u001B[0m\u001B[1;33m\u001B[0m\u001B[1;33m\u001B[0m\u001B[0m\n\u001B[0;32m   1010\u001B[0m                     \u001B[0marray\u001B[0m \u001B[1;33m=\u001B[0m \u001B[0mxp\u001B[0m\u001B[1;33m.\u001B[0m\u001B[0mastype\u001B[0m\u001B[1;33m(\u001B[0m\u001B[0marray\u001B[0m\u001B[1;33m,\u001B[0m \u001B[0mdtype\u001B[0m\u001B[1;33m,\u001B[0m \u001B[0mcopy\u001B[0m\u001B[1;33m=\u001B[0m\u001B[1;32mFalse\u001B[0m\u001B[1;33m)\u001B[0m\u001B[1;33m\u001B[0m\u001B[1;33m\u001B[0m\u001B[0m\n\u001B[0;32m   1011\u001B[0m                 \u001B[1;32melse\u001B[0m\u001B[1;33m:\u001B[0m\u001B[1;33m\u001B[0m\u001B[1;33m\u001B[0m\u001B[0m\n\u001B[0;32m   1012\u001B[0m                     \u001B[0marray\u001B[0m \u001B[1;33m=\u001B[0m \u001B[0m_asarray_with_order\u001B[0m\u001B[1;33m(\u001B[0m\u001B[0marray\u001B[0m\u001B[1;33m,\u001B[0m \u001B[0morder\u001B[0m\u001B[1;33m=\u001B[0m\u001B[0morder\u001B[0m\u001B[1;33m,\u001B[0m \u001B[0mdtype\u001B[0m\u001B[1;33m=\u001B[0m\u001B[0mdtype\u001B[0m\u001B[1;33m,\u001B[0m \u001B[0mxp\u001B[0m\u001B[1;33m=\u001B[0m\u001B[0mxp\u001B[0m\u001B[1;33m)\u001B[0m\u001B[1;33m\u001B[0m\u001B[1;33m\u001B[0m\u001B[0m\n\u001B[1;32m-> 1013\u001B[1;33m             \u001B[1;32mexcept\u001B[0m \u001B[0mComplexWarning\u001B[0m \u001B[1;32mas\u001B[0m \u001B[0mcomplex_warning\u001B[0m\u001B[1;33m:\u001B[0m\u001B[1;33m\u001B[0m\u001B[1;33m\u001B[0m\u001B[0m\n\u001B[0m\u001B[0;32m   1014\u001B[0m                 raise ValueError(\n\u001B[0;32m   1015\u001B[0m                     \u001B[1;34m\"Complex data not supported\\n{}\\n\"\u001B[0m\u001B[1;33m.\u001B[0m\u001B[0mformat\u001B[0m\u001B[1;33m(\u001B[0m\u001B[0marray\u001B[0m\u001B[1;33m)\u001B[0m\u001B[1;33m\u001B[0m\u001B[1;33m\u001B[0m\u001B[0m\n\u001B[0;32m   1016\u001B[0m                 \u001B[1;33m)\u001B[0m \u001B[1;32mfrom\u001B[0m \u001B[0mcomplex_warning\u001B[0m\u001B[1;33m\u001B[0m\u001B[1;33m\u001B[0m\u001B[0m\n",
      "\u001B[1;32m~\\Downloads\\proyectoCienciaDeDatos2\\nyc-taxi-time-prediction\\.venv\\Lib\\site-packages\\sklearn\\utils\\_array_api.py\u001B[0m in \u001B[0;36m?\u001B[1;34m(array, dtype, order, copy, xp, device)\u001B[0m\n\u001B[0;32m    747\u001B[0m         \u001B[1;31m# Use NumPy API to support order\u001B[0m\u001B[1;33m\u001B[0m\u001B[1;33m\u001B[0m\u001B[0m\n\u001B[0;32m    748\u001B[0m         \u001B[1;32mif\u001B[0m \u001B[0mcopy\u001B[0m \u001B[1;32mis\u001B[0m \u001B[1;32mTrue\u001B[0m\u001B[1;33m:\u001B[0m\u001B[1;33m\u001B[0m\u001B[1;33m\u001B[0m\u001B[0m\n\u001B[0;32m    749\u001B[0m             \u001B[0marray\u001B[0m \u001B[1;33m=\u001B[0m \u001B[0mnumpy\u001B[0m\u001B[1;33m.\u001B[0m\u001B[0marray\u001B[0m\u001B[1;33m(\u001B[0m\u001B[0marray\u001B[0m\u001B[1;33m,\u001B[0m \u001B[0morder\u001B[0m\u001B[1;33m=\u001B[0m\u001B[0morder\u001B[0m\u001B[1;33m,\u001B[0m \u001B[0mdtype\u001B[0m\u001B[1;33m=\u001B[0m\u001B[0mdtype\u001B[0m\u001B[1;33m)\u001B[0m\u001B[1;33m\u001B[0m\u001B[1;33m\u001B[0m\u001B[0m\n\u001B[0;32m    750\u001B[0m         \u001B[1;32melse\u001B[0m\u001B[1;33m:\u001B[0m\u001B[1;33m\u001B[0m\u001B[1;33m\u001B[0m\u001B[0m\n\u001B[1;32m--> 751\u001B[1;33m             \u001B[0marray\u001B[0m \u001B[1;33m=\u001B[0m \u001B[0mnumpy\u001B[0m\u001B[1;33m.\u001B[0m\u001B[0masarray\u001B[0m\u001B[1;33m(\u001B[0m\u001B[0marray\u001B[0m\u001B[1;33m,\u001B[0m \u001B[0morder\u001B[0m\u001B[1;33m=\u001B[0m\u001B[0morder\u001B[0m\u001B[1;33m,\u001B[0m \u001B[0mdtype\u001B[0m\u001B[1;33m=\u001B[0m\u001B[0mdtype\u001B[0m\u001B[1;33m)\u001B[0m\u001B[1;33m\u001B[0m\u001B[1;33m\u001B[0m\u001B[0m\n\u001B[0m\u001B[0;32m    752\u001B[0m \u001B[1;33m\u001B[0m\u001B[0m\n\u001B[0;32m    753\u001B[0m         \u001B[1;31m# At this point array is a NumPy ndarray. We convert it to an array\u001B[0m\u001B[1;33m\u001B[0m\u001B[1;33m\u001B[0m\u001B[0m\n\u001B[0;32m    754\u001B[0m         \u001B[1;31m# container that is consistent with the input's namespace.\u001B[0m\u001B[1;33m\u001B[0m\u001B[1;33m\u001B[0m\u001B[0m\n",
      "\u001B[1;32m~\\Downloads\\proyectoCienciaDeDatos2\\nyc-taxi-time-prediction\\.venv\\Lib\\site-packages\\pandas\\core\\generic.py\u001B[0m in \u001B[0;36m?\u001B[1;34m(self, dtype, copy)\u001B[0m\n\u001B[0;32m   2149\u001B[0m     def __array__(\n\u001B[0;32m   2150\u001B[0m         \u001B[0mself\u001B[0m\u001B[1;33m,\u001B[0m \u001B[0mdtype\u001B[0m\u001B[1;33m:\u001B[0m \u001B[0mnpt\u001B[0m\u001B[1;33m.\u001B[0m\u001B[0mDTypeLike\u001B[0m \u001B[1;33m|\u001B[0m \u001B[1;32mNone\u001B[0m \u001B[1;33m=\u001B[0m \u001B[1;32mNone\u001B[0m\u001B[1;33m,\u001B[0m \u001B[0mcopy\u001B[0m\u001B[1;33m:\u001B[0m \u001B[0mbool_t\u001B[0m \u001B[1;33m|\u001B[0m \u001B[1;32mNone\u001B[0m \u001B[1;33m=\u001B[0m \u001B[1;32mNone\u001B[0m\u001B[1;33m\u001B[0m\u001B[1;33m\u001B[0m\u001B[0m\n\u001B[0;32m   2151\u001B[0m     \u001B[1;33m)\u001B[0m \u001B[1;33m->\u001B[0m \u001B[0mnp\u001B[0m\u001B[1;33m.\u001B[0m\u001B[0mndarray\u001B[0m\u001B[1;33m:\u001B[0m\u001B[1;33m\u001B[0m\u001B[1;33m\u001B[0m\u001B[0m\n\u001B[0;32m   2152\u001B[0m         \u001B[0mvalues\u001B[0m \u001B[1;33m=\u001B[0m \u001B[0mself\u001B[0m\u001B[1;33m.\u001B[0m\u001B[0m_values\u001B[0m\u001B[1;33m\u001B[0m\u001B[1;33m\u001B[0m\u001B[0m\n\u001B[1;32m-> 2153\u001B[1;33m         \u001B[0marr\u001B[0m \u001B[1;33m=\u001B[0m \u001B[0mnp\u001B[0m\u001B[1;33m.\u001B[0m\u001B[0masarray\u001B[0m\u001B[1;33m(\u001B[0m\u001B[0mvalues\u001B[0m\u001B[1;33m,\u001B[0m \u001B[0mdtype\u001B[0m\u001B[1;33m=\u001B[0m\u001B[0mdtype\u001B[0m\u001B[1;33m)\u001B[0m\u001B[1;33m\u001B[0m\u001B[1;33m\u001B[0m\u001B[0m\n\u001B[0m\u001B[0;32m   2154\u001B[0m         if (\n\u001B[0;32m   2155\u001B[0m             \u001B[0mastype_is_view\u001B[0m\u001B[1;33m(\u001B[0m\u001B[0mvalues\u001B[0m\u001B[1;33m.\u001B[0m\u001B[0mdtype\u001B[0m\u001B[1;33m,\u001B[0m \u001B[0marr\u001B[0m\u001B[1;33m.\u001B[0m\u001B[0mdtype\u001B[0m\u001B[1;33m)\u001B[0m\u001B[1;33m\u001B[0m\u001B[1;33m\u001B[0m\u001B[0m\n\u001B[0;32m   2156\u001B[0m             \u001B[1;32mand\u001B[0m \u001B[0musing_copy_on_write\u001B[0m\u001B[1;33m(\u001B[0m\u001B[1;33m)\u001B[0m\u001B[1;33m\u001B[0m\u001B[1;33m\u001B[0m\u001B[0m\n",
      "\u001B[1;31mValueError\u001B[0m: setting an array element with a sequence."
     ]
    }
   ],
   "source": [
    "import mlflow\n",
    "import mlflow.sklearn\n",
    "from sklearn.ensemble import RandomForestRegressor\n",
    "from hyperopt import fmin, tpe, hp, STATUS_OK, Trials\n",
    "from sklearn.metrics import mean_squared_error\n",
    "import numpy as np\n",
    "\n",
    "def root_mean_squared_error(y_true, y_pred):\n",
    "    return np.sqrt(mean_squared_error(y_true, y_pred))\n",
    "\n",
    "# Habilitar el autologging\n",
    "mlflow.sklearn.autolog()\n",
    "\n",
    "def objective_rf(params):\n",
    "    params['n_estimators'] = int(params['n_estimators'])  \n",
    "    params['max_depth'] = int(params['max_depth'])  \n",
    "    params['min_samples_split'] = int(params['min_samples_split'])\n",
    "    \n",
    "    with mlflow.start_run(nested=True):\n",
    "        mlflow.log_params(params)\n",
    "        \n",
    "        # Crea y entrena el modelo\n",
    "        rf = RandomForestRegressor(**params)\n",
    "        rf.fit(X_train, y_train)\n",
    "\n",
    "        # Predicción en el conjunto de validación\n",
    "        y_pred = rf.predict(X_val)\n",
    "\n",
    "        # Calcular RMSE\n",
    "        rmse = root_mean_squared_error(y_val, y_pred)\n",
    "        mlflow.log_metric(\"rmse\", rmse)\n",
    "\n",
    "    return {'loss': rmse, 'status': STATUS_OK}\n",
    "\n",
    "# Espacio de búsqueda de hiperparámetros para Random Forest\n",
    "search_space_rf = {\n",
    "    'n_estimators': hp.choice('n_estimators', [50, 100, 150]),\n",
    "    'max_depth': hp.quniform('max_depth', 5, 30, 1),\n",
    "    'min_samples_split': hp.quniform('min_samples_split', 2, 10, 1),\n",
    "    'random_state': 42\n",
    "}\n",
    "\n",
    "# Optimización con Hyperopt\n",
    "with mlflow.start_run(run_name=\"Random Forest Hyper-parameter Optimization\", nested=True):\n",
    "    best_params_rf = fmin(\n",
    "        fn=objective_rf,\n",
    "        space=search_space_rf,\n",
    "        algo=tpe.suggest,\n",
    "        max_evals=10,\n",
    "        trials=Trials()\n",
    "    )\n",
    "\n",
    "    best_params_rf[\"max_depth\"] = int(best_params_rf[\"max_depth\"])\n",
    "    best_params_rf[\"min_samples_split\"] = int(best_params_rf[\"min_samples_split\"])\n",
    "\n",
    "    # Entrenar el modelo final con los mejores parámetros (esto ahora se autologea)\n",
    "    rf_final = RandomForestRegressor(**best_params_rf)\n",
    "    rf_final.fit(X_train, y_train)\n",
    "\n",
    "    # Predicción y cálculo de RMSE\n",
    "    y_pred_rf = rf_final.predict(X_val)\n",
    "    rmse_rf = root_mean_squared_error(y_val, y_pred_rf)\n",
    "\n"
   ],
   "metadata": {
    "collapsed": false,
    "ExecuteTime": {
     "end_time": "2024-09-20T21:59:13.467432600Z",
     "start_time": "2024-09-20T21:59:11.412601100Z"
    }
   },
   "id": "475730d9ba14ac09",
   "execution_count": 15
  },
  {
   "cell_type": "markdown",
   "source": [
    "## Gradient Boosting"
   ],
   "metadata": {
    "collapsed": false
   },
   "id": "7b2bd5b79968618f"
  },
  {
   "cell_type": "code",
   "outputs": [],
   "source": [
    "from sklearn.ensemble import GradientBoostingRegressor\n",
    "\n",
    "# Define la función objetivo para Gradient Boosting\n",
    "def objective_gb(params):\n",
    "    params['max_depth'] = int(params['max_depth'])  \n",
    "    params['min_samples_split'] = int(params['min_samples_split'])  \n",
    "    with mlflow.start_run(nested=True):\n",
    "        mlflow.log_params(params)\n",
    "\n",
    "        gb = GradientBoostingRegressor(**params)\n",
    "        gb.fit(X_train, y_train)\n",
    "\n",
    "        y_pred = gb.predict(X_val)\n",
    "\n",
    "        rmse = root_mean_squared_error(y_val, y_pred)\n",
    "        mlflow.log_metric(\"rmse\", rmse)\n",
    "\n",
    "    return {'loss': rmse, 'status': STATUS_OK}\n"
   ],
   "metadata": {
    "collapsed": false,
    "ExecuteTime": {
     "end_time": "2024-09-20T21:13:58.721965Z",
     "start_time": "2024-09-20T21:13:58.710453800Z"
    }
   },
   "id": "8697b0f278a93ce2",
   "execution_count": 37
  },
  {
   "cell_type": "code",
   "outputs": [
    {
     "name": "stdout",
     "output_type": "stream",
     "text": [
      "100%|██████████| 10/10 [01:34<00:00,  9.41s/trial, best loss: 5.203524379069028]\n"
     ]
    },
    {
     "name": "stderr",
     "output_type": "stream",
     "text": [
      "2024/09/20 15:15:41 WARNING mlflow.models.model: Model logged without a signature and input example. Please set `input_example` parameter when logging the model to auto infer the model signature.\n"
     ]
    }
   ],
   "source": [
    "# Espacio de búsqueda de hiperparámetros para Gradient Boosting\n",
    "search_space_gb = {\n",
    "    'n_estimators': hp.choice('n_estimators', [100, 200]),\n",
    "    'learning_rate': hp.loguniform('learning_rate', -3, 0),\n",
    "    'max_depth': hp.quniform('max_depth', 3, 10, 1),\n",
    "    'min_samples_split': hp.quniform('min_samples_split', 2, 10, 1),\n",
    "    'random_state': 42\n",
    "}\n",
    "\n",
    "# Optimización con Hyperopt\n",
    "with mlflow.start_run(run_name=\"Gradient Boosting Hyper-parameter Optimization\", nested=True):\n",
    "    best_params_gb = fmin(\n",
    "        fn=objective_gb,\n",
    "        space=search_space_gb,\n",
    "        algo=tpe.suggest,\n",
    "        max_evals=10,\n",
    "        trials=Trials()\n",
    "    )\n",
    "\n",
    "    best_params_gb[\"max_depth\"] = int(best_params_gb[\"max_depth\"])\n",
    "    best_params_gb[\"min_samples_split\"] = int(best_params_gb[\"min_samples_split\"])\n",
    "    mlflow.log_params(best_params_gb)\n",
    "\n",
    "    # Entrenar el modelo final con los mejores parámetros\n",
    "    gb_final = GradientBoostingRegressor(**best_params_gb)\n",
    "    gb_final.fit(X_train, y_train)\n",
    "\n",
    "    # Predicción y cálculo de RMSE\n",
    "    y_pred_gb = gb_final.predict(X_val)\n",
    "    rmse_gb = root_mean_squared_error(y_val, y_pred_gb)\n",
    "    mlflow.log_metric(\"rmse_final\", rmse_gb)\n",
    "\n",
    "    # Guardar el modelo\n",
    "    mlflow.sklearn.log_model(gb_final, artifact_path=\"model_gb\")\n",
    "\n",
    "    # Guardar el preprocesador\n",
    "    with open(\"models/preprocessor.b\", \"wb\") as f_out:\n",
    "        pickle.dump(dv, f_out)\n",
    "\n",
    "    mlflow.log_artifact(\"models/preprocessor.b\", artifact_path=\"preprocessor\")\n"
   ],
   "metadata": {
    "collapsed": false,
    "ExecuteTime": {
     "end_time": "2024-09-20T21:15:41.676568300Z",
     "start_time": "2024-09-20T21:14:04.242376700Z"
    }
   },
   "id": "f2d4b4ac4264f958",
   "execution_count": 38
  },
  {
   "cell_type": "code",
   "outputs": [
    {
     "data": {
      "text/plain": "{'learning_rate': np.float64(0.4548440622970818),\n 'max_depth': 8,\n 'min_samples_split': 8,\n 'n_estimators': np.int64(1)}"
     },
     "execution_count": 39,
     "metadata": {},
     "output_type": "execute_result"
    }
   ],
   "source": [
    "best_params_gb"
   ],
   "metadata": {
    "collapsed": false,
    "ExecuteTime": {
     "end_time": "2024-09-20T21:16:19.047374600Z",
     "start_time": "2024-09-20T21:16:19.040611100Z"
    }
   },
   "id": "b2344277eaa2f96b",
   "execution_count": 39
  },
  {
   "cell_type": "code",
   "outputs": [],
   "source": [
    "# Entrenar el modelo final con los mejores parámetros\n",
    "rf_final = RandomForestRegressor(**best_params_rf)\n",
    "rf_final.fit(X_train, y_train)\n",
    "\n",
    "# Calcular RMSE en el conjunto de validación\n",
    "y_pred_rf = rf_final.predict(X_val)\n",
    "rmse_rf = root_mean_squared_error(y_val, y_pred_rf)\n"
   ],
   "metadata": {
    "collapsed": false,
    "ExecuteTime": {
     "end_time": "2024-09-20T21:19:18.577216100Z",
     "start_time": "2024-09-20T21:19:17.181609500Z"
    }
   },
   "id": "817cfcd37bbb5a77",
   "execution_count": 40
  },
  {
   "cell_type": "code",
   "outputs": [
    {
     "data": {
      "text/plain": "Accessing as PacoTinoco\n",
      "text/html": "<pre style=\"white-space:pre;overflow-x:auto;line-height:normal;font-family:Menlo,'DejaVu Sans Mono',consolas,'Courier New',monospace\">Accessing as PacoTinoco\n</pre>\n"
     },
     "metadata": {},
     "output_type": "display_data"
    },
    {
     "data": {
      "text/plain": "Initialized MLflow to track repo \u001B[32m\"PacoTinoco/nyc-taxi-time-prediction\"\u001B[0m\n",
      "text/html": "<pre style=\"white-space:pre;overflow-x:auto;line-height:normal;font-family:Menlo,'DejaVu Sans Mono',consolas,'Courier New',monospace\">Initialized MLflow to track repo <span style=\"color: #008000; text-decoration-color: #008000\">\"PacoTinoco/nyc-taxi-time-prediction\"</span>\n</pre>\n"
     },
     "metadata": {},
     "output_type": "display_data"
    },
    {
     "data": {
      "text/plain": "Repository PacoTinoco/nyc-taxi-time-prediction initialized!\n",
      "text/html": "<pre style=\"white-space:pre;overflow-x:auto;line-height:normal;font-family:Menlo,'DejaVu Sans Mono',consolas,'Courier New',monospace\">Repository PacoTinoco/nyc-taxi-time-prediction initialized!\n</pre>\n"
     },
     "metadata": {},
     "output_type": "display_data"
    },
    {
     "name": "stdout",
     "output_type": "stream",
     "text": [
      "https://dagshub.com/PacoTinoco/nyc-taxi-time-prediction.mlflow\n"
     ]
    },
    {
     "data": {
      "text/plain": "<Experiment: artifact_location='mlflow-artifacts:/9e991ac0af45417cb6a8c46fbaf1900e', creation_time=1726630091495, experiment_id='0', last_update_time=1726630091495, lifecycle_stage='active', name='nyc-taxi-experiment', tags={}>"
     },
     "execution_count": 13,
     "metadata": {},
     "output_type": "execute_result"
    }
   ],
   "source": [
    "import dagshub\n",
    "import mlflow\n",
    "\n",
    "\n",
    "dagshub.init(url=\"https://dagshub.com/PacoTinoco/nyc-taxi-time-prediction\", mlflow=True)\n",
    "\n",
    "MLFLOW_TRACKING_URI = mlflow.get_tracking_uri()\n",
    "\n",
    "print(MLFLOW_TRACKING_URI)\n",
    "\n",
    "mlflow.set_tracking_uri(MLFLOW_TRACKING_URI)\n",
    "mlflow.set_experiment(experiment_name=\"nyc-taxi-experiment\")"
   ],
   "metadata": {
    "collapsed": false,
    "ExecuteTime": {
     "end_time": "2024-09-20T21:58:41.539704500Z",
     "start_time": "2024-09-20T21:58:38.662676300Z"
    }
   },
   "id": "39aaac5fd45aed7b",
   "execution_count": 13
  },
  {
   "cell_type": "code",
   "outputs": [
    {
     "data": {
      "text/plain": "Client created. Use the name of the repo \u001B[1m(\u001B[0mnyc-taxi-time-prediction\u001B[1m)\u001B[0m as the name of the bucket\n",
      "text/html": "<pre style=\"white-space:pre;overflow-x:auto;line-height:normal;font-family:Menlo,'DejaVu Sans Mono',consolas,'Courier New',monospace\">Client created. Use the name of the repo <span style=\"font-weight: bold\">(</span>nyc-taxi-time-prediction<span style=\"font-weight: bold\">)</span> as the name of the bucket\n</pre>\n"
     },
     "metadata": {},
     "output_type": "display_data"
    }
   ],
   "source": [
    "from dagshub import get_repo_bucket_client\n",
    "# Get a boto3.client object\n",
    "s3 = get_repo_bucket_client(\"PacoTinoco/nyc-taxi-time-prediction\")\n",
    "\n",
    "# Upload file\n",
    "s3.upload_file(\n",
    "    Bucket=\"nyc-taxi-time-prediction\",  # name of the repo\n",
    "    Filename=\"../data/green_tripdata_2024-01.parquet\",  # local path of file to upload\n",
    "    Key=\"train_data.parquet\",  # remote path where to upload the file\n",
    ")\n",
    "\n",
    "## test\n",
    "s3.upload_file(\n",
    "    Bucket=\"nyc-taxi-time-prediction\",  # name of the repo\n",
    "    Filename=\"../data/green_tripdata_2024-02.parquet\",  # local path of file to upload\n",
    "    Key=\"eval_data.parquet\",  # remote path where to upload the file\n",
    ")\n"
   ],
   "metadata": {
    "collapsed": false,
    "ExecuteTime": {
     "end_time": "2024-09-20T21:58:56.470060400Z",
     "start_time": "2024-09-20T21:58:52.142051900Z"
    }
   },
   "id": "89bef53f02c75306",
   "execution_count": 14
  },
  {
   "cell_type": "markdown",
   "source": [
    "## LAST CHANCE"
   ],
   "metadata": {
    "collapsed": false
   },
   "id": "701635cb3a9f0d33"
  },
  {
   "cell_type": "code",
   "outputs": [
    {
     "name": "stdout",
     "output_type": "stream",
     "text": [
      "  0%|          | 0/10 [00:00<?, ?trial/s, best loss=?]"
     ]
    },
    {
     "name": "stderr",
     "output_type": "stream",
     "text": [
      "2024/09/20 16:38:48 WARNING mlflow.utils.autologging_utils: Encountered unexpected error during sklearn autologging: The following failures occurred while performing one or more logging operations: [MlflowException('Failed to perform one or more operations on the run with ID cc2e0a9ba39f413c82cb8a6c9d97f055. Failed operations: [RestException(\"INVALID_PARAMETER_VALUE: Response: {\\'error_code\\': \\'INVALID_PARAMETER_VALUE\\'}\")]')]\n",
      "\n",
      "C:\\Users\\Francisco\\Downloads\\proyectoCienciaDeDatos2\\nyc-taxi-time-prediction\\.venv\\Lib\\site-packages\\sklearn\\metrics\\_regression.py:492: FutureWarning: 'squared' is deprecated in version 1.4 and will be removed in 1.6. To calculate the root mean squared error, use the function'root_mean_squared_error'.\n",
      "  warnings.warn(\n",
      "\n",
      "2024/09/20 16:38:48 INFO mlflow.tracking._tracking_service.client: 🏃 View run lyrical-jay-811 at: https://dagshub.com/PacoTinoco/nyc-taxi-time-prediction.mlflow/#/experiments/1/runs/cc2e0a9ba39f413c82cb8a6c9d97f055.\n",
      "\n",
      "2024/09/20 16:38:48 INFO mlflow.tracking._tracking_service.client: 🧪 View experiment at: https://dagshub.com/PacoTinoco/nyc-taxi-time-prediction.mlflow/#/experiments/1.\n",
      "\n"
     ]
    },
    {
     "name": "stdout",
     "output_type": "stream",
     "text": [
      " 10%|█         | 1/10 [00:11<01:46, 11.80s/trial, best loss: 22.761197024718637]"
     ]
    },
    {
     "name": "stderr",
     "output_type": "stream",
     "text": [
      "2024/09/20 16:38:56 WARNING mlflow.utils.autologging_utils: Encountered unexpected error during sklearn autologging: The following failures occurred while performing one or more logging operations: [MlflowException('Failed to perform one or more operations on the run with ID 01d740add175409182ca6b994c6f2e61. Failed operations: [RestException(\"INVALID_PARAMETER_VALUE: Response: {\\'error_code\\': \\'INVALID_PARAMETER_VALUE\\'}\")]')]\n",
      "\n",
      "C:\\Users\\Francisco\\Downloads\\proyectoCienciaDeDatos2\\nyc-taxi-time-prediction\\.venv\\Lib\\site-packages\\sklearn\\metrics\\_regression.py:492: FutureWarning: 'squared' is deprecated in version 1.4 and will be removed in 1.6. To calculate the root mean squared error, use the function'root_mean_squared_error'.\n",
      "  warnings.warn(\n",
      "\n",
      "2024/09/20 16:38:56 INFO mlflow.tracking._tracking_service.client: 🏃 View run orderly-roo-307 at: https://dagshub.com/PacoTinoco/nyc-taxi-time-prediction.mlflow/#/experiments/1/runs/01d740add175409182ca6b994c6f2e61.\n",
      "\n",
      "2024/09/20 16:38:56 INFO mlflow.tracking._tracking_service.client: 🧪 View experiment at: https://dagshub.com/PacoTinoco/nyc-taxi-time-prediction.mlflow/#/experiments/1.\n",
      "\n"
     ]
    },
    {
     "name": "stdout",
     "output_type": "stream",
     "text": [
      " 20%|██        | 2/10 [00:19<01:15,  9.39s/trial, best loss: 22.761197024718637]"
     ]
    },
    {
     "name": "stderr",
     "output_type": "stream",
     "text": [
      "2024/09/20 16:39:03 WARNING mlflow.utils.autologging_utils: Encountered unexpected error during sklearn autologging: The following failures occurred while performing one or more logging operations: [MlflowException('Failed to perform one or more operations on the run with ID 06edb229507c49b2ae1c0acd94f97ab5. Failed operations: [RestException(\"INVALID_PARAMETER_VALUE: Response: {\\'error_code\\': \\'INVALID_PARAMETER_VALUE\\'}\")]')]\n",
      "\n",
      "C:\\Users\\Francisco\\Downloads\\proyectoCienciaDeDatos2\\nyc-taxi-time-prediction\\.venv\\Lib\\site-packages\\sklearn\\metrics\\_regression.py:492: FutureWarning: 'squared' is deprecated in version 1.4 and will be removed in 1.6. To calculate the root mean squared error, use the function'root_mean_squared_error'.\n",
      "  warnings.warn(\n",
      "\n",
      "2024/09/20 16:39:03 INFO mlflow.tracking._tracking_service.client: 🏃 View run calm-bat-230 at: https://dagshub.com/PacoTinoco/nyc-taxi-time-prediction.mlflow/#/experiments/1/runs/06edb229507c49b2ae1c0acd94f97ab5.\n",
      "\n",
      "2024/09/20 16:39:03 INFO mlflow.tracking._tracking_service.client: 🧪 View experiment at: https://dagshub.com/PacoTinoco/nyc-taxi-time-prediction.mlflow/#/experiments/1.\n",
      "\n"
     ]
    },
    {
     "name": "stdout",
     "output_type": "stream",
     "text": [
      " 30%|███       | 3/10 [00:26<00:58,  8.42s/trial, best loss: 22.761197024718637]"
     ]
    },
    {
     "name": "stderr",
     "output_type": "stream",
     "text": [
      "2024/09/20 16:39:11 WARNING mlflow.utils.autologging_utils: Encountered unexpected error during sklearn autologging: The following failures occurred while performing one or more logging operations: [MlflowException('Failed to perform one or more operations on the run with ID 09588d2cfd3948acbffe1bda4bdbb820. Failed operations: [RestException(\"INVALID_PARAMETER_VALUE: Response: {\\'error_code\\': \\'INVALID_PARAMETER_VALUE\\'}\")]')]\n",
      "\n",
      "C:\\Users\\Francisco\\Downloads\\proyectoCienciaDeDatos2\\nyc-taxi-time-prediction\\.venv\\Lib\\site-packages\\sklearn\\metrics\\_regression.py:492: FutureWarning: 'squared' is deprecated in version 1.4 and will be removed in 1.6. To calculate the root mean squared error, use the function'root_mean_squared_error'.\n",
      "  warnings.warn(\n",
      "\n",
      "2024/09/20 16:39:12 INFO mlflow.tracking._tracking_service.client: 🏃 View run enchanting-ox-297 at: https://dagshub.com/PacoTinoco/nyc-taxi-time-prediction.mlflow/#/experiments/1/runs/09588d2cfd3948acbffe1bda4bdbb820.\n",
      "\n",
      "2024/09/20 16:39:12 INFO mlflow.tracking._tracking_service.client: 🧪 View experiment at: https://dagshub.com/PacoTinoco/nyc-taxi-time-prediction.mlflow/#/experiments/1.\n",
      "\n"
     ]
    },
    {
     "name": "stdout",
     "output_type": "stream",
     "text": [
      " 40%|████      | 4/10 [00:35<00:50,  8.38s/trial, best loss: 22.761197024718637]"
     ]
    },
    {
     "name": "stderr",
     "output_type": "stream",
     "text": [
      "2024/09/20 16:39:19 WARNING mlflow.utils.autologging_utils: Encountered unexpected error during sklearn autologging: The following failures occurred while performing one or more logging operations: [MlflowException('Failed to perform one or more operations on the run with ID bfd953f9a4814e44aee1451daa3416ae. Failed operations: [RestException(\"INVALID_PARAMETER_VALUE: Response: {\\'error_code\\': \\'INVALID_PARAMETER_VALUE\\'}\")]')]\n",
      "\n",
      "C:\\Users\\Francisco\\Downloads\\proyectoCienciaDeDatos2\\nyc-taxi-time-prediction\\.venv\\Lib\\site-packages\\sklearn\\metrics\\_regression.py:492: FutureWarning: 'squared' is deprecated in version 1.4 and will be removed in 1.6. To calculate the root mean squared error, use the function'root_mean_squared_error'.\n",
      "  warnings.warn(\n",
      "\n",
      "2024/09/20 16:39:19 INFO mlflow.tracking._tracking_service.client: 🏃 View run caring-cat-699 at: https://dagshub.com/PacoTinoco/nyc-taxi-time-prediction.mlflow/#/experiments/1/runs/bfd953f9a4814e44aee1451daa3416ae.\n",
      "\n",
      "2024/09/20 16:39:19 INFO mlflow.tracking._tracking_service.client: 🧪 View experiment at: https://dagshub.com/PacoTinoco/nyc-taxi-time-prediction.mlflow/#/experiments/1.\n",
      "\n"
     ]
    },
    {
     "name": "stdout",
     "output_type": "stream",
     "text": [
      " 50%|█████     | 5/10 [00:42<00:40,  8.03s/trial, best loss: 22.761197024718637]"
     ]
    },
    {
     "name": "stderr",
     "output_type": "stream",
     "text": [
      "2024/09/20 16:39:26 WARNING mlflow.utils.autologging_utils: Encountered unexpected error during sklearn autologging: The following failures occurred while performing one or more logging operations: [MlflowException('Failed to perform one or more operations on the run with ID 8137801b741040088c3f6d7cb67412c7. Failed operations: [RestException(\"INVALID_PARAMETER_VALUE: Response: {\\'error_code\\': \\'INVALID_PARAMETER_VALUE\\'}\")]')]\n",
      "\n",
      "C:\\Users\\Francisco\\Downloads\\proyectoCienciaDeDatos2\\nyc-taxi-time-prediction\\.venv\\Lib\\site-packages\\sklearn\\metrics\\_regression.py:492: FutureWarning: 'squared' is deprecated in version 1.4 and will be removed in 1.6. To calculate the root mean squared error, use the function'root_mean_squared_error'.\n",
      "  warnings.warn(\n",
      "\n",
      "2024/09/20 16:39:26 INFO mlflow.tracking._tracking_service.client: 🏃 View run charming-hen-984 at: https://dagshub.com/PacoTinoco/nyc-taxi-time-prediction.mlflow/#/experiments/1/runs/8137801b741040088c3f6d7cb67412c7.\n",
      "\n",
      "2024/09/20 16:39:26 INFO mlflow.tracking._tracking_service.client: 🧪 View experiment at: https://dagshub.com/PacoTinoco/nyc-taxi-time-prediction.mlflow/#/experiments/1.\n",
      "\n"
     ]
    },
    {
     "name": "stdout",
     "output_type": "stream",
     "text": [
      " 60%|██████    | 6/10 [00:49<00:31,  7.78s/trial, best loss: 22.761197024718637]"
     ]
    },
    {
     "name": "stderr",
     "output_type": "stream",
     "text": [
      "2024/09/20 16:39:33 WARNING mlflow.utils.autologging_utils: Encountered unexpected error during sklearn autologging: The following failures occurred while performing one or more logging operations: [MlflowException('Failed to perform one or more operations on the run with ID 2962604a65044516a24ce15448e713b5. Failed operations: [RestException(\"INVALID_PARAMETER_VALUE: Response: {\\'error_code\\': \\'INVALID_PARAMETER_VALUE\\'}\")]')]\n",
      "\n",
      "C:\\Users\\Francisco\\Downloads\\proyectoCienciaDeDatos2\\nyc-taxi-time-prediction\\.venv\\Lib\\site-packages\\sklearn\\metrics\\_regression.py:492: FutureWarning: 'squared' is deprecated in version 1.4 and will be removed in 1.6. To calculate the root mean squared error, use the function'root_mean_squared_error'.\n",
      "  warnings.warn(\n",
      "\n",
      "2024/09/20 16:39:34 INFO mlflow.tracking._tracking_service.client: 🏃 View run rogue-boar-325 at: https://dagshub.com/PacoTinoco/nyc-taxi-time-prediction.mlflow/#/experiments/1/runs/2962604a65044516a24ce15448e713b5.\n",
      "\n",
      "2024/09/20 16:39:34 INFO mlflow.tracking._tracking_service.client: 🧪 View experiment at: https://dagshub.com/PacoTinoco/nyc-taxi-time-prediction.mlflow/#/experiments/1.\n",
      "\n"
     ]
    },
    {
     "name": "stdout",
     "output_type": "stream",
     "text": [
      " 70%|███████   | 7/10 [00:57<00:22,  7.63s/trial, best loss: 22.761197024718637]"
     ]
    },
    {
     "name": "stderr",
     "output_type": "stream",
     "text": [
      "2024/09/20 16:39:41 WARNING mlflow.utils.autologging_utils: Encountered unexpected error during sklearn autologging: The following failures occurred while performing one or more logging operations: [MlflowException('Failed to perform one or more operations on the run with ID b988d97bc1a24511b89004968b8f2306. Failed operations: [RestException(\"INVALID_PARAMETER_VALUE: Response: {\\'error_code\\': \\'INVALID_PARAMETER_VALUE\\'}\")]')]\n",
      "\n",
      "C:\\Users\\Francisco\\Downloads\\proyectoCienciaDeDatos2\\nyc-taxi-time-prediction\\.venv\\Lib\\site-packages\\sklearn\\metrics\\_regression.py:492: FutureWarning: 'squared' is deprecated in version 1.4 and will be removed in 1.6. To calculate the root mean squared error, use the function'root_mean_squared_error'.\n",
      "  warnings.warn(\n",
      "\n",
      "2024/09/20 16:39:41 INFO mlflow.tracking._tracking_service.client: 🏃 View run overjoyed-koi-325 at: https://dagshub.com/PacoTinoco/nyc-taxi-time-prediction.mlflow/#/experiments/1/runs/b988d97bc1a24511b89004968b8f2306.\n",
      "\n",
      "2024/09/20 16:39:41 INFO mlflow.tracking._tracking_service.client: 🧪 View experiment at: https://dagshub.com/PacoTinoco/nyc-taxi-time-prediction.mlflow/#/experiments/1.\n",
      "\n"
     ]
    },
    {
     "name": "stdout",
     "output_type": "stream",
     "text": [
      " 80%|████████  | 8/10 [01:04<00:15,  7.58s/trial, best loss: 22.761197024718637]"
     ]
    },
    {
     "name": "stderr",
     "output_type": "stream",
     "text": [
      "2024/09/20 16:39:48 WARNING mlflow.utils.autologging_utils: Encountered unexpected error during sklearn autologging: The following failures occurred while performing one or more logging operations: [MlflowException('Failed to perform one or more operations on the run with ID d1bb432c88bd48439cc47a0f96a0dbaf. Failed operations: [RestException(\"INVALID_PARAMETER_VALUE: Response: {\\'error_code\\': \\'INVALID_PARAMETER_VALUE\\'}\")]')]\n",
      "\n",
      "C:\\Users\\Francisco\\Downloads\\proyectoCienciaDeDatos2\\nyc-taxi-time-prediction\\.venv\\Lib\\site-packages\\sklearn\\metrics\\_regression.py:492: FutureWarning: 'squared' is deprecated in version 1.4 and will be removed in 1.6. To calculate the root mean squared error, use the function'root_mean_squared_error'.\n",
      "  warnings.warn(\n",
      "\n",
      "2024/09/20 16:39:48 INFO mlflow.tracking._tracking_service.client: 🏃 View run merciful-seal-773 at: https://dagshub.com/PacoTinoco/nyc-taxi-time-prediction.mlflow/#/experiments/1/runs/d1bb432c88bd48439cc47a0f96a0dbaf.\n",
      "\n",
      "2024/09/20 16:39:48 INFO mlflow.tracking._tracking_service.client: 🧪 View experiment at: https://dagshub.com/PacoTinoco/nyc-taxi-time-prediction.mlflow/#/experiments/1.\n",
      "\n"
     ]
    },
    {
     "name": "stdout",
     "output_type": "stream",
     "text": [
      " 90%|█████████ | 9/10 [01:11<00:07,  7.53s/trial, best loss: 22.761197024718637]"
     ]
    },
    {
     "name": "stderr",
     "output_type": "stream",
     "text": [
      "2024/09/20 16:39:56 WARNING mlflow.utils.autologging_utils: Encountered unexpected error during sklearn autologging: The following failures occurred while performing one or more logging operations: [MlflowException('Failed to perform one or more operations on the run with ID 17ef3d6050f840c0838abe04281f3a22. Failed operations: [RestException(\"INVALID_PARAMETER_VALUE: Response: {\\'error_code\\': \\'INVALID_PARAMETER_VALUE\\'}\")]')]\n",
      "\n",
      "C:\\Users\\Francisco\\Downloads\\proyectoCienciaDeDatos2\\nyc-taxi-time-prediction\\.venv\\Lib\\site-packages\\sklearn\\metrics\\_regression.py:492: FutureWarning: 'squared' is deprecated in version 1.4 and will be removed in 1.6. To calculate the root mean squared error, use the function'root_mean_squared_error'.\n",
      "  warnings.warn(\n",
      "\n",
      "2024/09/20 16:39:56 INFO mlflow.tracking._tracking_service.client: 🏃 View run shivering-rook-891 at: https://dagshub.com/PacoTinoco/nyc-taxi-time-prediction.mlflow/#/experiments/1/runs/17ef3d6050f840c0838abe04281f3a22.\n",
      "\n",
      "2024/09/20 16:39:56 INFO mlflow.tracking._tracking_service.client: 🧪 View experiment at: https://dagshub.com/PacoTinoco/nyc-taxi-time-prediction.mlflow/#/experiments/1.\n",
      "\n"
     ]
    },
    {
     "name": "stdout",
     "output_type": "stream",
     "text": [
      "100%|██████████| 10/10 [01:19<00:00,  7.95s/trial, best loss: 22.761197024718637]\n"
     ]
    },
    {
     "name": "stderr",
     "output_type": "stream",
     "text": [
      "C:\\Users\\Francisco\\Downloads\\proyectoCienciaDeDatos2\\nyc-taxi-time-prediction\\.venv\\Lib\\site-packages\\sklearn\\metrics\\_regression.py:492: FutureWarning: 'squared' is deprecated in version 1.4 and will be removed in 1.6. To calculate the root mean squared error, use the function'root_mean_squared_error'.\n",
      "  warnings.warn(\n",
      "2024/09/20 16:40:05 INFO mlflow.tracking._tracking_service.client: 🏃 View run Random Forest Hyper-parameter Optimization at: https://dagshub.com/PacoTinoco/nyc-taxi-time-prediction.mlflow/#/experiments/1/runs/f6994d345afd406e8b3ed819224831fc.\n",
      "2024/09/20 16:40:05 INFO mlflow.tracking._tracking_service.client: 🧪 View experiment at: https://dagshub.com/PacoTinoco/nyc-taxi-time-prediction.mlflow/#/experiments/1.\n"
     ]
    }
   ],
   "source": [
    "import mlflow\n",
    "from hyperopt import fmin, tpe, hp, Trials\n",
    "from sklearn.ensemble import RandomForestRegressor\n",
    "from sklearn.metrics import mean_squared_error\n",
    "import pathlib\n",
    "import pickle\n",
    "\n",
    "mlflow.sklearn.autolog()  # Autolog para Random Forest\n",
    "\n",
    "with mlflow.start_run(run_name=\"Random Forest Hyper-parameter Optimization\", nested=True):\n",
    "    search_space = {\n",
    "        'max_depth': hp.quniform('max_depth', 4, 100, 1),\n",
    "        'n_estimators': hp.quniform('n_estimators', 50, 500, 1),\n",
    "        'min_samples_split': hp.quniform('min_samples_split', 2, 20, 1),\n",
    "        'min_samples_leaf': hp.quniform('min_samples_leaf', 1, 20, 1),\n",
    "    }\n",
    "    \n",
    "    def objective(params):\n",
    "        with mlflow.start_run(nested=True):\n",
    "            # Log parameters\n",
    "            mlflow.log_params(params)\n",
    "            \n",
    "            # Convert params to integers where necessary\n",
    "            max_depth = int(params['max_depth'])\n",
    "            n_estimators = int(params['n_estimators'])\n",
    "            min_samples_split = int(params['min_samples_split'])\n",
    "            min_samples_leaf = int(params['min_samples_leaf'])\n",
    "            \n",
    "            # Train model\n",
    "            model = RandomForestRegressor(\n",
    "                max_depth=max_depth,\n",
    "                n_estimators=n_estimators,\n",
    "                min_samples_split=min_samples_split,\n",
    "                min_samples_leaf=min_samples_leaf,\n",
    "                random_state=42\n",
    "            )\n",
    "            model.fit(X_train, y_train)  # Entrenar el modelo\n",
    "            \n",
    "            # Predict in the val dataset\n",
    "            y_pred = model.predict(X_val)  # Predecir en el conjunto de validación\n",
    "            \n",
    "            # Calculate metric\n",
    "            rmse = mean_squared_error(y_val, y_pred, squared=False)  # Calcular RMSE\n",
    "            \n",
    "            # Log performance metric\n",
    "            mlflow.log_metric(\"rmse\", rmse)\n",
    "\n",
    "        return {'loss': rmse, 'status': STATUS_OK}\n",
    "    \n",
    "    best_params = fmin(\n",
    "        fn=objective,\n",
    "        space=search_space,\n",
    "        algo=tpe.suggest,\n",
    "        max_evals=10,\n",
    "        trials=Trials()\n",
    "    )\n",
    "    \n",
    "    best_params[\"max_depth\"] = int(best_params[\"max_depth\"])\n",
    "    best_params[\"n_estimators\"] = int(best_params[\"n_estimators\"])\n",
    "    best_params[\"min_samples_split\"] = int(best_params[\"min_samples_split\"])\n",
    "    best_params[\"min_samples_leaf\"] = int(best_params[\"min_samples_leaf\"])\n",
    "    \n",
    "    mlflow.log_params(best_params)\n",
    "    \n",
    "    # Log tags\n",
    "    mlflow.set_tags(\n",
    "        tags={\n",
    "            \"project\": \"NYC Taxi Time Prediction Project\",\n",
    "            \"optimizer_engine\": \"hyper-opt\",\n",
    "            \"model_family\": \"random_forest\",\n",
    "            \"feature_set_version\": 1,\n",
    "        }\n",
    "    )\n",
    "\n",
    "    # Log a fit model instance with best parameters\n",
    "    final_model = RandomForestRegressor(\n",
    "        max_depth=best_params['max_depth'],\n",
    "        n_estimators=best_params['n_estimators'],\n",
    "        min_samples_split=best_params['min_samples_split'],\n",
    "        min_samples_leaf=best_params['min_samples_leaf'],\n",
    "        random_state=42\n",
    "    )\n",
    "    \n",
    "    final_model.fit(X_train, y_train)\n",
    "    \n",
    "    y_pred = final_model.predict(X_val)\n",
    "    \n",
    "    rmse = mean_squared_error(y_val, y_pred, squared=False)\n",
    "    mlflow.log_metric(\"rmse\", rmse)\n",
    "    \n",
    "    pathlib.Path(\"models\").mkdir(exist_ok=True)\n",
    "    with open(\"models/preprocessor.b\", \"wb\") as f_out:\n",
    "        pickle.dump(dv, f_out)\n",
    "        \n",
    "    mlflow.log_artifact(\"models/preprocessor.b\", artifact_path=\"preprocessor\")\n"
   ],
   "metadata": {
    "collapsed": false,
    "ExecuteTime": {
     "end_time": "2024-09-20T22:40:05.934931900Z",
     "start_time": "2024-09-20T22:38:36.672029700Z"
    }
   },
   "id": "3c13816646030f04",
   "execution_count": 32
  },
  {
   "cell_type": "code",
   "outputs": [
    {
     "name": "stdout",
     "output_type": "stream",
     "text": [
      "(54373, 1)\n",
      "(51497, 1)\n",
      "(54373,)\n",
      "(51497,)\n"
     ]
    }
   ],
   "source": [
    "print(X_train.shape)\n",
    "print(X_val.shape)\n",
    "print(y_train.shape)\n",
    "print(y_val.shape)\n"
   ],
   "metadata": {
    "collapsed": false,
    "ExecuteTime": {
     "end_time": "2024-09-20T22:37:47.126697700Z",
     "start_time": "2024-09-20T22:37:47.108914900Z"
    }
   },
   "id": "6f463af414d3d226",
   "execution_count": 29
  },
  {
   "cell_type": "code",
   "outputs": [],
   "source": [
    "import pandas as pd\n",
    "\n",
    "X_train = pd.DataFrame(X_train)\n",
    "X_val = pd.DataFrame(X_val)\n",
    "y_train = pd.Series(y_train)\n",
    "y_val = pd.Series(y_val)\n"
   ],
   "metadata": {
    "collapsed": false,
    "ExecuteTime": {
     "end_time": "2024-09-20T22:38:17.904026Z",
     "start_time": "2024-09-20T22:38:17.877688300Z"
    }
   },
   "id": "d108880a1735b15c",
   "execution_count": 30
  },
  {
   "cell_type": "code",
   "outputs": [],
   "source": [
    "from sklearn.datasets import make_regression\n",
    "\n",
    "X_train, y_train = make_regression(n_samples=100, n_features=1, noise=0.1)\n",
    "X_val, y_val = make_regression(n_samples=50, n_features=1, noise=0.1)\n"
   ],
   "metadata": {
    "collapsed": false,
    "ExecuteTime": {
     "end_time": "2024-09-20T22:38:32.782494100Z",
     "start_time": "2024-09-20T22:38:32.737172800Z"
    }
   },
   "id": "e32e491425d50602",
   "execution_count": 31
  },
  {
   "cell_type": "code",
   "outputs": [],
   "source": [],
   "metadata": {
    "collapsed": false
   },
   "id": "78f9f3e5bd6de3b0"
  },
  {
   "cell_type": "code",
   "outputs": [
    {
     "name": "stdout",
     "output_type": "stream",
     "text": [
      "  0%|          | 0/10 [00:00<?, ?trial/s, best loss=?]"
     ]
    },
    {
     "name": "stderr",
     "output_type": "stream",
     "text": [
      "2024/09/20 16:44:02 WARNING mlflow.utils.autologging_utils: Encountered unexpected error during sklearn autologging: The following failures occurred while performing one or more logging operations: [MlflowException('Failed to perform one or more operations on the run with ID 77b5a19e3d154c17acfb0e3340c12bdb. Failed operations: [RestException(\"INVALID_PARAMETER_VALUE: Response: {\\'error_code\\': \\'INVALID_PARAMETER_VALUE\\'}\")]')]\n",
      "\n",
      "C:\\Users\\Francisco\\Downloads\\proyectoCienciaDeDatos2\\nyc-taxi-time-prediction\\.venv\\Lib\\site-packages\\sklearn\\metrics\\_regression.py:492: FutureWarning: 'squared' is deprecated in version 1.4 and will be removed in 1.6. To calculate the root mean squared error, use the function'root_mean_squared_error'.\n",
      "  warnings.warn(\n",
      "\n",
      "2024/09/20 16:44:02 INFO mlflow.tracking._tracking_service.client: 🏃 View run popular-sponge-820 at: https://dagshub.com/PacoTinoco/nyc-taxi-time-prediction.mlflow/#/experiments/1/runs/77b5a19e3d154c17acfb0e3340c12bdb.\n",
      "\n",
      "2024/09/20 16:44:02 INFO mlflow.tracking._tracking_service.client: 🧪 View experiment at: https://dagshub.com/PacoTinoco/nyc-taxi-time-prediction.mlflow/#/experiments/1.\n",
      "\n"
     ]
    },
    {
     "name": "stdout",
     "output_type": "stream",
     "text": [
      " 10%|█         | 1/10 [00:08<01:12,  8.02s/trial, best loss: 29.35323637400974]"
     ]
    },
    {
     "name": "stderr",
     "output_type": "stream",
     "text": [
      "2024/09/20 16:44:09 WARNING mlflow.utils.autologging_utils: Encountered unexpected error during sklearn autologging: The following failures occurred while performing one or more logging operations: [MlflowException('Failed to perform one or more operations on the run with ID 63dd328fc64645af88f8141a061cac25. Failed operations: [RestException(\"INVALID_PARAMETER_VALUE: Response: {\\'error_code\\': \\'INVALID_PARAMETER_VALUE\\'}\")]')]\n",
      "\n",
      "C:\\Users\\Francisco\\Downloads\\proyectoCienciaDeDatos2\\nyc-taxi-time-prediction\\.venv\\Lib\\site-packages\\sklearn\\metrics\\_regression.py:492: FutureWarning: 'squared' is deprecated in version 1.4 and will be removed in 1.6. To calculate the root mean squared error, use the function'root_mean_squared_error'.\n",
      "  warnings.warn(\n",
      "\n",
      "2024/09/20 16:44:10 INFO mlflow.tracking._tracking_service.client: 🏃 View run peaceful-cod-133 at: https://dagshub.com/PacoTinoco/nyc-taxi-time-prediction.mlflow/#/experiments/1/runs/63dd328fc64645af88f8141a061cac25.\n",
      "\n",
      "2024/09/20 16:44:10 INFO mlflow.tracking._tracking_service.client: 🧪 View experiment at: https://dagshub.com/PacoTinoco/nyc-taxi-time-prediction.mlflow/#/experiments/1.\n",
      "\n"
     ]
    },
    {
     "name": "stdout",
     "output_type": "stream",
     "text": [
      " 20%|██        | 2/10 [00:15<01:02,  7.81s/trial, best loss: 29.35323637400974]"
     ]
    },
    {
     "name": "stderr",
     "output_type": "stream",
     "text": [
      "2024/09/20 16:44:17 WARNING mlflow.utils.autologging_utils: Encountered unexpected error during sklearn autologging: The following failures occurred while performing one or more logging operations: [MlflowException('Failed to perform one or more operations on the run with ID 56a1f8cd06e849168e2d98697a7f1d45. Failed operations: [RestException(\"INVALID_PARAMETER_VALUE: Response: {\\'error_code\\': \\'INVALID_PARAMETER_VALUE\\'}\")]')]\n",
      "\n",
      "C:\\Users\\Francisco\\Downloads\\proyectoCienciaDeDatos2\\nyc-taxi-time-prediction\\.venv\\Lib\\site-packages\\sklearn\\metrics\\_regression.py:492: FutureWarning: 'squared' is deprecated in version 1.4 and will be removed in 1.6. To calculate the root mean squared error, use the function'root_mean_squared_error'.\n",
      "  warnings.warn(\n",
      "\n",
      "2024/09/20 16:44:17 INFO mlflow.tracking._tracking_service.client: 🏃 View run secretive-swan-81 at: https://dagshub.com/PacoTinoco/nyc-taxi-time-prediction.mlflow/#/experiments/1/runs/56a1f8cd06e849168e2d98697a7f1d45.\n",
      "\n",
      "2024/09/20 16:44:17 INFO mlflow.tracking._tracking_service.client: 🧪 View experiment at: https://dagshub.com/PacoTinoco/nyc-taxi-time-prediction.mlflow/#/experiments/1.\n",
      "\n"
     ]
    },
    {
     "name": "stdout",
     "output_type": "stream",
     "text": [
      " 30%|███       | 3/10 [00:23<00:53,  7.61s/trial, best loss: 29.35323637400974]"
     ]
    },
    {
     "name": "stderr",
     "output_type": "stream",
     "text": [
      "2024/09/20 16:44:24 WARNING mlflow.utils.autologging_utils: Encountered unexpected error during sklearn autologging: The following failures occurred while performing one or more logging operations: [MlflowException('Failed to perform one or more operations on the run with ID 40ed4bd3040b42c6a46c935f41c49be0. Failed operations: [RestException(\"INVALID_PARAMETER_VALUE: Response: {\\'error_code\\': \\'INVALID_PARAMETER_VALUE\\'}\")]')]\n",
      "\n",
      "C:\\Users\\Francisco\\Downloads\\proyectoCienciaDeDatos2\\nyc-taxi-time-prediction\\.venv\\Lib\\site-packages\\sklearn\\metrics\\_regression.py:492: FutureWarning: 'squared' is deprecated in version 1.4 and will be removed in 1.6. To calculate the root mean squared error, use the function'root_mean_squared_error'.\n",
      "  warnings.warn(\n",
      "\n",
      "2024/09/20 16:44:24 INFO mlflow.tracking._tracking_service.client: 🏃 View run charming-skunk-272 at: https://dagshub.com/PacoTinoco/nyc-taxi-time-prediction.mlflow/#/experiments/1/runs/40ed4bd3040b42c6a46c935f41c49be0.\n",
      "\n",
      "2024/09/20 16:44:24 INFO mlflow.tracking._tracking_service.client: 🧪 View experiment at: https://dagshub.com/PacoTinoco/nyc-taxi-time-prediction.mlflow/#/experiments/1.\n",
      "\n"
     ]
    },
    {
     "name": "stdout",
     "output_type": "stream",
     "text": [
      " 40%|████      | 4/10 [00:30<00:44,  7.49s/trial, best loss: 26.428938578520853]"
     ]
    },
    {
     "name": "stderr",
     "output_type": "stream",
     "text": [
      "2024/09/20 16:44:31 WARNING mlflow.utils.autologging_utils: Encountered unexpected error during sklearn autologging: The following failures occurred while performing one or more logging operations: [MlflowException('Failed to perform one or more operations on the run with ID 37a3a1b6b12844dda3b7b2e55ede2db7. Failed operations: [RestException(\"INVALID_PARAMETER_VALUE: Response: {\\'error_code\\': \\'INVALID_PARAMETER_VALUE\\'}\")]')]\n",
      "\n",
      "C:\\Users\\Francisco\\Downloads\\proyectoCienciaDeDatos2\\nyc-taxi-time-prediction\\.venv\\Lib\\site-packages\\sklearn\\metrics\\_regression.py:492: FutureWarning: 'squared' is deprecated in version 1.4 and will be removed in 1.6. To calculate the root mean squared error, use the function'root_mean_squared_error'.\n",
      "  warnings.warn(\n",
      "\n",
      "2024/09/20 16:44:32 INFO mlflow.tracking._tracking_service.client: 🏃 View run useful-yak-823 at: https://dagshub.com/PacoTinoco/nyc-taxi-time-prediction.mlflow/#/experiments/1/runs/37a3a1b6b12844dda3b7b2e55ede2db7.\n",
      "\n",
      "2024/09/20 16:44:32 INFO mlflow.tracking._tracking_service.client: 🧪 View experiment at: https://dagshub.com/PacoTinoco/nyc-taxi-time-prediction.mlflow/#/experiments/1.\n",
      "\n"
     ]
    },
    {
     "name": "stdout",
     "output_type": "stream",
     "text": [
      " 50%|█████     | 5/10 [00:37<00:37,  7.45s/trial, best loss: 26.428938578520853]"
     ]
    },
    {
     "name": "stderr",
     "output_type": "stream",
     "text": [
      "2024/09/20 16:44:38 WARNING mlflow.utils.autologging_utils: Encountered unexpected error during sklearn autologging: The following failures occurred while performing one or more logging operations: [MlflowException('Failed to perform one or more operations on the run with ID f6fd83ae7cae4bd185538fc276746d7b. Failed operations: [RestException(\"INVALID_PARAMETER_VALUE: Response: {\\'error_code\\': \\'INVALID_PARAMETER_VALUE\\'}\")]')]\n",
      "\n",
      "C:\\Users\\Francisco\\Downloads\\proyectoCienciaDeDatos2\\nyc-taxi-time-prediction\\.venv\\Lib\\site-packages\\sklearn\\metrics\\_regression.py:492: FutureWarning: 'squared' is deprecated in version 1.4 and will be removed in 1.6. To calculate the root mean squared error, use the function'root_mean_squared_error'.\n",
      "  warnings.warn(\n",
      "\n",
      "2024/09/20 16:44:39 INFO mlflow.tracking._tracking_service.client: 🏃 View run abrasive-snail-613 at: https://dagshub.com/PacoTinoco/nyc-taxi-time-prediction.mlflow/#/experiments/1/runs/f6fd83ae7cae4bd185538fc276746d7b.\n",
      "\n",
      "2024/09/20 16:44:39 INFO mlflow.tracking._tracking_service.client: 🧪 View experiment at: https://dagshub.com/PacoTinoco/nyc-taxi-time-prediction.mlflow/#/experiments/1.\n",
      "\n"
     ]
    },
    {
     "name": "stdout",
     "output_type": "stream",
     "text": [
      " 60%|██████    | 6/10 [00:44<00:29,  7.32s/trial, best loss: 19.51307448420063] "
     ]
    },
    {
     "name": "stderr",
     "output_type": "stream",
     "text": [
      "2024/09/20 16:44:46 WARNING mlflow.utils.autologging_utils: Encountered unexpected error during sklearn autologging: The following failures occurred while performing one or more logging operations: [MlflowException('Failed to perform one or more operations on the run with ID 73e82c3afb68424e8b999ec8693f9a81. Failed operations: [RestException(\"INVALID_PARAMETER_VALUE: Response: {\\'error_code\\': \\'INVALID_PARAMETER_VALUE\\'}\")]')]\n",
      "\n",
      "C:\\Users\\Francisco\\Downloads\\proyectoCienciaDeDatos2\\nyc-taxi-time-prediction\\.venv\\Lib\\site-packages\\sklearn\\metrics\\_regression.py:492: FutureWarning: 'squared' is deprecated in version 1.4 and will be removed in 1.6. To calculate the root mean squared error, use the function'root_mean_squared_error'.\n",
      "  warnings.warn(\n",
      "\n",
      "2024/09/20 16:44:46 INFO mlflow.tracking._tracking_service.client: 🏃 View run wistful-turtle-363 at: https://dagshub.com/PacoTinoco/nyc-taxi-time-prediction.mlflow/#/experiments/1/runs/73e82c3afb68424e8b999ec8693f9a81.\n",
      "\n",
      "2024/09/20 16:44:46 INFO mlflow.tracking._tracking_service.client: 🧪 View experiment at: https://dagshub.com/PacoTinoco/nyc-taxi-time-prediction.mlflow/#/experiments/1.\n",
      "\n"
     ]
    },
    {
     "name": "stdout",
     "output_type": "stream",
     "text": [
      " 70%|███████   | 7/10 [00:52<00:21,  7.33s/trial, best loss: 19.51307448420063]"
     ]
    },
    {
     "name": "stderr",
     "output_type": "stream",
     "text": [
      "2024/09/20 16:44:53 WARNING mlflow.utils.autologging_utils: Encountered unexpected error during sklearn autologging: The following failures occurred while performing one or more logging operations: [MlflowException('Failed to perform one or more operations on the run with ID 9ed085d9d97b4402aa67ee7bb1ecae05. Failed operations: [RestException(\"INVALID_PARAMETER_VALUE: Response: {\\'error_code\\': \\'INVALID_PARAMETER_VALUE\\'}\")]')]\n",
      "\n",
      "C:\\Users\\Francisco\\Downloads\\proyectoCienciaDeDatos2\\nyc-taxi-time-prediction\\.venv\\Lib\\site-packages\\sklearn\\metrics\\_regression.py:492: FutureWarning: 'squared' is deprecated in version 1.4 and will be removed in 1.6. To calculate the root mean squared error, use the function'root_mean_squared_error'.\n",
      "  warnings.warn(\n",
      "\n",
      "2024/09/20 16:44:53 INFO mlflow.tracking._tracking_service.client: 🏃 View run adorable-quail-970 at: https://dagshub.com/PacoTinoco/nyc-taxi-time-prediction.mlflow/#/experiments/1/runs/9ed085d9d97b4402aa67ee7bb1ecae05.\n",
      "\n",
      "2024/09/20 16:44:53 INFO mlflow.tracking._tracking_service.client: 🧪 View experiment at: https://dagshub.com/PacoTinoco/nyc-taxi-time-prediction.mlflow/#/experiments/1.\n",
      "\n"
     ]
    },
    {
     "name": "stdout",
     "output_type": "stream",
     "text": [
      " 80%|████████  | 8/10 [00:59<00:14,  7.25s/trial, best loss: 19.51307448420063]"
     ]
    },
    {
     "name": "stderr",
     "output_type": "stream",
     "text": [
      "2024/09/20 16:45:00 WARNING mlflow.utils.autologging_utils: Encountered unexpected error during sklearn autologging: The following failures occurred while performing one or more logging operations: [MlflowException('Failed to perform one or more operations on the run with ID 91e62cb41d004831a30b4575acba2827. Failed operations: [RestException(\"INVALID_PARAMETER_VALUE: Response: {\\'error_code\\': \\'INVALID_PARAMETER_VALUE\\'}\")]')]\n",
      "\n",
      "C:\\Users\\Francisco\\Downloads\\proyectoCienciaDeDatos2\\nyc-taxi-time-prediction\\.venv\\Lib\\site-packages\\sklearn\\metrics\\_regression.py:492: FutureWarning: 'squared' is deprecated in version 1.4 and will be removed in 1.6. To calculate the root mean squared error, use the function'root_mean_squared_error'.\n",
      "  warnings.warn(\n",
      "\n",
      "2024/09/20 16:45:00 INFO mlflow.tracking._tracking_service.client: 🏃 View run classy-calf-38 at: https://dagshub.com/PacoTinoco/nyc-taxi-time-prediction.mlflow/#/experiments/1/runs/91e62cb41d004831a30b4575acba2827.\n",
      "\n",
      "2024/09/20 16:45:00 INFO mlflow.tracking._tracking_service.client: 🧪 View experiment at: https://dagshub.com/PacoTinoco/nyc-taxi-time-prediction.mlflow/#/experiments/1.\n",
      "\n"
     ]
    },
    {
     "name": "stdout",
     "output_type": "stream",
     "text": [
      " 90%|█████████ | 9/10 [01:06<00:07,  7.22s/trial, best loss: 19.51307448420063]"
     ]
    },
    {
     "name": "stderr",
     "output_type": "stream",
     "text": [
      "2024/09/20 16:45:07 WARNING mlflow.utils.autologging_utils: Encountered unexpected error during sklearn autologging: The following failures occurred while performing one or more logging operations: [MlflowException('Failed to perform one or more operations on the run with ID 80c7e0685ee64ff8834843ea0827ec83. Failed operations: [RestException(\"INVALID_PARAMETER_VALUE: Response: {\\'error_code\\': \\'INVALID_PARAMETER_VALUE\\'}\")]')]\n",
      "\n",
      "C:\\Users\\Francisco\\Downloads\\proyectoCienciaDeDatos2\\nyc-taxi-time-prediction\\.venv\\Lib\\site-packages\\sklearn\\metrics\\_regression.py:492: FutureWarning: 'squared' is deprecated in version 1.4 and will be removed in 1.6. To calculate the root mean squared error, use the function'root_mean_squared_error'.\n",
      "  warnings.warn(\n",
      "\n",
      "2024/09/20 16:45:08 INFO mlflow.tracking._tracking_service.client: 🏃 View run painted-asp-604 at: https://dagshub.com/PacoTinoco/nyc-taxi-time-prediction.mlflow/#/experiments/1/runs/80c7e0685ee64ff8834843ea0827ec83.\n",
      "\n",
      "2024/09/20 16:45:08 INFO mlflow.tracking._tracking_service.client: 🧪 View experiment at: https://dagshub.com/PacoTinoco/nyc-taxi-time-prediction.mlflow/#/experiments/1.\n",
      "\n"
     ]
    },
    {
     "name": "stdout",
     "output_type": "stream",
     "text": [
      "100%|██████████| 10/10 [01:13<00:00,  7.36s/trial, best loss: 19.51307448420063]\n"
     ]
    },
    {
     "name": "stderr",
     "output_type": "stream",
     "text": [
      "2024/09/20 16:45:08 INFO mlflow.tracking._tracking_service.client: 🏃 View run Gradient Boosting Hyper-parameter Optimization at: https://dagshub.com/PacoTinoco/nyc-taxi-time-prediction.mlflow/#/experiments/1/runs/2a55c3e50a68491ab99aff27f3ad3df0.\n",
      "2024/09/20 16:45:08 INFO mlflow.tracking._tracking_service.client: 🧪 View experiment at: https://dagshub.com/PacoTinoco/nyc-taxi-time-prediction.mlflow/#/experiments/1.\n"
     ]
    },
    {
     "ename": "NameError",
     "evalue": "name 'params' is not defined",
     "output_type": "error",
     "traceback": [
      "\u001B[1;31m---------------------------------------------------------------------------\u001B[0m",
      "\u001B[1;31mNameError\u001B[0m                                 Traceback (most recent call last)",
      "Cell \u001B[1;32mIn[33], line 81\u001B[0m\n\u001B[0;32m     68\u001B[0m mlflow\u001B[38;5;241m.\u001B[39mset_tags(\n\u001B[0;32m     69\u001B[0m     tags\u001B[38;5;241m=\u001B[39m{\n\u001B[0;32m     70\u001B[0m         \u001B[38;5;124m\"\u001B[39m\u001B[38;5;124mproject\u001B[39m\u001B[38;5;124m\"\u001B[39m: \u001B[38;5;124m\"\u001B[39m\u001B[38;5;124mNYC Taxi Time Prediction Project\u001B[39m\u001B[38;5;124m\"\u001B[39m,\n\u001B[1;32m   (...)\u001B[0m\n\u001B[0;32m     74\u001B[0m     }\n\u001B[0;32m     75\u001B[0m )\n\u001B[0;32m     77\u001B[0m \u001B[38;5;66;03m# Log a fit model instance with best parameters\u001B[39;00m\n\u001B[0;32m     78\u001B[0m final_model \u001B[38;5;241m=\u001B[39m GradientBoostingRegressor(\n\u001B[0;32m     79\u001B[0m     n_estimators\u001B[38;5;241m=\u001B[39mbest_params[\u001B[38;5;124m'\u001B[39m\u001B[38;5;124mn_estimators\u001B[39m\u001B[38;5;124m'\u001B[39m],\n\u001B[0;32m     80\u001B[0m     max_depth\u001B[38;5;241m=\u001B[39mbest_params[\u001B[38;5;124m'\u001B[39m\u001B[38;5;124mmax_depth\u001B[39m\u001B[38;5;124m'\u001B[39m],\n\u001B[1;32m---> 81\u001B[0m     learning_rate\u001B[38;5;241m=\u001B[39m\u001B[43mparams\u001B[49m[\u001B[38;5;124m'\u001B[39m\u001B[38;5;124mlearning_rate\u001B[39m\u001B[38;5;124m'\u001B[39m],\n\u001B[0;32m     82\u001B[0m     min_samples_split\u001B[38;5;241m=\u001B[39mbest_params[\u001B[38;5;124m'\u001B[39m\u001B[38;5;124mmin_samples_split\u001B[39m\u001B[38;5;124m'\u001B[39m],\n\u001B[0;32m     83\u001B[0m     min_samples_leaf\u001B[38;5;241m=\u001B[39mbest_params[\u001B[38;5;124m'\u001B[39m\u001B[38;5;124mmin_samples_leaf\u001B[39m\u001B[38;5;124m'\u001B[39m],\n\u001B[0;32m     84\u001B[0m     random_state\u001B[38;5;241m=\u001B[39m\u001B[38;5;241m42\u001B[39m\n\u001B[0;32m     85\u001B[0m )\n\u001B[0;32m     87\u001B[0m final_model\u001B[38;5;241m.\u001B[39mfit(X_train, y_train)\n\u001B[0;32m     89\u001B[0m y_pred \u001B[38;5;241m=\u001B[39m final_model\u001B[38;5;241m.\u001B[39mpredict(X_val)\n",
      "\u001B[1;31mNameError\u001B[0m: name 'params' is not defined"
     ]
    }
   ],
   "source": [
    "from hyperopt import fmin, tpe, hp, Trials\n",
    "from sklearn.ensemble import GradientBoostingRegressor\n",
    "from sklearn.metrics import mean_squared_error\n",
    "import pathlib\n",
    "\n",
    "mlflow.sklearn.autolog()  # Autolog para Gradient Boosting\n",
    "\n",
    "with mlflow.start_run(run_name=\"Gradient Boosting Hyper-parameter Optimization\", nested=True):\n",
    "    search_space = {\n",
    "        'n_estimators': hp.quniform('n_estimators', 50, 500, 1),\n",
    "        'max_depth': hp.quniform('max_depth', 1, 10, 1),\n",
    "        'learning_rate': hp.loguniform('learning_rate', -3, 0),\n",
    "        'min_samples_split': hp.quniform('min_samples_split', 2, 20, 1),\n",
    "        'min_samples_leaf': hp.quniform('min_samples_leaf', 1, 20, 1),\n",
    "    }\n",
    "    \n",
    "    def objective(params):\n",
    "        with mlflow.start_run(nested=True):\n",
    "            # Log parameters\n",
    "            mlflow.log_params(params)\n",
    "            \n",
    "            # Convert params to enteros donde sea necesario\n",
    "            n_estimators = int(params['n_estimators'])\n",
    "            max_depth = int(params['max_depth'])\n",
    "            min_samples_split = int(params['min_samples_split'])\n",
    "            min_samples_leaf = int(params['min_samples_leaf'])\n",
    "            \n",
    "            # Entrenar el modelo\n",
    "            model = GradientBoostingRegressor(\n",
    "                n_estimators=n_estimators,\n",
    "                max_depth=max_depth,\n",
    "                learning_rate=params['learning_rate'],\n",
    "                min_samples_split=min_samples_split,\n",
    "                min_samples_leaf=min_samples_leaf,\n",
    "                random_state=42\n",
    "            )\n",
    "            model.fit(X_train, y_train)  # Entrenar el modelo\n",
    "            \n",
    "            # Predecir en el conjunto de validación\n",
    "            y_pred = model.predict(X_val)  # Predecir\n",
    "            \n",
    "            # Calcular métrica\n",
    "            rmse = mean_squared_error(y_val, y_pred, squared=False)  # Calcular RMSE\n",
    "            \n",
    "            # Log de la métrica de rendimiento\n",
    "            mlflow.log_metric(\"rmse\", rmse)\n",
    "\n",
    "        return {'loss': rmse, 'status': STATUS_OK}\n",
    "    \n",
    "    best_params = fmin(\n",
    "        fn=objective,\n",
    "        space=search_space,\n",
    "        algo=tpe.suggest,\n",
    "        max_evals=10,\n",
    "        trials=Trials()\n",
    "    )\n",
    "    \n",
    "    best_params[\"n_estimators\"] = int(best_params[\"n_estimators\"])\n",
    "    best_params[\"max_depth\"] = int(best_params[\"max_depth\"])\n",
    "    best_params[\"min_samples_split\"] = int(best_params[\"min_samples_split\"])\n",
    "    best_params[\"min_samples_leaf\"] = int(best_params[\"min_samples_leaf\"])\n",
    "    \n",
    "    mlflow.log_params(best_params)\n",
    "    \n",
    "    # Log tags\n",
    "    mlflow.set_tags(\n",
    "        tags={\n",
    "            \"project\": \"NYC Taxi Time Prediction Project\",\n",
    "            \"optimizer_engine\": \"hyper-opt\",\n",
    "            \"model_family\": \"gradient_boosting\",\n",
    "            \"feature_set_version\": 1,\n",
    "        }\n",
    "    )\n",
    "\n",
    "    # Log a fit model instance with best parameters\n",
    "    final_model = GradientBoostingRegressor(\n",
    "        n_estimators=best_params['n_estimators'],\n",
    "        max_depth=best_params['max_depth'],\n",
    "        learning_rate=params['learning_rate'],\n",
    "        min_samples_split=best_params['min_samples_split'],\n",
    "        min_samples_leaf=best_params['min_samples_leaf'],\n",
    "        random_state=42\n",
    "    )\n",
    "    \n",
    "    final_model.fit(X_train, y_train)\n",
    "    \n",
    "    y_pred = final_model.predict(X_val)\n",
    "    \n",
    "    rmse = mean_squared_error(y_val, y_pred, squared=False)\n",
    "    mlflow.log_metric(\"rmse\", rmse)\n",
    "    \n",
    "    pathlib.Path(\"models\").mkdir(exist_ok=True)\n",
    "    with open(\"models/preprocessor.b\", \"wb\") as f_out:\n",
    "        pickle.dump(dv, f_out)\n",
    "        \n",
    "    mlflow.log_artifact(\"models/preprocessor.b\", artifact_path=\"preprocessor\")\n"
   ],
   "metadata": {
    "collapsed": false,
    "ExecuteTime": {
     "end_time": "2024-09-20T22:45:08.986221400Z",
     "start_time": "2024-09-20T22:43:54.354407900Z"
    }
   },
   "id": "709824863b42d777",
   "execution_count": 33
  },
  {
   "cell_type": "markdown",
   "source": [
    "## Registrar el modelo en el Model Registry con alias challenger"
   ],
   "metadata": {
    "collapsed": false
   },
   "id": "c37e6c57f7b56451"
  },
  {
   "cell_type": "code",
   "outputs": [
    {
     "name": "stderr",
     "output_type": "stream",
     "text": [
      "Successfully registered model 'nyc-taxi-model2'.\n",
      "2024/09/20 17:25:51 INFO mlflow.store.model_registry.abstract_store: Waiting up to 300 seconds for model version to finish creation. Model name: nyc-taxi-model2, version 1\n",
      "Created version '1' of model 'nyc-taxi-model2'.\n"
     ]
    }
   ],
   "source": [
    "run_id = input(\"Ingrese el run_id\")\n",
    "run_uri = f\"runs:/{run_id}/model\"\n",
    "\n",
    "result = mlflow.register_model(\n",
    "    model_uri=run_uri,\n",
    "    name=\"nyc-taxi-model2\"\n",
    ")"
   ],
   "metadata": {
    "collapsed": false,
    "ExecuteTime": {
     "end_time": "2024-09-20T23:25:51.260150600Z",
     "start_time": "2024-09-20T23:25:48.339365800Z"
    }
   },
   "id": "2f758184a81bfa5a",
   "execution_count": 56
  },
  {
   "cell_type": "code",
   "outputs": [
    {
     "data": {
      "text/plain": "<ModelVersion: aliases=['challenger'], creation_timestamp=1726872572864, current_stage='None', description=('The model version 2 was transitioned to challenger on 2024-09-20 '\n '17:28:17.407310'), last_updated_timestamp=1726874897194, name='nyc-taxi-model', run_id='2962604a65044516a24ce15448e713b5', run_link='', source='mlflow-artifacts:/92863f65ec68402babfe2d09ddebc317/2962604a65044516a24ce15448e713b5/artifacts/model', status='READY', status_message='', tags={}, user_id='', version='2'>"
     },
     "execution_count": 60,
     "metadata": {},
     "output_type": "execute_result"
    }
   ],
   "source": [
    "from datetime import datetime\n",
    "from mlflow import MlflowClient\n",
    "\n",
    "client = MlflowClient(tracking_uri=MLFLOW_TRACKING_URI)\n",
    "client.update_registered_model(\n",
    "    name=\"nyc-taxi-model\",\n",
    "    description=\"Model registry for the NYC Taxi Time Prediction Project\",\n",
    ")\n",
    "\n",
    "new_alias = \"challenger\"\n",
    "date = datetime.today()\n",
    "model_version = \"2\"\n",
    "\n",
    "# create \"challenger\" alias for version 1 of model \"nyc-taxi-model\"\n",
    "client.set_registered_model_alias(\n",
    "    name=\"nyc-taxi-model\",\n",
    "    alias=new_alias,\n",
    "    version=model_version\n",
    ")\n",
    "\n",
    "client.update_model_version(\n",
    "    name=\"nyc-taxi-model\",\n",
    "    version=model_version,\n",
    "    description=f\"The model version {model_version} was transitioned to {new_alias} on {date}\",\n",
    ")"
   ],
   "metadata": {
    "collapsed": false,
    "ExecuteTime": {
     "end_time": "2024-09-20T23:28:17.729329400Z",
     "start_time": "2024-09-20T23:28:17.253473Z"
    }
   },
   "id": "a02114c42b01a3ef",
   "execution_count": 60
  },
  {
   "cell_type": "code",
   "outputs": [
    {
     "name": "stderr",
     "output_type": "stream",
     "text": [
      "  % Total    % Received % Xferd  Average Speed   Time    Time     Time  Current\n",
      "                                 Dload  Upload   Total   Spent    Left  Speed\n",
      "\n",
      "  0     0    0     0    0     0      0      0 --:--:-- --:--:-- --:--:--     0\n",
      "  0     0    0     0    0     0      0      0 --:--:-- --:--:-- --:--:--     0\n",
      " 50 1340k   50  670k    0     0   632k      0  0:00:02  0:00:01  0:00:01  634k\n",
      "100 1340k  100 1340k    0     0   690k      0  0:00:01  0:00:01 --:--:--  691k\n"
     ]
    }
   ],
   "source": [
    "!curl -o ../data/green_tripdata_2024-03.parquet https://d37ci6vzurychx.cloudfront.net/trip-data/green_tripdata_2024-03.parquet\n"
   ],
   "metadata": {
    "collapsed": false,
    "ExecuteTime": {
     "end_time": "2024-09-20T22:51:32.998703800Z",
     "start_time": "2024-09-20T22:51:30.985552100Z"
    }
   },
   "id": "6bc4a34e078d57f6",
   "execution_count": 35
  },
  {
   "cell_type": "code",
   "outputs": [
    {
     "data": {
      "text/plain": "0"
     },
     "execution_count": 36,
     "metadata": {},
     "output_type": "execute_result"
    }
   ],
   "source": [
    "import os \n",
    "# Descargar el archivo de datos\n",
    "os.system(\"curl -o ../data/green_tripdata_2024-03.parquet https://d37ci6vzurychx.cloudfront.net/trip-data/green_tripdata_2024-03.parquet\")\n"
   ],
   "metadata": {
    "collapsed": false,
    "ExecuteTime": {
     "end_time": "2024-09-20T22:52:22.450184700Z",
     "start_time": "2024-09-20T22:52:20.335355500Z"
    }
   },
   "id": "f7e62636ddcfcd62",
   "execution_count": 36
  },
  {
   "cell_type": "code",
   "outputs": [
    {
     "name": "stderr",
     "output_type": "stream",
     "text": [
      "2024/09/20 16:53:08 INFO mlflow.tracking._tracking_service.client: 🏃 View run Download March 2024 Green Trip Data at: https://dagshub.com/PacoTinoco/nyc-taxi-time-prediction.mlflow/#/experiments/1/runs/9221d49c812a4dd7b5245b5399c3b710.\n",
      "2024/09/20 16:53:08 INFO mlflow.tracking._tracking_service.client: 🧪 View experiment at: https://dagshub.com/PacoTinoco/nyc-taxi-time-prediction.mlflow/#/experiments/1.\n"
     ]
    }
   ],
   "source": [
    "# Registrar el archivo en MLflow\n",
    "with mlflow.start_run(run_name=\"Download March 2024 Green Trip Data\"):\n",
    "    mlflow.log_artifact(\"../data/green_tripdata_2024-03.parquet\", artifact_path=\"data\")"
   ],
   "metadata": {
    "collapsed": false,
    "ExecuteTime": {
     "end_time": "2024-09-20T22:53:08.726856500Z",
     "start_time": "2024-09-20T22:53:06.348186400Z"
    }
   },
   "id": "597471356c4c8346",
   "execution_count": 37
  },
  {
   "cell_type": "code",
   "outputs": [
    {
     "name": "stdout",
     "output_type": "stream",
     "text": [
      "   VendorID lpep_pickup_datetime lpep_dropoff_datetime store_and_fwd_flag  \\\n",
      "0         2  2024-03-01 00:10:52   2024-03-01 00:26:12                  N   \n",
      "1         2  2024-03-01 00:22:21   2024-03-01 00:35:15                  N   \n",
      "2         2  2024-03-01 00:45:27   2024-03-01 01:04:32                  N   \n",
      "3         1  2024-03-01 00:02:00   2024-03-01 00:23:45                  N   \n",
      "4         2  2024-03-01 00:16:45   2024-03-01 00:23:25                  N   \n",
      "\n",
      "   RatecodeID  PULocationID  DOLocationID  passenger_count  trip_distance  \\\n",
      "0         1.0           129           226              1.0           1.72   \n",
      "1         1.0           130           218              1.0           3.25   \n",
      "2         1.0           255           107              2.0           4.58   \n",
      "3         1.0           181            71              1.0           0.00   \n",
      "4         1.0            95           135              1.0           1.15   \n",
      "\n",
      "   fare_amount  extra  mta_tax  tip_amount  tolls_amount  ehail_fee  \\\n",
      "0         12.8    1.0      0.5        3.06           0.0        NaN   \n",
      "1         17.7    1.0      0.5        0.00           0.0        NaN   \n",
      "2         23.3    1.0      0.5        3.50           0.0        NaN   \n",
      "3         22.5    0.0      1.5        0.00           0.0        NaN   \n",
      "4          8.6    1.0      0.5        1.00           0.0        NaN   \n",
      "\n",
      "   improvement_surcharge  total_amount  payment_type  trip_type  \\\n",
      "0                    1.0         18.36           1.0        1.0   \n",
      "1                    1.0         20.20           2.0        1.0   \n",
      "2                    1.0         32.05           1.0        1.0   \n",
      "3                    1.0         24.00           1.0        1.0   \n",
      "4                    1.0         12.10           1.0        1.0   \n",
      "\n",
      "   congestion_surcharge  \n",
      "0                  0.00  \n",
      "1                  0.00  \n",
      "2                  2.75  \n",
      "3                  0.00  \n",
      "4                  0.00  \n"
     ]
    }
   ],
   "source": [
    "import pandas as pd\n",
    "\n",
    "# Cargar el conjunto de datos\n",
    "data_path = \"../data/green_tripdata_2024-03.parquet\"\n",
    "df = pd.read_parquet(data_path)\n",
    "\n",
    "# Verificar la carga de datos\n",
    "print(df.head())\n"
   ],
   "metadata": {
    "collapsed": false,
    "ExecuteTime": {
     "end_time": "2024-09-20T23:06:58.632098400Z",
     "start_time": "2024-09-20T23:06:58.564526500Z"
    }
   },
   "id": "cd85eb077a4cf35d",
   "execution_count": 51
  },
  {
   "cell_type": "code",
   "outputs": [
    {
     "data": {
      "text/plain": "Index(['VendorID', 'lpep_pickup_datetime', 'lpep_dropoff_datetime',\n       'store_and_fwd_flag', 'RatecodeID', 'PULocationID', 'DOLocationID',\n       'passenger_count', 'trip_distance', 'fare_amount', 'extra', 'mta_tax',\n       'tip_amount', 'tolls_amount', 'ehail_fee', 'improvement_surcharge',\n       'total_amount', 'payment_type', 'trip_type', 'congestion_surcharge'],\n      dtype='object')"
     },
     "execution_count": 52,
     "metadata": {},
     "output_type": "execute_result"
    }
   ],
   "source": [
    "df.columns"
   ],
   "metadata": {
    "collapsed": false,
    "ExecuteTime": {
     "end_time": "2024-09-20T23:07:02.715175500Z",
     "start_time": "2024-09-20T23:07:02.704648900Z"
    }
   },
   "id": "474bb9fa52a9132c",
   "execution_count": 52
  },
  {
   "cell_type": "code",
   "outputs": [],
   "source": [
    "# Convertir columnas de fecha a datetime\n",
    "df['lpep_pickup_datetime'] = pd.to_datetime(df['lpep_pickup_datetime'])\n",
    "df['lpep_dropoff_datetime'] = pd.to_datetime(df['lpep_dropoff_datetime'])"
   ],
   "metadata": {
    "collapsed": false,
    "ExecuteTime": {
     "end_time": "2024-09-20T23:07:04.680893100Z",
     "start_time": "2024-09-20T23:07:04.643975300Z"
    }
   },
   "id": "4f97a6ed2645188d",
   "execution_count": 53
  },
  {
   "cell_type": "code",
   "outputs": [],
   "source": [
    "# Seleccionar características relevantes\n",
    "features = [\n",
    "    'VendorID', 'RatecodeID', 'PULocationID', 'DOLocationID',\n",
    "    'passenger_count', 'trip_distance', 'fare_amount', 'extra',\n",
    "    'mta_tax', 'tip_amount', 'tolls_amount', 'ehail_fee',\n",
    "    'improvement_surcharge'\n",
    "]\n",
    "\n",
    "X = df[features]\n",
    "y = df['total_amount']"
   ],
   "metadata": {
    "collapsed": false,
    "ExecuteTime": {
     "end_time": "2024-09-20T23:07:07.095739Z",
     "start_time": "2024-09-20T23:07:06.993080300Z"
    }
   },
   "id": "d93f20cd28beed52",
   "execution_count": 54
  },
  {
   "cell_type": "code",
   "outputs": [
    {
     "name": "stderr",
     "output_type": "stream",
     "text": [
      "C:\\Users\\Francisco\\AppData\\Local\\Temp\\ipykernel_23440\\2180193586.py:2: SettingWithCopyWarning: \n",
      "A value is trying to be set on a copy of a slice from a DataFrame\n",
      "\n",
      "See the caveats in the documentation: https://pandas.pydata.org/pandas-docs/stable/user_guide/indexing.html#returning-a-view-versus-a-copy\n",
      "  X.dropna(inplace=True)\n"
     ]
    }
   ],
   "source": [
    "# Manejo de valores nulos (si es necesario)\n",
    "X.dropna(inplace=True)\n",
    "y = y[X.index]"
   ],
   "metadata": {
    "collapsed": false,
    "ExecuteTime": {
     "end_time": "2024-09-20T23:06:09.768679100Z",
     "start_time": "2024-09-20T23:06:09.729234500Z"
    }
   },
   "id": "5afccd68f5a3fa00",
   "execution_count": 48
  },
  {
   "cell_type": "code",
   "outputs": [],
   "source": [
    "from sklearn.model_selection import train_test_split\n",
    "\n",
    "# Dividir los datos en conjunto de entrenamiento y validación\n",
    "X_train, X_val, y_train, y_val = train_test_split(X, y, test_size=0.2, random_state=42)\n"
   ],
   "metadata": {
    "collapsed": false,
    "ExecuteTime": {
     "end_time": "2024-09-20T23:07:30.179569200Z",
     "start_time": "2024-09-20T23:07:30.089699Z"
    }
   },
   "id": "d8ec3fe2111341b1",
   "execution_count": 55
  },
  {
   "cell_type": "code",
   "outputs": [],
   "source": [
    "from xgboost import XGBRegressor \n",
    "model_champion = XGBRegressor(\n",
    "    max_depth=86,\n",
    "    learning_rate=0.96,\n",
    "    n_estimators=100,\n",
    "    objective='reg:squarederror'\n",
    ")\n"
   ],
   "metadata": {
    "collapsed": false,
    "ExecuteTime": {
     "end_time": "2024-09-20T23:40:51.627255600Z",
     "start_time": "2024-09-20T23:40:51.539400700Z"
    }
   },
   "id": "ec164f8f2a407108",
   "execution_count": 65
  },
  {
   "cell_type": "code",
   "outputs": [],
   "source": [
    "from sklearn.ensemble import RandomForestRegressor  \n",
    "model_challenger = RandomForestRegressor(\n",
    "    n_estimators=149,\n",
    "    max_depth=27,\n",
    "    random_state=42\n",
    ")\n"
   ],
   "metadata": {
    "collapsed": false,
    "ExecuteTime": {
     "end_time": "2024-09-20T23:40:53.761950700Z",
     "start_time": "2024-09-20T23:40:53.749464600Z"
    }
   },
   "id": "5ad87ca88d408fd6",
   "execution_count": 66
  },
  {
   "cell_type": "code",
   "outputs": [
    {
     "name": "stderr",
     "output_type": "stream",
     "text": [
      "C:\\Users\\Francisco\\Downloads\\proyectoCienciaDeDatos2\\nyc-taxi-time-prediction\\.venv\\Lib\\site-packages\\sklearn\\metrics\\_regression.py:492: FutureWarning: 'squared' is deprecated in version 1.4 and will be removed in 1.6. To calculate the root mean squared error, use the function'root_mean_squared_error'.\n",
      "  warnings.warn(\n",
      "2024/09/20 17:41:17 INFO mlflow.utils.autologging_utils: Created MLflow autologging run with ID '6ec271e37c1747f7af75067b5da2c3e0', which will track hyperparameters, performance metrics, model artifacts, and lineage information for the current sklearn workflow\n",
      "2024/09/20 17:41:17 WARNING mlflow.utils.autologging_utils: MLflow autologging encountered a warning: \"C:\\Users\\Francisco\\Downloads\\proyectoCienciaDeDatos2\\nyc-taxi-time-prediction\\.venv\\Lib\\site-packages\\mlflow\\types\\utils.py:407: UserWarning: Hint: Inferred schema contains integer column(s). Integer columns in Python cannot represent missing values. If your input data contains missing values at inference time, it will be encoded as floats and will cause a schema enforcement error. The best way to avoid this problem is to infer the model schema based on a realistic data sample (training dataset) that includes missing values. Alternatively, you can declare integer columns as doubles (float64) whenever these columns may have missing values. See `Handling Integers With Missing Values <https://www.mlflow.org/docs/latest/models.html#handling-integers-with-missing-values>`_ for more details.\"\n",
      "2024/09/20 17:41:39 WARNING mlflow.utils.autologging_utils: MLflow autologging encountered a warning: \"C:\\Users\\Francisco\\Downloads\\proyectoCienciaDeDatos2\\nyc-taxi-time-prediction\\.venv\\Lib\\site-packages\\mlflow\\types\\utils.py:407: UserWarning: Hint: Inferred schema contains integer column(s). Integer columns in Python cannot represent missing values. If your input data contains missing values at inference time, it will be encoded as floats and will cause a schema enforcement error. The best way to avoid this problem is to infer the model schema based on a realistic data sample (training dataset) that includes missing values. Alternatively, you can declare integer columns as doubles (float64) whenever these columns may have missing values. See `Handling Integers With Missing Values <https://www.mlflow.org/docs/latest/models.html#handling-integers-with-missing-values>`_ for more details.\"\n",
      "2024/09/20 17:43:14 INFO mlflow.tracking._tracking_service.client: 🏃 View run monumental-ram-827 at: https://dagshub.com/PacoTinoco/nyc-taxi-time-prediction.mlflow/#/experiments/1/runs/6ec271e37c1747f7af75067b5da2c3e0.\n",
      "2024/09/20 17:43:14 INFO mlflow.tracking._tracking_service.client: 🧪 View experiment at: https://dagshub.com/PacoTinoco/nyc-taxi-time-prediction.mlflow/#/experiments/1.\n",
      "2024/09/20 17:43:16 WARNING mlflow.utils.autologging_utils: MLflow autologging encountered a warning: \"C:\\Users\\Francisco\\Downloads\\proyectoCienciaDeDatos2\\nyc-taxi-time-prediction\\.venv\\Lib\\site-packages\\mlflow\\types\\utils.py:407: UserWarning: Hint: Inferred schema contains integer column(s). Integer columns in Python cannot represent missing values. If your input data contains missing values at inference time, it will be encoded as floats and will cause a schema enforcement error. The best way to avoid this problem is to infer the model schema based on a realistic data sample (training dataset) that includes missing values. Alternatively, you can declare integer columns as doubles (float64) whenever these columns may have missing values. See `Handling Integers With Missing Values <https://www.mlflow.org/docs/latest/models.html#handling-integers-with-missing-values>`_ for more details.\"\n",
      "C:\\Users\\Francisco\\Downloads\\proyectoCienciaDeDatos2\\nyc-taxi-time-prediction\\.venv\\Lib\\site-packages\\sklearn\\metrics\\_regression.py:492: FutureWarning: 'squared' is deprecated in version 1.4 and will be removed in 1.6. To calculate the root mean squared error, use the function'root_mean_squared_error'.\n",
      "  warnings.warn(\n"
     ]
    },
    {
     "name": "stdout",
     "output_type": "stream",
     "text": [
      "RMSE Champion Model: 3.805264765828367\n",
      "RMSE Challenger Model: 3.0622049182672364\n"
     ]
    }
   ],
   "source": [
    "from sklearn.metrics import mean_squared_error\n",
    "\n",
    "# Entrenar el modelo champion\n",
    "model_champion.fit(X_train, y_train)\n",
    "\n",
    "# Predecir y calcular métrica para el modelo champion\n",
    "y_pred_champion = model_champion.predict(X_val)\n",
    "rmse_champion = mean_squared_error(y_val, y_pred_champion, squared=False)\n",
    "\n",
    "# Entrenar el modelo challenger\n",
    "model_challenger.fit(X_train, y_train)\n",
    "\n",
    "# Predecir y calcular métrica para el modelo challenger\n",
    "y_pred_challenger = model_challenger.predict(X_val)\n",
    "rmse_challenger = mean_squared_error(y_val, y_pred_challenger, squared=False)\n",
    "\n",
    "# Imprimir métricas\n",
    "print(f\"RMSE Champion Model: {rmse_champion}\")\n",
    "print(f\"RMSE Challenger Model: {rmse_challenger}\")\n"
   ],
   "metadata": {
    "collapsed": false,
    "ExecuteTime": {
     "end_time": "2024-09-20T23:43:17.358942300Z",
     "start_time": "2024-09-20T23:40:56.551333800Z"
    }
   },
   "id": "ce58609803f6c393",
   "execution_count": 67
  },
  {
   "cell_type": "code",
   "outputs": [
    {
     "name": "stderr",
     "output_type": "stream",
     "text": [
      "2024/09/20 17:43:31 INFO mlflow.tracking._tracking_service.client: 🏃 View run Model Comparison March 2024 at: https://dagshub.com/PacoTinoco/nyc-taxi-time-prediction.mlflow/#/experiments/1/runs/37087d4b7ffa467db57b645e7aafbf97.\n",
      "2024/09/20 17:43:31 INFO mlflow.tracking._tracking_service.client: 🧪 View experiment at: https://dagshub.com/PacoTinoco/nyc-taxi-time-prediction.mlflow/#/experiments/1.\n"
     ]
    }
   ],
   "source": [
    "import mlflow\n",
    "\n",
    "with mlflow.start_run(run_name=\"Model Comparison March 2024\"):\n",
    "    mlflow.log_metric(\"rmse_champion\", rmse_champion)\n",
    "    mlflow.log_metric(\"rmse_challenger\", rmse_challenger)\n"
   ],
   "metadata": {
    "collapsed": false,
    "ExecuteTime": {
     "end_time": "2024-09-20T23:43:31.316358700Z",
     "start_time": "2024-09-20T23:43:30.354743300Z"
    }
   },
   "id": "c82929a4ceb011b4",
   "execution_count": 68
  },
  {
   "cell_type": "code",
   "outputs": [],
   "source": [],
   "metadata": {
    "collapsed": false
   },
   "id": "ba9daeac31a5bd68"
  }
 ],
 "metadata": {
  "kernelspec": {
   "display_name": "Python 3",
   "language": "python",
   "name": "python3"
  },
  "language_info": {
   "codemirror_mode": {
    "name": "ipython",
    "version": 2
   },
   "file_extension": ".py",
   "mimetype": "text/x-python",
   "name": "python",
   "nbconvert_exporter": "python",
   "pygments_lexer": "ipython2",
   "version": "2.7.6"
  }
 },
 "nbformat": 4,
 "nbformat_minor": 5
}
